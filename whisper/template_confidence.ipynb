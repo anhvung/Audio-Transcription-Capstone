{
 "cells": [
  {
   "cell_type": "markdown",
   "metadata": {},
   "source": [
    "# Template confidence scores with Whisper"
   ]
  },
  {
   "cell_type": "code",
   "execution_count": 1,
   "metadata": {},
   "outputs": [
    {
     "name": "stderr",
     "output_type": "stream",
     "text": [
      "/Users/antonin/Documents/Projects/capstone/venv/lib/python3.9/site-packages/tqdm/auto.py:22: TqdmWarning: IProgress not found. Please update jupyter and ipywidgets. See https://ipywidgets.readthedocs.io/en/stable/user_install.html\n",
      "  from .autonotebook import tqdm as notebook_tqdm\n"
     ]
    }
   ],
   "source": [
    "import confidence_utils"
   ]
  },
  {
   "cell_type": "markdown",
   "metadata": {},
   "source": [
    "## 1. Load data"
   ]
  },
  {
   "cell_type": "code",
   "execution_count": 2,
   "metadata": {},
   "outputs": [],
   "source": [
    "from datasets import load_dataset"
   ]
  },
  {
   "cell_type": "code",
   "execution_count": 3,
   "metadata": {},
   "outputs": [
    {
     "name": "stderr",
     "output_type": "stream",
     "text": [
      "Found cached dataset fleurs (/Users/antonin/.cache/huggingface/datasets/google___fleurs/cmn_hans_cn/2.0.0/aabb39fb29739c495517ac904e2886819b6e344702f0a5b5283cb178b087c94a)\n",
      "100%|██████████| 3/3 [00:00<00:00, 88.45it/s]\n",
      "Found cached dataset fleurs (/Users/antonin/.cache/huggingface/datasets/google___fleurs/en_us/2.0.0/aabb39fb29739c495517ac904e2886819b6e344702f0a5b5283cb178b087c94a)\n",
      "100%|██████████| 3/3 [00:00<00:00, 123.06it/s]\n"
     ]
    }
   ],
   "source": [
    "fleurs_ch = load_dataset(\"google/fleurs\", \"cmn_hans_cn\")\n",
    "fleurs_en = load_dataset(\"google/fleurs\", \"en_us\")"
   ]
  },
  {
   "cell_type": "code",
   "execution_count": 4,
   "metadata": {},
   "outputs": [],
   "source": [
    "fleurs_ch = fleurs_ch.remove_columns(['id', 'num_samples', 'path', 'gender', 'lang_id', 'language', 'lang_group_id'])\n",
    "fleurs_en = fleurs_en.remove_columns(['id', 'num_samples', 'path', 'gender', 'lang_id', 'language', 'lang_group_id'])"
   ]
  },
  {
   "cell_type": "code",
   "execution_count": 5,
   "metadata": {},
   "outputs": [],
   "source": [
    "fleurs_ch_tiny = fleurs_ch['train'].select(range(10))\n",
    "fleurs_en_tiny = fleurs_en['train'].select(range(10))"
   ]
  },
  {
   "cell_type": "markdown",
   "metadata": {},
   "source": [
    "## 2. Load models"
   ]
  },
  {
   "cell_type": "code",
   "execution_count": 6,
   "metadata": {},
   "outputs": [],
   "source": [
    "processor_ch, model_ch = confidence_utils.load_whisper_with_confidence_scores('openai/whisper-base', 'Chinese')\n",
    "processor_en, model_en = confidence_utils.load_whisper_with_confidence_scores('openai/whisper-base', 'English')"
   ]
  },
  {
   "cell_type": "markdown",
   "metadata": {},
   "source": [
    "## 3. Run inference test"
   ]
  },
  {
   "cell_type": "code",
   "execution_count": 7,
   "metadata": {},
   "outputs": [
    {
     "name": "stderr",
     "output_type": "stream",
     "text": [
      "  0%|          | 0/10 [00:00<?, ?ba/s]/Users/antonin/Documents/Projects/capstone/Capstone-Audio-Transcription/whisper/confidence_utils.py:421: UserWarning: Neither `max_length` nor `max_new_tokens` has been set, `max_length` will default to 448 (`self.config.max_length`). Controlling `max_length` via the config is deprecated and `max_length` will be removed from the config in v5 of Transformers -- we recommend using `max_new_tokens` to control the maximum length of the generation.\n",
      "  warnings.warn(\n",
      "100%|██████████| 10/10 [00:08<00:00,  1.13ba/s]\n"
     ]
    }
   ],
   "source": [
    "model_en.config.forced_decoder_ids = processor_en.get_decoder_prompt_ids(language = \"en\", task = \"transcribe\")\n",
    "result_en = fleurs_en_tiny.map(confidence_utils.map_to_pred_and_confidence_scores, \n",
    "    fn_kwargs={\"processor\": processor_en, \"model\": model_en, \"lang\": \"en\"}, \n",
    "    batched=True, \n",
    "    remove_columns=['audio'], \n",
    "    batch_size = 1)"
   ]
  },
  {
   "cell_type": "code",
   "execution_count": 8,
   "metadata": {},
   "outputs": [
    {
     "name": "stderr",
     "output_type": "stream",
     "text": [
      "100%|██████████| 10/10 [00:10<00:00,  1.08s/ba]\n"
     ]
    }
   ],
   "source": [
    "model_ch.config.forced_decoder_ids = processor_ch.get_decoder_prompt_ids(language = \"zh\", task = \"transcribe\")\n",
    "result_ch = fleurs_ch_tiny.map(confidence_utils.map_to_pred_and_confidence_scores, \n",
    "    fn_kwargs={\"processor\": processor_ch, \"model\": model_ch, \"lang\": \"zh\"}, \n",
    "    batched=True, \n",
    "    remove_columns=['audio'], \n",
    "    batch_size = 1)"
   ]
  },
  {
   "cell_type": "markdown",
   "metadata": {},
   "source": [
    "## 4. Check results"
   ]
  },
  {
   "cell_type": "code",
   "execution_count": 9,
   "metadata": {},
   "outputs": [
    {
     "data": {
      "text/plain": [
       "{'transcription': 'although most agencies are willing to take on most regular bookings many agents specialise in particular types of travel budget ranges or destinations',\n",
       " 'raw_transcription': 'Although most agencies are willing to take on most regular bookings, many agents specialise in particular types of travel, budget ranges or destinations.',\n",
       " 'string_pred': ' Although most agencies are willing to take on most regular bookings, many agents specialize in particular types of travel, budget ranges or destinations.',\n",
       " 'tokens_pred': ['ĠAlthough',\n",
       "  'Ġmost',\n",
       "  'Ġagencies',\n",
       "  'Ġare',\n",
       "  'Ġwilling',\n",
       "  'Ġto',\n",
       "  'Ġtake',\n",
       "  'Ġon',\n",
       "  'Ġmost',\n",
       "  'Ġregular',\n",
       "  'Ġbook',\n",
       "  'ings',\n",
       "  ',',\n",
       "  'Ġmany',\n",
       "  'Ġagents',\n",
       "  'Ġspecialize',\n",
       "  'Ġin',\n",
       "  'Ġparticular',\n",
       "  'Ġtypes',\n",
       "  'Ġof',\n",
       "  'Ġtravel',\n",
       "  ',',\n",
       "  'Ġbudget',\n",
       "  'Ġranges',\n",
       "  'Ġor',\n",
       "  'Ġdestinations',\n",
       "  '.'],\n",
       " 'probs_tokens_pred': [0.9250670671463013,\n",
       "  0.9942331910133362,\n",
       "  0.9957910776138306,\n",
       "  0.9980700612068176,\n",
       "  0.9987837672233582,\n",
       "  0.9962041974067688,\n",
       "  0.9986448884010315,\n",
       "  0.9960179924964905,\n",
       "  0.9791111350059509,\n",
       "  0.9972122311592102,\n",
       "  0.9730985760688782,\n",
       "  0.9987047910690308,\n",
       "  0.8781136274337769,\n",
       "  0.9942634701728821,\n",
       "  0.9799398183822632,\n",
       "  0.9751821160316467,\n",
       "  0.9953521490097046,\n",
       "  0.9954516291618347,\n",
       "  0.9978210926055908,\n",
       "  0.9990383386611938,\n",
       "  0.9984039664268494,\n",
       "  0.8792927861213684,\n",
       "  0.9969279170036316,\n",
       "  0.989627480506897,\n",
       "  0.5045645833015442,\n",
       "  0.9918769598007202,\n",
       "  0.9602969884872437]}"
      ]
     },
     "execution_count": 9,
     "metadata": {},
     "output_type": "execute_result"
    }
   ],
   "source": [
    "result_en[0]"
   ]
  },
  {
   "cell_type": "markdown",
   "metadata": {},
   "source": [
    "## 5. Display results"
   ]
  },
  {
   "cell_type": "code",
   "execution_count": 10,
   "metadata": {},
   "outputs": [],
   "source": [
    "from IPython.display import HTML as html_print"
   ]
  },
  {
   "cell_type": "code",
   "execution_count": 15,
   "metadata": {},
   "outputs": [],
   "source": [
    "def print_tokens_with_confidence(prediction_dataset):\n",
    "    \"\"\"\n",
    "    Retreive html string to display tokens with confidence colors\n",
    "    \"\"\"\n",
    "\n",
    "    final_text = \"\"\n",
    "\n",
    "    def cstr(s, color='black'):\n",
    "        return \"<text style=color:{}>{}</text>\".format(color, s)\n",
    "\n",
    "    def map_float_rgb(f, m, M):\n",
    "        rgb = 'rgb({},{},0)'.format(int(255 * (1 - ((f - m) / (M - m)))), int(255 * (f - m) / (M - m)))\n",
    "        return rgb\n",
    "\n",
    "    for row_index in range(prediction_dataset.num_rows):\n",
    "        tokens = prediction_dataset[row_index]['tokens_pred']\n",
    "        probs_tokens = prediction_dataset[row_index]['probs_tokens_pred']\n",
    "\n",
    "\n",
    "        min_prob = min(probs_tokens)\n",
    "        max_prob = max(probs_tokens)\n",
    "\n",
    "        final_text += \"\".join([cstr(s=tokens[idx], color=map_float_rgb(probs_tokens[idx], min_prob, max_prob)) for idx in range(len(tokens))]) + \"<br>\"\n",
    "\n",
    "    return final_text"
   ]
  },
  {
   "cell_type": "code",
   "execution_count": 16,
   "metadata": {},
   "outputs": [
    {
     "data": {
      "text/html": [
       "<text style=color:rgb(38,216,0)>ĠAlthough</text><text style=color:rgb(2,252,0)>Ġmost</text><text style=color:rgb(1,253,0)>Ġagencies</text><text style=color:rgb(0,254,0)>Ġare</text><text style=color:rgb(0,254,0)>Ġwilling</text><text style=color:rgb(1,253,0)>Ġto</text><text style=color:rgb(0,254,0)>Ġtake</text><text style=color:rgb(1,253,0)>Ġon</text><text style=color:rgb(10,244,0)>Ġmost</text><text style=color:rgb(0,254,0)>Ġregular</text><text style=color:rgb(13,241,0)>Ġbook</text><text style=color:rgb(0,254,0)>ings</text><text style=color:rgb(62,192,0)>,</text><text style=color:rgb(2,252,0)>Ġmany</text><text style=color:rgb(9,245,0)>Ġagents</text><text style=color:rgb(12,242,0)>Ġspecialize</text><text style=color:rgb(1,253,0)>Ġin</text><text style=color:rgb(1,253,0)>Ġparticular</text><text style=color:rgb(0,254,0)>Ġtypes</text><text style=color:rgb(0,255,0)>Ġof</text><text style=color:rgb(0,254,0)>Ġtravel</text><text style=color:rgb(61,193,0)>,</text><text style=color:rgb(1,253,0)>Ġbudget</text><text style=color:rgb(4,250,0)>Ġranges</text><text style=color:rgb(255,0,0)>Ġor</text><text style=color:rgb(3,251,0)>Ġdestinations</text><text style=color:rgb(19,235,0)>.</text><br><text style=color:rgb(27,227,0)>ĠThe</text><text style=color:rgb(106,148,0)>Ġbeliever</text><text style=color:rgb(0,254,0)>Ġseeks</text><text style=color:rgb(3,251,0)>Ġa</text><text style=color:rgb(0,254,0)>Ġdirect</text><text style=color:rgb(0,254,0)>Ġexperience</text><text style=color:rgb(255,0,0)>Ġintuition</text><text style=color:rgb(6,248,0)>Ġor</text><text style=color:rgb(0,255,0)>Ġinsight</text><text style=color:rgb(2,252,0)>Ġinto</text><text style=color:rgb(47,207,0)>Ġdivine</text><text style=color:rgb(0,254,0)>Ġreality</text><text style=color:rgb(23,231,0)>,</text><text style=color:rgb(7,247,0)>Ġthe</text><text style=color:rgb(171,83,0)>Ġdeity</text><text style=color:rgb(174,80,0)>,</text><text style=color:rgb(4,250,0)>Ġor</text><text style=color:rgb(10,244,0)>Ġde</text><text style=color:rgb(0,254,0)>ities</text><text style=color:rgb(18,236,0)>.</text><br><text style=color:rgb(255,0,0)>ĠSome</text><text style=color:rgb(10,244,0)>Ġpeople</text><text style=color:rgb(10,244,0)>Ġbelieve</text><text style=color:rgb(24,230,0)>Ġthat</text><text style=color:rgb(35,219,0)>Ġexperiencing</text><text style=color:rgb(29,225,0)>Ġmany</text><text style=color:rgb(35,219,0)>Ġartific</text><text style=color:rgb(0,255,0)>ially</text><text style=color:rgb(35,219,0)>Ġinduced</text><text style=color:rgb(43,211,0)>Ġluc</text><text style=color:rgb(4,250,0)>id</text><text style=color:rgb(21,233,0)>Ġdreams</text><text style=color:rgb(185,69,0)>Ġoften</text><text style=color:rgb(11,243,0)>Ġenough</text><text style=color:rgb(13,241,0)>Ġcan</text><text style=color:rgb(3,251,0)>Ġbe</text><text style=color:rgb(9,245,0)>Ġvery</text><text style=color:rgb(11,243,0)>Ġexhausting</text><text style=color:rgb(224,30,0)>.</text><br><text style=color:rgb(19,235,0)>ĠThe</text><text style=color:rgb(2,252,0)>Ġlargest</text><text style=color:rgb(255,0,0)>Ġemployee</text><text style=color:rgb(39,215,0)>Ġsectors</text><text style=color:rgb(233,21,0)>Ġare</text><text style=color:rgb(20,234,0)>Ġprofessional</text><text style=color:rgb(1,253,0)>Ġservices</text><text style=color:rgb(90,164,0)>,</text><text style=color:rgb(34,220,0)>Ġgovernment</text><text style=color:rgb(60,194,0)>,</text><text style=color:rgb(11,243,0)>Ġfinance</text><text style=color:rgb(11,243,0)>,</text><text style=color:rgb(0,255,0)>Ġtrade</text><text style=color:rgb(223,31,0)>,</text><text style=color:rgb(2,252,0)>Ġand</text><text style=color:rgb(0,254,0)>Ġtourism</text><text style=color:rgb(35,219,0)>.</text><br><text style=color:rgb(19,235,0)>ĠThe</text><text style=color:rgb(51,203,0)>ĠCook</text><text style=color:rgb(7,247,0)>ĠIslands</text><text style=color:rgb(6,248,0)>Ġdo</text><text style=color:rgb(0,255,0)>Ġnot</text><text style=color:rgb(0,254,0)>Ġhave</text><text style=color:rgb(6,248,0)>Ġany</text><text style=color:rgb(1,253,0)>Ġcities</text><text style=color:rgb(114,140,0)>Ġthat</text><text style=color:rgb(0,254,0)>Ġare</text><text style=color:rgb(0,254,0)>Ġcomposed</text><text style=color:rgb(0,254,0)>Ġof</text><text style=color:rgb(62,192,0)>Ġ15</text><text style=color:rgb(0,254,0)>Ġdifferent</text><text style=color:rgb(1,253,0)>Ġislands</text><text style=color:rgb(46,208,0)>.</text><text style=color:rgb(8,246,0)>ĠThe</text><text style=color:rgb(5,249,0)>Ġmain</text><text style=color:rgb(1,253,0)>Ġones</text><text style=color:rgb(2,252,0)>Ġare</text><text style=color:rgb(142,112,0)>ĠRobert</text><text style=color:rgb(181,73,0)>ĠTong</text><text style=color:rgb(3,251,0)>a</text><text style=color:rgb(19,235,0)>Ġand</text><text style=color:rgb(170,84,0)>ĠI</text><text style=color:rgb(232,22,0)>ĠT</text><text style=color:rgb(255,0,0)>uts</text><text style=color:rgb(45,209,0)>aki</text><text style=color:rgb(20,234,0)>.</text><br><text style=color:rgb(207,47,0)>ĠHang</text><text style=color:rgb(26,228,0)>ul</text><text style=color:rgb(12,242,0)>Ġis</text><text style=color:rgb(28,226,0)>Ġonly</text><text style=color:rgb(48,206,0)>Ġpurposely</text><text style=color:rgb(1,253,0)>Ġinvented</text><text style=color:rgb(137,117,0)>Ġalphabet</text><text style=color:rgb(25,229,0)>Ġin</text><text style=color:rgb(1,253,0)>Ġpopular</text><text style=color:rgb(1,253,0)>Ġdaily</text><text style=color:rgb(2,252,0)>Ġuse</text><text style=color:rgb(36,218,0)>.</text><text style=color:rgb(16,238,0)>ĠThe</text><text style=color:rgb(1,253,0)>Ġalphabet</text><text style=color:rgb(0,254,0)>Ġwas</text><text style=color:rgb(0,254,0)>Ġinvented</text><text style=color:rgb(0,255,0)>Ġin</text><text style=color:rgb(6,248,0)>Ġ14</text><text style=color:rgb(2,252,0)>44</text><text style=color:rgb(7,247,0)>Ġduring</text><text style=color:rgb(2,252,0)>Ġthe</text><text style=color:rgb(0,254,0)>Ġreign</text><text style=color:rgb(2,252,0)>Ġof</text><text style=color:rgb(59,195,0)>ĠKing</text><text style=color:rgb(119,135,0)>ĠSe</text><text style=color:rgb(164,90,0)>j</text><text style=color:rgb(33,221,0)>ong</text><text style=color:rgb(58,196,0)>,</text><text style=color:rgb(7,247,0)>Ġ14</text><text style=color:rgb(202,52,0)>8</text><text style=color:rgb(117,137,0)>th</text><text style=color:rgb(255,0,0)>Ġname</text><text style=color:rgb(147,107,0)>,</text><text style=color:rgb(45,209,0)>Ġthrough</text><text style=color:rgb(3,251,0)>Ġ14</text><text style=color:rgb(2,252,0)>50</text><text style=color:rgb(16,238,0)>.</text><br><text style=color:rgb(255,0,0)>ĠU</text><text style=color:rgb(0,255,0)>.</text><text style=color:rgb(4,250,0)>S</text><text style=color:rgb(52,202,0)>.</text><text style=color:rgb(23,231,0)>ĠPresident</text><text style=color:rgb(4,250,0)>ĠGeorge</text><text style=color:rgb(5,249,0)>ĠW</text><text style=color:rgb(36,218,0)>.</text><text style=color:rgb(5,249,0)>ĠBush</text><text style=color:rgb(4,250,0)>Ġarrived</text><text style=color:rgb(2,252,0)>Ġin</text><text style=color:rgb(0,254,0)>ĠSingapore</text><text style=color:rgb(75,179,0)>Ġthe</text><text style=color:rgb(8,246,0)>Ġmorning</text><text style=color:rgb(3,251,0)>Ġof</text><text style=color:rgb(7,247,0)>ĠNovember</text><text style=color:rgb(8,246,0)>Ġ16</text><text style=color:rgb(209,45,0)>,</text><text style=color:rgb(3,251,0)>Ġbeginning</text><text style=color:rgb(3,251,0)>Ġa</text><text style=color:rgb(53,201,0)>Ġweek</text><text style=color:rgb(117,137,0)>long</text><text style=color:rgb(2,252,0)>Ġtour</text><text style=color:rgb(7,247,0)>Ġof</text><text style=color:rgb(2,252,0)>ĠAsia</text><text style=color:rgb(31,223,0)>.</text><br><text style=color:rgb(19,235,0)>ĠThe</text><text style=color:rgb(46,208,0)>Ġresearchers</text><text style=color:rgb(81,173,0)>Ġobserved</text><text style=color:rgb(9,245,0)>Ġcrystals</text><text style=color:rgb(0,254,0)>Ġformed</text><text style=color:rgb(0,255,0)>Ġin</text><text style=color:rgb(186,68,0)>Ġc</text><text style=color:rgb(148,106,0)>ation</text><text style=color:rgb(255,0,0)>ary</text><text style=color:rgb(136,118,0)>Ġand</text><text style=color:rgb(44,210,0)>Ġby</text><text style=color:rgb(1,253,0)>Ġthe</text><text style=color:rgb(23,231,0)>Ġaudition</text><text style=color:rgb(3,251,0)>Ġof</text><text style=color:rgb(106,148,0)>Ġmel</text><text style=color:rgb(5,249,0)>amine</text><text style=color:rgb(109,145,0)>Ġand</text><text style=color:rgb(206,48,0)>Ġson</text><text style=color:rgb(9,245,0)>oric</text><text style=color:rgb(1,253,0)>Ġacid</text><text style=color:rgb(26,228,0)>.</text><br><text style=color:rgb(70,184,0)>ĠFill</text><text style=color:rgb(2,252,0)>Ġyour</text><text style=color:rgb(6,248,0)>Ġhome</text><text style=color:rgb(0,254,0)>Ġwith</text><text style=color:rgb(2,252,0)>Ġa</text><text style=color:rgb(2,252,0)>Ġrich</text><text style=color:rgb(1,253,0)>Ġcoffee</text><text style=color:rgb(1,253,0)>Ġin</text><text style=color:rgb(0,254,0)>Ġthe</text><text style=color:rgb(0,254,0)>Ġmorning</text><text style=color:rgb(80,174,0)>Ġand</text><text style=color:rgb(3,251,0)>Ġsome</text><text style=color:rgb(3,251,0)>Ġrelaxing</text><text style=color:rgb(255,0,0)>Ġcham</text><text style=color:rgb(3,251,0)>om</text><text style=color:rgb(0,255,0)>ile</text><text style=color:rgb(8,246,0)>Ġtea</text><text style=color:rgb(1,253,0)>Ġat</text><text style=color:rgb(0,254,0)>Ġnight</text><text style=color:rgb(56,198,0)>.</text><br><text style=color:rgb(22,232,0)>ĠBlood</text><text style=color:rgb(255,0,0)>Ġgl</text><text style=color:rgb(0,255,0)>ows</text><text style=color:rgb(4,250,0)>Ġaway</text><text style=color:rgb(0,254,0)>Ġfrom</text><text style=color:rgb(7,247,0)>Ġthe</text><text style=color:rgb(45,209,0)>Ġheart</text><text style=color:rgb(166,88,0)>Ġand</text><text style=color:rgb(22,232,0)>Ġtubes</text><text style=color:rgb(168,86,0)>Ġcalled</text><text style=color:rgb(2,252,0)>Ġarteries</text><text style=color:rgb(70,184,0)>Ġand</text><text style=color:rgb(1,253,0)>Ġcomes</text><text style=color:rgb(0,254,0)>Ġback</text><text style=color:rgb(5,249,0)>Ġto</text><text style=color:rgb(6,248,0)>Ġthe</text><text style=color:rgb(1,253,0)>Ġheart</text><text style=color:rgb(4,250,0)>Ġand</text><text style=color:rgb(28,226,0)>Ġtubes</text><text style=color:rgb(4,250,0)>Ġcalled</text><text style=color:rgb(5,249,0)>Ġveins</text><text style=color:rgb(112,142,0)>.</text><text style=color:rgb(8,246,0)>ĠThe</text><text style=color:rgb(3,251,0)>Ġsmallest</text><text style=color:rgb(7,247,0)>Ġtubes</text><text style=color:rgb(17,237,0)>Ġare</text><text style=color:rgb(6,248,0)>Ġcalled</text><text style=color:rgb(27,227,0)>Ġcap</text><text style=color:rgb(37,217,0)>ill</text><text style=color:rgb(1,253,0)>aries</text><text style=color:rgb(21,233,0)>.</text><br>"
      ],
      "text/plain": [
       "<IPython.core.display.HTML object>"
      ]
     },
     "execution_count": 16,
     "metadata": {},
     "output_type": "execute_result"
    }
   ],
   "source": [
    "html_print(print_tokens_with_confidence(result_en))"
   ]
  },
  {
   "cell_type": "code",
   "execution_count": 17,
   "metadata": {},
   "outputs": [
    {
     "data": {
      "text/html": [
       "<text style=color:rgb(38,216,0)> Although</text><text style=color:rgb(2,252,0)> most</text><text style=color:rgb(1,253,0)> agencies</text><text style=color:rgb(0,254,0)> are</text><text style=color:rgb(0,254,0)> willing</text><text style=color:rgb(1,253,0)> to</text><text style=color:rgb(0,254,0)> take</text><text style=color:rgb(1,253,0)> on</text><text style=color:rgb(10,244,0)> most</text><text style=color:rgb(0,254,0)> regular</text><text style=color:rgb(13,241,0)> book</text><text style=color:rgb(0,254,0)>ings</text><text style=color:rgb(62,192,0)>,</text><text style=color:rgb(2,252,0)> many</text><text style=color:rgb(9,245,0)> agents</text><text style=color:rgb(12,242,0)> specialize</text><text style=color:rgb(1,253,0)> in</text><text style=color:rgb(1,253,0)> particular</text><text style=color:rgb(0,254,0)> types</text><text style=color:rgb(0,255,0)> of</text><text style=color:rgb(0,254,0)> travel</text><text style=color:rgb(61,193,0)>,</text><text style=color:rgb(1,253,0)> budget</text><text style=color:rgb(4,250,0)> ranges</text><text style=color:rgb(255,0,0)> or</text><text style=color:rgb(3,251,0)> destinations</text><text style=color:rgb(19,235,0)>.</text><br><text style=color:rgb(27,227,0)> The</text><text style=color:rgb(106,148,0)> believer</text><text style=color:rgb(0,254,0)> seeks</text><text style=color:rgb(3,251,0)> a</text><text style=color:rgb(0,254,0)> direct</text><text style=color:rgb(0,254,0)> experience</text><text style=color:rgb(255,0,0)> intuition</text><text style=color:rgb(6,248,0)> or</text><text style=color:rgb(0,255,0)> insight</text><text style=color:rgb(2,252,0)> into</text><text style=color:rgb(47,207,0)> divine</text><text style=color:rgb(0,254,0)> reality</text><text style=color:rgb(23,231,0)>,</text><text style=color:rgb(7,247,0)> the</text><text style=color:rgb(171,83,0)> deity</text><text style=color:rgb(174,80,0)>,</text><text style=color:rgb(4,250,0)> or</text><text style=color:rgb(10,244,0)> de</text><text style=color:rgb(0,254,0)>ities</text><text style=color:rgb(18,236,0)>.</text><br><text style=color:rgb(255,0,0)> Some</text><text style=color:rgb(10,244,0)> people</text><text style=color:rgb(10,244,0)> believe</text><text style=color:rgb(24,230,0)> that</text><text style=color:rgb(35,219,0)> experiencing</text><text style=color:rgb(29,225,0)> many</text><text style=color:rgb(35,219,0)> artific</text><text style=color:rgb(0,255,0)>ially</text><text style=color:rgb(35,219,0)> induced</text><text style=color:rgb(43,211,0)> luc</text><text style=color:rgb(4,250,0)>id</text><text style=color:rgb(21,233,0)> dreams</text><text style=color:rgb(185,69,0)> often</text><text style=color:rgb(11,243,0)> enough</text><text style=color:rgb(13,241,0)> can</text><text style=color:rgb(3,251,0)> be</text><text style=color:rgb(9,245,0)> very</text><text style=color:rgb(11,243,0)> exhausting</text><text style=color:rgb(224,30,0)>.</text><br><text style=color:rgb(19,235,0)> The</text><text style=color:rgb(2,252,0)> largest</text><text style=color:rgb(255,0,0)> employee</text><text style=color:rgb(39,215,0)> sectors</text><text style=color:rgb(233,21,0)> are</text><text style=color:rgb(20,234,0)> professional</text><text style=color:rgb(1,253,0)> services</text><text style=color:rgb(90,164,0)>,</text><text style=color:rgb(34,220,0)> government</text><text style=color:rgb(60,194,0)>,</text><text style=color:rgb(11,243,0)> finance</text><text style=color:rgb(11,243,0)>,</text><text style=color:rgb(0,255,0)> trade</text><text style=color:rgb(223,31,0)>,</text><text style=color:rgb(2,252,0)> and</text><text style=color:rgb(0,254,0)> tourism</text><text style=color:rgb(35,219,0)>.</text><br><text style=color:rgb(19,235,0)> The</text><text style=color:rgb(51,203,0)> Cook</text><text style=color:rgb(7,247,0)> Islands</text><text style=color:rgb(6,248,0)> do</text><text style=color:rgb(0,255,0)> not</text><text style=color:rgb(0,254,0)> have</text><text style=color:rgb(6,248,0)> any</text><text style=color:rgb(1,253,0)> cities</text><text style=color:rgb(114,140,0)> that</text><text style=color:rgb(0,254,0)> are</text><text style=color:rgb(0,254,0)> composed</text><text style=color:rgb(0,254,0)> of</text><text style=color:rgb(62,192,0)> 15</text><text style=color:rgb(0,254,0)> different</text><text style=color:rgb(1,253,0)> islands</text><text style=color:rgb(46,208,0)>.</text><text style=color:rgb(8,246,0)> The</text><text style=color:rgb(5,249,0)> main</text><text style=color:rgb(1,253,0)> ones</text><text style=color:rgb(2,252,0)> are</text><text style=color:rgb(142,112,0)> Robert</text><text style=color:rgb(181,73,0)> Tong</text><text style=color:rgb(3,251,0)>a</text><text style=color:rgb(19,235,0)> and</text><text style=color:rgb(170,84,0)> I</text><text style=color:rgb(232,22,0)> T</text><text style=color:rgb(255,0,0)>uts</text><text style=color:rgb(45,209,0)>aki</text><text style=color:rgb(20,234,0)>.</text><br><text style=color:rgb(207,47,0)> Hang</text><text style=color:rgb(26,228,0)>ul</text><text style=color:rgb(12,242,0)> is</text><text style=color:rgb(28,226,0)> only</text><text style=color:rgb(48,206,0)> purposely</text><text style=color:rgb(1,253,0)> invented</text><text style=color:rgb(137,117,0)> alphabet</text><text style=color:rgb(25,229,0)> in</text><text style=color:rgb(1,253,0)> popular</text><text style=color:rgb(1,253,0)> daily</text><text style=color:rgb(2,252,0)> use</text><text style=color:rgb(36,218,0)>.</text><text style=color:rgb(16,238,0)> The</text><text style=color:rgb(1,253,0)> alphabet</text><text style=color:rgb(0,254,0)> was</text><text style=color:rgb(0,254,0)> invented</text><text style=color:rgb(0,255,0)> in</text><text style=color:rgb(6,248,0)> 14</text><text style=color:rgb(2,252,0)>44</text><text style=color:rgb(7,247,0)> during</text><text style=color:rgb(2,252,0)> the</text><text style=color:rgb(0,254,0)> reign</text><text style=color:rgb(2,252,0)> of</text><text style=color:rgb(59,195,0)> King</text><text style=color:rgb(119,135,0)> Se</text><text style=color:rgb(164,90,0)>j</text><text style=color:rgb(33,221,0)>ong</text><text style=color:rgb(58,196,0)>,</text><text style=color:rgb(7,247,0)> 14</text><text style=color:rgb(202,52,0)>8</text><text style=color:rgb(117,137,0)>th</text><text style=color:rgb(255,0,0)> name</text><text style=color:rgb(147,107,0)>,</text><text style=color:rgb(45,209,0)> through</text><text style=color:rgb(3,251,0)> 14</text><text style=color:rgb(2,252,0)>50</text><text style=color:rgb(16,238,0)>.</text><br><text style=color:rgb(255,0,0)> U</text><text style=color:rgb(0,255,0)>.</text><text style=color:rgb(4,250,0)>S</text><text style=color:rgb(52,202,0)>.</text><text style=color:rgb(23,231,0)> President</text><text style=color:rgb(4,250,0)> George</text><text style=color:rgb(5,249,0)> W</text><text style=color:rgb(36,218,0)>.</text><text style=color:rgb(5,249,0)> Bush</text><text style=color:rgb(4,250,0)> arrived</text><text style=color:rgb(2,252,0)> in</text><text style=color:rgb(0,254,0)> Singapore</text><text style=color:rgb(75,179,0)> the</text><text style=color:rgb(8,246,0)> morning</text><text style=color:rgb(3,251,0)> of</text><text style=color:rgb(7,247,0)> November</text><text style=color:rgb(8,246,0)> 16</text><text style=color:rgb(209,45,0)>,</text><text style=color:rgb(3,251,0)> beginning</text><text style=color:rgb(3,251,0)> a</text><text style=color:rgb(53,201,0)> week</text><text style=color:rgb(117,137,0)>long</text><text style=color:rgb(2,252,0)> tour</text><text style=color:rgb(7,247,0)> of</text><text style=color:rgb(2,252,0)> Asia</text><text style=color:rgb(31,223,0)>.</text><br><text style=color:rgb(19,235,0)> The</text><text style=color:rgb(46,208,0)> researchers</text><text style=color:rgb(81,173,0)> observed</text><text style=color:rgb(9,245,0)> crystals</text><text style=color:rgb(0,254,0)> formed</text><text style=color:rgb(0,255,0)> in</text><text style=color:rgb(186,68,0)> c</text><text style=color:rgb(148,106,0)>ation</text><text style=color:rgb(255,0,0)>ary</text><text style=color:rgb(136,118,0)> and</text><text style=color:rgb(44,210,0)> by</text><text style=color:rgb(1,253,0)> the</text><text style=color:rgb(23,231,0)> audition</text><text style=color:rgb(3,251,0)> of</text><text style=color:rgb(106,148,0)> mel</text><text style=color:rgb(5,249,0)>amine</text><text style=color:rgb(109,145,0)> and</text><text style=color:rgb(206,48,0)> son</text><text style=color:rgb(9,245,0)>oric</text><text style=color:rgb(1,253,0)> acid</text><text style=color:rgb(26,228,0)>.</text><br><text style=color:rgb(70,184,0)> Fill</text><text style=color:rgb(2,252,0)> your</text><text style=color:rgb(6,248,0)> home</text><text style=color:rgb(0,254,0)> with</text><text style=color:rgb(2,252,0)> a</text><text style=color:rgb(2,252,0)> rich</text><text style=color:rgb(1,253,0)> coffee</text><text style=color:rgb(1,253,0)> in</text><text style=color:rgb(0,254,0)> the</text><text style=color:rgb(0,254,0)> morning</text><text style=color:rgb(80,174,0)> and</text><text style=color:rgb(3,251,0)> some</text><text style=color:rgb(3,251,0)> relaxing</text><text style=color:rgb(255,0,0)> cham</text><text style=color:rgb(3,251,0)>om</text><text style=color:rgb(0,255,0)>ile</text><text style=color:rgb(8,246,0)> tea</text><text style=color:rgb(1,253,0)> at</text><text style=color:rgb(0,254,0)> night</text><text style=color:rgb(56,198,0)>.</text><br><text style=color:rgb(22,232,0)> Blood</text><text style=color:rgb(255,0,0)> gl</text><text style=color:rgb(0,255,0)>ows</text><text style=color:rgb(4,250,0)> away</text><text style=color:rgb(0,254,0)> from</text><text style=color:rgb(7,247,0)> the</text><text style=color:rgb(45,209,0)> heart</text><text style=color:rgb(166,88,0)> and</text><text style=color:rgb(22,232,0)> tubes</text><text style=color:rgb(168,86,0)> called</text><text style=color:rgb(2,252,0)> arteries</text><text style=color:rgb(70,184,0)> and</text><text style=color:rgb(1,253,0)> comes</text><text style=color:rgb(0,254,0)> back</text><text style=color:rgb(5,249,0)> to</text><text style=color:rgb(6,248,0)> the</text><text style=color:rgb(1,253,0)> heart</text><text style=color:rgb(4,250,0)> and</text><text style=color:rgb(28,226,0)> tubes</text><text style=color:rgb(4,250,0)> called</text><text style=color:rgb(5,249,0)> veins</text><text style=color:rgb(112,142,0)>.</text><text style=color:rgb(8,246,0)> The</text><text style=color:rgb(3,251,0)> smallest</text><text style=color:rgb(7,247,0)> tubes</text><text style=color:rgb(17,237,0)> are</text><text style=color:rgb(6,248,0)> called</text><text style=color:rgb(27,227,0)> cap</text><text style=color:rgb(37,217,0)>ill</text><text style=color:rgb(1,253,0)>aries</text><text style=color:rgb(21,233,0)>.</text><br>"
      ],
      "text/plain": [
       "<IPython.core.display.HTML object>"
      ]
     },
     "execution_count": 17,
     "metadata": {},
     "output_type": "execute_result"
    }
   ],
   "source": [
    "# since we know the character Ġ in a token stands for a space, we can replace it\n",
    "html_print(print_tokens_with_confidence(result_en).replace('Ġ', ' '))"
   ]
  },
  {
   "cell_type": "code",
   "execution_count": 13,
   "metadata": {},
   "outputs": [
    {
     "data": {
      "text/html": [
       "<text style=color:rgb(11,243,0)>å¦Ĥæŀľ</text> <text style=color:rgb(144,110,0)>ä»ĸä»¬</text> <text style=color:rgb(3,251,0)>ä½¿</text> <text style=color:rgb(0,255,0)>çĶ¨</text> <text style=color:rgb(33,221,0)>èĪ</text> <text style=color:rgb(0,254,0)>ª</text> <text style=color:rgb(0,254,0)>ç©º</text> <text style=color:rgb(4,250,0)>çļĦ</text> <text style=color:rgb(0,254,0)>æĸ¹</text> <text style=color:rgb(1,253,0)>å¼ı</text> <text style=color:rgb(17,237,0)>è¿</text> <text style=color:rgb(0,254,0)>Ĳ</text> <text style=color:rgb(89,165,0)>è¾</text> <text style=color:rgb(6,248,0)>ĵ</text> <text style=color:rgb(50,204,0)>è´</text> <text style=color:rgb(1,253,0)>§</text> <text style=color:rgb(49,205,0)>çī©</text> <text style=color:rgb(74,180,0)>åľ¨</text> <text style=color:rgb(4,250,0)>æŁ</text> <text style=color:rgb(1,253,0)>Ĳ</text> <text style=color:rgb(61,193,0)>äºĽ</text> <text style=color:rgb(79,175,0)>èĪ</text> <text style=color:rgb(0,254,0)>ª</text> <text style=color:rgb(150,104,0)>è¡Į</text> <text style=color:rgb(186,68,0)>ä¸Ĭ</text> <text style=color:rgb(85,169,0)>åı¯èĥ½</text> <text style=color:rgb(3,251,0)>è¦ģ</text> <text style=color:rgb(1,253,0)>èĬ±</text> <text style=color:rgb(1,253,0)>åĩ</text> <text style=color:rgb(0,254,0)>ł</text> <text style=color:rgb(1,253,0)>å¤©</text> <text style=color:rgb(12,242,0)>çļĦ</text> <text style=color:rgb(1,253,0)>æĹ¶éĹ´</text> <text style=color:rgb(154,100,0)>å¸¸</text> <text style=color:rgb(255,0,0)>è§</text> <text style=color:rgb(101,153,0)>Ī</text> <text style=color:rgb(120,134,0)>è°¢</text> <text style=color:rgb(1,253,0)>è´</text> <text style=color:rgb(2,252,0)>§</text> <text style=color:rgb(2,252,0)>åĴĮ</text> <text style=color:rgb(4,250,0)>éĢļ</text> <text style=color:rgb(4,250,0)>åħ³</text><br><text style=color:rgb(47,207,0)>çķ¶</text> <text style=color:rgb(2,252,0)>æĻĤ</text> <text style=color:rgb(110,144,0)>å¤§</text> <text style=color:rgb(166,88,0)>å·´</text> <text style=color:rgb(30,224,0)>è»Ĭ</text> <text style=color:rgb(32,222,0)>æŃ£</text> <text style=color:rgb(2,252,0)>åľ¨</text> <text style=color:rgb(1,253,0)>éĸĭ</text> <text style=color:rgb(117,137,0)>ç¶²</text> <text style=color:rgb(226,28,0)>å¯Ĩ</text> <text style=color:rgb(72,182,0)>èĺ</text> <text style=color:rgb(0,254,0)>ĩ</text> <text style=color:rgb(188,66,0)>éĩĮ</text> <text style=color:rgb(33,221,0)>å·ŀ</text> <text style=color:rgb(214,40,0)>èģ</text> <text style=color:rgb(0,254,0)>ĸ</text> <text style=color:rgb(237,17,0)>éĻ</text> <text style=color:rgb(7,247,0)>¸</text> <text style=color:rgb(255,0,0)>æĦı</text> <text style=color:rgb(4,250,0)>èŃĺ</text> <text style=color:rgb(7,247,0)>çļĦ</text> <text style=color:rgb(108,146,0)>åħŃ</text> <text style=color:rgb(172,82,0)>èµ·</text> <text style=color:rgb(35,219,0)>é</text> <text style=color:rgb(0,254,0)>İ</text> <text style=color:rgb(0,254,0)>®</text> <text style=color:rgb(189,65,0)>è§Ģçľ¾</text> <text style=color:rgb(7,247,0)>æŃ£</text> <text style=color:rgb(0,255,0)>åľ¨</text> <text style=color:rgb(12,242,0)>éĤ£</text> <text style=color:rgb(57,197,0)>è£¡</text> <text style=color:rgb(3,251,0)>çŃī</text> <text style=color:rgb(0,254,0)>å¾ħ</text> <text style=color:rgb(93,161,0)>æ¨Ĥ</text> <text style=color:rgb(0,254,0)>éļĬ</text> <text style=color:rgb(18,236,0)>çļĦ</text> <text style=color:rgb(2,252,0)>è¡¨</text> <text style=color:rgb(0,254,0)>æ¼Ķ</text> <text style=color:rgb(154,100,0)>Ġ</text> <text style=color:rgb(107,147,0)>åģļ</text> <text style=color:rgb(74,180,0)>çĦ¡</text> <text style=color:rgb(182,72,0)>èĻ</text> <text style=color:rgb(14,240,0)>Ľ</text> <text style=color:rgb(123,131,0)>åĸľ</text><br><text style=color:rgb(183,71,0)>éĢĻ</text> <text style=color:rgb(230,24,0)>ä¹ĭ</text> <text style=color:rgb(190,64,0)>éĸĵ</text> <text style=color:rgb(87,167,0)>å°į</text> <text style=color:rgb(252,2,0)>æľī</text> <text style=color:rgb(16,238,0)>éĺ¿</text> <text style=color:rgb(13,241,0)>æĭī</text> <text style=color:rgb(8,246,0)>å¤«</text> <text style=color:rgb(15,239,0)>çī¹</text> <text style=color:rgb(170,84,0)>éĩĮ</text> <text style=color:rgb(22,232,0)>æł¼</text> <text style=color:rgb(211,43,0)>å¨</text> <text style=color:rgb(6,248,0)>ĥ</text> <text style=color:rgb(132,122,0)>æĿ¾</text> <text style=color:rgb(96,158,0)>å¸</text> <text style=color:rgb(15,239,0)>¥</text> <text style=color:rgb(216,38,0)>å¯</text> <text style=color:rgb(4,250,0)>§</text> <text style=color:rgb(154,100,0)>ä»ĸæĺ¯</text> <text style=color:rgb(111,143,0)>è¾</text> <text style=color:rgb(0,254,0)>²</text> <text style=color:rgb(255,0,0)>å§Ķ</text> <text style=color:rgb(10,244,0)>äºº</text> <text style=color:rgb(254,0,0)>,</text> <text style=color:rgb(238,16,0)>å¿Ĺ</text> <text style=color:rgb(2,252,0)>åľ¨</text> <text style=color:rgb(161,93,0)>å°ĩ</text> <text style=color:rgb(0,254,0)>è¾</text> <text style=color:rgb(0,255,0)>²</text> <text style=color:rgb(7,247,0)>å§Ķ</text> <text style=color:rgb(8,246,0)>å¾ŀ</text> <text style=color:rgb(122,132,0)>ä¸</text> <text style=color:rgb(0,254,0)>¹</text> <text style=color:rgb(4,250,0)>éº</text> <text style=color:rgb(2,252,0)>¥</text> <text style=color:rgb(57,197,0)>æīĭ</text> <text style=color:rgb(8,246,0)>ä¸Ń</text> <text style=color:rgb(169,85,0)>å¤ļ</text> <text style=color:rgb(7,247,0)>åĽŀä¾Ĩ</text><br><text style=color:rgb(18,236,0)>ä½Ĩ</text> <text style=color:rgb(2,252,0)>åľ¨</text> <text style=color:rgb(20,234,0)>èı¯</text> <text style=color:rgb(99,155,0)>ç¢</text> <text style=color:rgb(1,253,0)>©</text> <text style=color:rgb(19,235,0)>çį</text> <text style=color:rgb(0,255,0)>²</text> <text style=color:rgb(0,254,0)>å¾Ĺ</text> <text style=color:rgb(70,184,0)>åı°çģ£</text> <text style=color:rgb(24,230,0)>è¡Į</text> <text style=color:rgb(0,254,0)>æĶ¿</text> <text style=color:rgb(1,253,0)>éĻ¢</text> <text style=color:rgb(149,105,0)>éł</text> <text style=color:rgb(12,242,0)>Ĵ</text> <text style=color:rgb(5,249,0)>çĻ¼</text> <text style=color:rgb(15,239,0)>çļĦ</text> <text style=color:rgb(237,17,0)>äºĮ</text> <text style=color:rgb(223,31,0)>éĽ</text> <text style=color:rgb(0,254,0)>¶</text> <text style=color:rgb(40,214,0)>éĽ</text> <text style=color:rgb(0,254,0)>¶</text> <text style=color:rgb(10,244,0)>ä¸ĥ</text> <text style=color:rgb(52,202,0)>å¹´</text> <text style=color:rgb(52,202,0)>åı°çģ£</text> <text style=color:rgb(153,101,0)>æľī</text> <text style=color:rgb(86,168,0)>åº</text> <text style=color:rgb(1,253,0)>ı</text> <text style=color:rgb(8,246,0)>çĻ¼</text> <text style=color:rgb(0,254,0)>å±ķ</text> <text style=color:rgb(255,0,0)>çĦ¶å¾Į</text> <text style=color:rgb(126,128,0)>Ġ</text> <text style=color:rgb(114,140,0)>æ¯Ķ</text> <text style=color:rgb(106,148,0)>åŁºæľ¬</text> <text style=color:rgb(44,210,0)>éĽ»</text> <text style=color:rgb(194,60,0)>éĩı</text> <text style=color:rgb(87,167,0)>çļĦ</text> <text style=color:rgb(5,249,0)>æ¶Ī</text> <text style=color:rgb(5,249,0)>è²»</text> <text style=color:rgb(15,239,0)>å¸Ĥ</text> <text style=color:rgb(1,253,0)>åł´</text> <text style=color:rgb(7,247,0)>å°ĩ</text> <text style=color:rgb(7,247,0)>çĻ¼</text> <text style=color:rgb(4,250,0)>çĶŁ</text> <text style=color:rgb(179,75,0)>æł¹</text> <text style=color:rgb(0,254,0)>æľ¬</text> <text style=color:rgb(17,237,0)>æĢ§</text> <text style=color:rgb(94,160,0)>çļĦ</text> <text style=color:rgb(1,253,0)>è®Ĭ</text> <text style=color:rgb(0,254,0)>åĮĸ</text><br><text style=color:rgb(111,143,0)>å¦Ĥæŀľä½ł</text> <text style=color:rgb(27,227,0)>åıĳ</text> <text style=color:rgb(18,236,0)>çİ°</text> <text style=color:rgb(13,241,0)>èĩªå·±</text> <text style=color:rgb(134,120,0)>ä¼ļ</text> <text style=color:rgb(7,247,0)>åľ¨</text> <text style=color:rgb(5,249,0)>çĿ¡</text> <text style=color:rgb(0,254,0)>è§ī</text> <text style=color:rgb(8,246,0)>æĹ¶</text> <text style=color:rgb(126,128,0)>éĩį</text> <text style=color:rgb(198,56,0)>ç§</text> <text style=color:rgb(5,249,0)>°</text> <text style=color:rgb(137,117,0)>éĹ</text> <text style=color:rgb(0,255,0)>¹</text> <text style=color:rgb(107,147,0)>ä¸Ń</text> <text style=color:rgb(61,193,0)>åı¯ä»¥</text> <text style=color:rgb(178,76,0)>è§ģ</text> <text style=color:rgb(0,254,0)>éĹ</text> <text style=color:rgb(0,254,0)>¹</text> <text style=color:rgb(3,251,0)>ä¸Ń</text> <text style=color:rgb(206,48,0)>é£İ</text> <text style=color:rgb(62,192,0)>çļĦ</text> <text style=color:rgb(223,31,0)>é»</text> <text style=color:rgb(0,254,0)>Ħ</text> <text style=color:rgb(14,240,0)>éĩĳ</text> <text style=color:rgb(10,244,0)>çļĦ</text> <text style=color:rgb(0,254,0)>åı¦</text> <text style=color:rgb(1,253,0)>ä¸Ģ</text> <text style=color:rgb(107,147,0)>è¾¹</text> <text style=color:rgb(21,233,0)>éĢ</text> <text style=color:rgb(0,254,0)>¼</text> <text style=color:rgb(52,202,0)>è¿</text> <text style=color:rgb(0,254,0)>«</text> <text style=color:rgb(1,253,0)>èĩªå·±</text> <text style=color:rgb(9,245,0)>ä¸ĭ</text> <text style=color:rgb(43,211,0)>åľº</text> <text style=color:rgb(14,240,0)>åİ»</text> <text style=color:rgb(255,0,0)>åħ³</text> <text style=color:rgb(0,254,0)>éĹ</text> <text style=color:rgb(0,254,0)>¹</text> <text style=color:rgb(2,252,0)>ä¸Ń</text><br><text style=color:rgb(90,164,0)>æ²</text> <text style=color:rgb(0,255,0)>Ļ</text> <text style=color:rgb(29,225,0)>çĻ¼</text> <text style=color:rgb(255,0,0)>èģ</text> <text style=color:rgb(12,242,0)>°</text> <text style=color:rgb(239,15,0)>è«ĸ</text> <text style=color:rgb(188,66,0)>æĪĲ</text> <text style=color:rgb(108,146,0)>ç«ĭ</text> <text style=color:rgb(7,247,0)>æĸ¼</text> <text style=color:rgb(167,87,0)>200</text> <text style=color:rgb(0,254,0)>4</text> <text style=color:rgb(3,251,0)>å¹´</text> <text style=color:rgb(19,235,0)>1</text> <text style=color:rgb(1,253,0)>æľĪ</text> <text style=color:rgb(159,95,0)>åľ¨</text> <text style=color:rgb(1,253,0)>éĤ£</text> <text style=color:rgb(1,253,0)>ä¹ĭåīį</text> <text style=color:rgb(158,96,0)>è¨Ī</text> <text style=color:rgb(0,254,0)>ç®Ĺ</text> <text style=color:rgb(34,220,0)>æ©Ł</text> <text style=color:rgb(54,200,0)>ç¨ĭ</text> <text style=color:rgb(232,22,0)>åıĸ</text> <text style=color:rgb(162,92,0)>åĵ¡</text> <text style=color:rgb(11,243,0)>åĩ</text> <text style=color:rgb(1,253,0)>±</text> <text style=color:rgb(218,36,0)>å¸Į</text> <text style=color:rgb(187,67,0)>èĬ</text> <text style=color:rgb(7,247,0)>¬</text> <text style=color:rgb(153,101,0)>éł</text> <text style=color:rgb(0,254,0)>ĵ</text> <text style=color:rgb(42,212,0)>æī¾</text> <text style=color:rgb(30,224,0)>åĪ°äºĨ</text> <text style=color:rgb(54,200,0)>é£Ľ</text> <text style=color:rgb(232,22,0)>å¾Ģ</text> <text style=color:rgb(123,131,0)>åĨ</text> <text style=color:rgb(0,254,0)>°</text> <text style=color:rgb(7,247,0)>å³¶</text> <text style=color:rgb(7,247,0)>çļĦ</text> <text style=color:rgb(42,212,0)>éĢ£</text> <text style=color:rgb(249,5,0)>é</text> <text style=color:rgb(87,167,0)>ĳ</text> <text style=color:rgb(53,201,0)>ĳ</text> <text style=color:rgb(147,107,0)>éĤĦ</text> <text style=color:rgb(93,161,0)>çıŃ</text> <text style=color:rgb(63,191,0)>ä½Ĩ</text> <text style=color:rgb(1,253,0)>åį</text> <text style=color:rgb(0,254,0)>»</text> <text style=color:rgb(7,247,0)>æ²Ĵæľī</text> <text style=color:rgb(96,158,0)>ä½ı</text> <text style=color:rgb(22,232,0)>æīĢ</text><br><text style=color:rgb(49,205,0)>34</text> <text style=color:rgb(8,246,0)>%</text> <text style=color:rgb(16,238,0)>çļĦ</text> <text style=color:rgb(38,216,0)>åıĹ</text> <text style=color:rgb(155,99,0)>è¨</text> <text style=color:rgb(0,254,0)>ª</text> <text style=color:rgb(0,255,0)>èĢħ</text> <text style=color:rgb(45,209,0)>ä¸Ģ</text> <text style=color:rgb(19,235,0)>èĩ</text> <text style=color:rgb(0,254,0)>´</text> <text style=color:rgb(17,237,0)>è¡¨ç¤º</text> <text style=color:rgb(116,138,0)>å¸ĮæľĽ</text> <text style=color:rgb(11,243,0)>èĭ±</text> <text style=color:rgb(5,249,0)>åľĭ</text> <text style=color:rgb(5,249,0)>å¥³</text> <text style=color:rgb(2,252,0)>çİĭ</text> <text style=color:rgb(43,211,0)>ä¼Ĭ</text> <text style=color:rgb(177,77,0)>åĪ©</text> <text style=color:rgb(127,127,0)>èİ</text> <text style=color:rgb(2,252,0)>İ</text> <text style=color:rgb(170,84,0)>çĻ½</text> <text style=color:rgb(202,52,0)>æļ</text> <text style=color:rgb(5,249,0)>Ĺ</text> <text style=color:rgb(37,217,0)>ç¤º</text> <text style=color:rgb(8,246,0)>æĪĲ</text> <text style=color:rgb(3,251,0)>çĤº</text> <text style=color:rgb(23,231,0)>æ¾</text> <text style=color:rgb(0,254,0)>³</text> <text style=color:rgb(0,254,0)>å¤§</text> <text style=color:rgb(1,253,0)>åĪ©</text> <text style=color:rgb(1,253,0)>äºŀ</text> <text style=color:rgb(33,221,0)>çļĦ</text> <text style=color:rgb(5,249,0)>æľĢå¾Į</text> <text style=color:rgb(13,241,0)>ä¸Ģ</text> <text style=color:rgb(0,254,0)>ä»»</text> <text style=color:rgb(255,0,0)>è»į</text> <text style=color:rgb(10,244,0)>ä¸»</text><br><text style=color:rgb(21,233,0)>åľ¨</text> <text style=color:rgb(35,219,0)>æĪ°</text> <text style=color:rgb(3,251,0)>çĪ</text> <text style=color:rgb(0,254,0)>Ń</text> <text style=color:rgb(14,240,0)>éĸĭå§ĭ</text> <text style=color:rgb(36,218,0)>æĻĤ</text> <text style=color:rgb(212,42,0)>Ġ</text> <text style=color:rgb(66,188,0)>ä»ĸåĢĳ</text> <text style=color:rgb(6,248,0)>å¤§</text> <text style=color:rgb(4,250,0)>å¤ļ</text> <text style=color:rgb(7,247,0)>åľ¨</text> <text style=color:rgb(0,254,0)>æµ·</text> <text style=color:rgb(4,250,0)>éĿ¢</text> <text style=color:rgb(4,250,0)>ä¸Ĭ</text> <text style=color:rgb(61,193,0)>è¡Į</text> <text style=color:rgb(123,131,0)>ä½Ĩ</text> <text style=color:rgb(2,252,0)>éļ¨</text> <text style=color:rgb(7,247,0)>èĳĹ</text> <text style=color:rgb(26,228,0)>éĽ</text> <text style=color:rgb(0,254,0)>·</text> <text style=color:rgb(5,249,0)>éģĶ</text> <text style=color:rgb(68,186,0)>çļĦ</text> <text style=color:rgb(4,250,0)>çĻ¼</text> <text style=color:rgb(2,252,0)>å±ķ</text> <text style=color:rgb(13,241,0)>åĴĮ</text> <text style=color:rgb(16,238,0)>ç²¾</text> <text style=color:rgb(34,220,0)>ç¢º</text> <text style=color:rgb(0,255,0)>åº¦</text> <text style=color:rgb(108,146,0)>çļĦ</text> <text style=color:rgb(2,252,0)>æıĲ</text> <text style=color:rgb(0,254,0)>é«ĺ</text> <text style=color:rgb(218,36,0)>åīį</text> <text style=color:rgb(255,0,0)>åģľ</text> <text style=color:rgb(73,181,0)>è¢«</text> <text style=color:rgb(23,231,0)>è¿</text> <text style=color:rgb(0,254,0)>«</text> <text style=color:rgb(157,97,0)>æ½</text> <text style=color:rgb(2,252,0)>Ľ</text> <text style=color:rgb(0,254,0)>åħ¥</text> <text style=color:rgb(3,251,0)>æ°´</text> <text style=color:rgb(66,188,0)>ä¸ĭ</text> <text style=color:rgb(184,70,0)>ä»¥</text> <text style=color:rgb(18,236,0)>åħ</text> <text style=color:rgb(0,254,0)>į</text> <text style=color:rgb(15,239,0)>è¢«</text> <text style=color:rgb(12,242,0)>çĻ¼çı¾</text><br><text style=color:rgb(227,27,0)>æŃĮ</text> <text style=color:rgb(0,255,0)>çī¹</text> <text style=color:rgb(255,0,0)>æĻĤ</text> <text style=color:rgb(73,181,0)>é¢¨</text> <text style=color:rgb(9,245,0)>æł¼</text> <text style=color:rgb(42,212,0)>åľ¨</text> <text style=color:rgb(148,106,0)>åįģ</text> <text style=color:rgb(49,205,0)>åŃĹ</text> <text style=color:rgb(18,236,0)>åįģ</text> <text style=color:rgb(18,236,0)>ä¸Ģ</text> <text style=color:rgb(123,131,0)>ä¸ĸ</text> <text style=color:rgb(24,230,0)>ç´Ģ</text> <text style=color:rgb(33,221,0)>åĪ°</text> <text style=color:rgb(15,239,0)>åįģ</text> <text style=color:rgb(2,252,0)>åĽĽ</text> <text style=color:rgb(49,205,0)>ä¸ĸ</text> <text style=color:rgb(2,252,0)>ç´Ģ</text> <text style=color:rgb(40,214,0)>éģĶ</text> <text style=color:rgb(6,248,0)>åĪ°</text> <text style=color:rgb(41,213,0)>éł</text> <text style=color:rgb(0,254,0)>ĺ</text> <text style=color:rgb(20,234,0)>é¢¨</text><br><text style=color:rgb(248,6,0)>æĸ°</text> <text style=color:rgb(255,0,0)>åĨ</text> <text style=color:rgb(2,252,0)>ł</text> <text style=color:rgb(230,24,0)>æĺ¯</text> <text style=color:rgb(116,138,0)>åĪ°</text> <text style=color:rgb(18,236,0)>è¿Ļ</text> <text style=color:rgb(20,234,0)>äºĽ</text> <text style=color:rgb(9,245,0)>æĮĩ</text> <text style=color:rgb(68,186,0)>è´</text> <text style=color:rgb(5,249,0)>£</text> <text style=color:rgb(185,69,0)>,</text> <text style=color:rgb(45,209,0)>é©¬</text> <text style=color:rgb(152,102,0)>èĭ±</text> <text style=color:rgb(165,89,0)>å°±</text> <text style=color:rgb(9,245,0)>åľ¨</text> <text style=color:rgb(43,211,0)>ä¸Ģæ¬¡</text> <text style=color:rgb(171,83,0)>ä¸</text> <text style=color:rgb(2,252,0)>¥</text> <text style=color:rgb(7,247,0)>è°</text> <text style=color:rgb(206,48,0)>¨</text> <text style=color:rgb(67,187,0)>ä¸Ń</text> <text style=color:rgb(6,248,0)>å¤</text> <text style=color:rgb(0,254,0)>Ħ</text> <text style=color:rgb(238,16,0)>å¼ł</text> <text style=color:rgb(252,2,0)>å®</text> <text style=color:rgb(0,254,0)>ĩ</text> <text style=color:rgb(29,225,0)>ä¸ŃåĽ½</text> <text style=color:rgb(2,252,0)>å¤§</text> <text style=color:rgb(6,248,0)>éĻ</text> <text style=color:rgb(0,254,0)>Ĩ</text> <text style=color:rgb(114,140,0)>,</text> <text style=color:rgb(241,13,0)>å»º</text> <text style=color:rgb(0,254,0)>ç«ĭ</text> <text style=color:rgb(9,245,0)>æĽ´</text> <text style=color:rgb(11,243,0)>åĬł</text> <text style=color:rgb(7,247,0)>ç´</text> <text style=color:rgb(0,255,0)>§</text> <text style=color:rgb(57,197,0)>å¯Ĩ</text> <text style=color:rgb(12,242,0)>çļĦ</text> <text style=color:rgb(0,254,0)>åħ³</text> <text style=color:rgb(17,237,0)>ç³»</text> <text style=color:rgb(128,126,0)>å¹</text> <text style=color:rgb(0,254,0)>¶</text> <text style=color:rgb(183,71,0)>åİ»</text> <text style=color:rgb(168,86,0)>éĢģ</text> <text style=color:rgb(226,28,0)>è´</text> <text style=color:rgb(3,251,0)>§</text> <text style=color:rgb(215,39,0)>åľ</text> <text style=color:rgb(2,252,0)>£</text><br>"
      ],
      "text/plain": [
       "<IPython.core.display.HTML object>"
      ]
     },
     "execution_count": 13,
     "metadata": {},
     "output_type": "execute_result"
    }
   ],
   "source": [
    "html_print(print_tokens_with_confidence(result_ch))"
   ]
  }
 ],
 "metadata": {
  "kernelspec": {
   "display_name": "Python 3.9.6 ('venv': venv)",
   "language": "python",
   "name": "python3"
  },
  "language_info": {
   "codemirror_mode": {
    "name": "ipython",
    "version": 3
   },
   "file_extension": ".py",
   "mimetype": "text/x-python",
   "name": "python",
   "nbconvert_exporter": "python",
   "pygments_lexer": "ipython3",
   "version": "3.9.6"
  },
  "orig_nbformat": 4,
  "vscode": {
   "interpreter": {
    "hash": "d3036025cbe2adbb32cae9758803a4d65b73631050a7460b737d800473c5124b"
   }
  }
 },
 "nbformat": 4,
 "nbformat_minor": 2
}
