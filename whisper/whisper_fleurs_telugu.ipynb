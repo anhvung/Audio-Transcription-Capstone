{
 "cells": [
  {
   "cell_type": "markdown",
   "id": "fd337ad8",
   "metadata": {},
   "source": [
    "# Whisper Pretrained Evaluation on LibriSpeech & Fleurs"
   ]
  },
  {
   "cell_type": "markdown",
   "id": "0ed621d7",
   "metadata": {},
   "source": [
    "Whisper is a general-purpose speech recognition model. It is trained on a large dataset of diverse audio and is also a multi-task model that can perform multilingual speech recognition as well as speech translation and language identification.\n",
    "\n",
    "Codes below adpated from [github repo](https://github.com/openai/whisper)"
   ]
  },
  {
   "cell_type": "markdown",
   "id": "efeba0ae",
   "metadata": {},
   "source": [
    "## Requirement\n",
    "Python 3.9.9 and PyTorch 1.10.1"
   ]
  },
  {
   "cell_type": "code",
   "execution_count": 1,
   "id": "58efc4bb",
   "metadata": {},
   "outputs": [
    {
     "name": "stdout",
     "output_type": "stream",
     "text": [
      "base\n"
     ]
    }
   ],
   "source": [
    "import os\n",
    "print (os.environ['CONDA_DEFAULT_ENV'])"
   ]
  },
  {
   "cell_type": "code",
   "execution_count": 2,
   "id": "6567c13b",
   "metadata": {
    "scrolled": false
   },
   "outputs": [],
   "source": [
    "#!pip install git+https://github.com/openai/whisper.git "
   ]
  },
  {
   "cell_type": "markdown",
   "id": "691d9ff5",
   "metadata": {},
   "source": [
    "## Multilingual model"
   ]
  },
  {
   "cell_type": "markdown",
   "id": "20b3a02d",
   "metadata": {},
   "source": [
    "### Testing on Telugu"
   ]
  },
  {
   "cell_type": "code",
   "execution_count": 14,
   "id": "e3800a0d",
   "metadata": {},
   "outputs": [
    {
     "name": "stdout",
     "output_type": "stream",
     "text": [
      "cuda\n"
     ]
    }
   ],
   "source": [
    "import io\n",
    "import os\n",
    "import numpy as np\n",
    "\n",
    "try:\n",
    "    import tensorflow  # required in Colab to avoid protobuf compatibility issues\n",
    "except ImportError:\n",
    "    pass\n",
    "\n",
    "import torch\n",
    "import pandas as pd\n",
    "import urllib\n",
    "import tarfile\n",
    "import whisper\n",
    "import jiwer\n",
    "import torchaudio\n",
    "\n",
    "from scipy.io import wavfile\n",
    "from tqdm.notebook import tqdm\n",
    "\n",
    "\n",
    "pd.options.display.max_rows = 100\n",
    "pd.options.display.max_colwidth = 1000\n",
    "DEVICE = \"cuda\" if torch.cuda.is_available() else \"cpu\"\n",
    "print(DEVICE)"
   ]
  },
  {
   "cell_type": "code",
   "execution_count": 4,
   "id": "9186228c",
   "metadata": {},
   "outputs": [
    {
     "data": {
      "application/vnd.jupyter.widget-view+json": {
       "model_id": "cc90a9e3ab614e16adbdedb776ff78c3",
       "version_major": 2,
       "version_minor": 0
      },
      "text/plain": [
       "Dropdown(description='Language:', index=75, options=(('Select language', None), ('----------', None), ('Afrika…"
      ]
     },
     "metadata": {},
     "output_type": "display_data"
    }
   ],
   "source": [
    "# download Telugu from Fleurs\n",
    "import ipywidgets as widgets\n",
    "\n",
    "languages = {\"af_za\": \"Afrikaans\", \"am_et\": \"Amharic\", \"ar_eg\": \"Arabic\", \"as_in\": \"Assamese\", \"az_az\": \"Azerbaijani\", \"be_by\": \"Belarusian\", \"bg_bg\": \"Bulgarian\", \"bn_in\": \"Bengali\", \"bs_ba\": \"Bosnian\", \"ca_es\": \"Catalan\", \"cmn_hans_cn\": \"Chinese\", \"cs_cz\": \"Czech\", \"cy_gb\": \"Welsh\", \"da_dk\": \"Danish\", \"de_de\": \"German\", \"el_gr\": \"Greek\", \"en_us\": \"English\", \"es_419\": \"Spanish\", \"et_ee\": \"Estonian\", \"fa_ir\": \"Persian\", \"fi_fi\": \"Finnish\", \"fil_ph\": \"Tagalog\", \"fr_fr\": \"French\", \"gl_es\": \"Galician\", \"gu_in\": \"Gujarati\", \"ha_ng\": \"Hausa\", \"he_il\": \"Hebrew\", \"hi_in\": \"Hindi\", \"hr_hr\": \"Croatian\", \"hu_hu\": \"Hungarian\", \"hy_am\": \"Armenian\", \"id_id\": \"Indonesian\", \"is_is\": \"Icelandic\", \"it_it\": \"Italian\", \"ja_jp\": \"Japanese\", \"jv_id\": \"Javanese\", \"ka_ge\": \"Georgian\", \"kk_kz\": \"Kazakh\", \"km_kh\": \"Khmer\", \"kn_in\": \"Kannada\", \"ko_kr\": \"Korean\", \"lb_lu\": \"Luxembourgish\", \"ln_cd\": \"Lingala\", \"lo_la\": \"Lao\", \"lt_lt\": \"Lithuanian\", \"lv_lv\": \"Latvian\", \"mi_nz\": \"Maori\", \"mk_mk\": \"Macedonian\", \"ml_in\": \"Malayalam\", \"mn_mn\": \"Mongolian\", \"mr_in\": \"Marathi\", \"ms_my\": \"Malay\", \"mt_mt\": \"Maltese\", \"my_mm\": \"Myanmar\", \"nb_no\": \"Norwegian\", \"ne_np\": \"Nepali\", \"nl_nl\": \"Dutch\", \"oc_fr\": \"Occitan\", \"pa_in\": \"Punjabi\", \"pl_pl\": \"Polish\", \"ps_af\": \"Pashto\", \"pt_br\": \"Portuguese\", \"ro_ro\": \"Romanian\", \"ru_ru\": \"Russian\", \"sd_in\": \"Sindhi\", \"sk_sk\": \"Slovak\", \"sl_si\": \"Slovenian\", \"sn_zw\": \"Shona\", \"so_so\": \"Somali\", \"sr_rs\": \"Serbian\", \"sv_se\": \"Swedish\", \"sw_ke\": \"Swahili\", \"ta_in\": \"Tamil\", \"te_in\": \"Telugu\", \"tg_tj\": \"Tajik\", \"th_th\": \"Thai\", \"tr_tr\": \"Turkish\", \"uk_ua\": \"Ukrainian\", \"ur_pk\": \"Urdu\", \"uz_uz\": \"Uzbek\", \"vi_vn\": \"Vietnamese\", \"yo_ng\": \"Yoruba\"}\n",
    "selection = widgets.Dropdown(\n",
    "    options=[(\"Select language\", None), (\"----------\", None)] + sorted([(f\"{v} ({k})\", k) for k, v in languages.items()]),\n",
    "    value=\"te_in\",\n",
    "    description='Language:',\n",
    "    disabled=False,\n",
    ")\n",
    "\n",
    "selection"
   ]
  },
  {
   "cell_type": "code",
   "execution_count": 5,
   "id": "6a736ba1",
   "metadata": {},
   "outputs": [
    {
     "name": "stdout",
     "output_type": "stream",
     "text": [
      "Selected language: Telugu (te_in)\n"
     ]
    }
   ],
   "source": [
    "lang = selection.value\n",
    "language = languages[lang]\n",
    "\n",
    "assert lang is not None, \"Please select a language\"\n",
    "print(f\"Selected language: {language} ({lang})\")"
   ]
  },
  {
   "cell_type": "code",
   "execution_count": 6,
   "id": "28dde0a5",
   "metadata": {},
   "outputs": [],
   "source": [
    "class Fleurs(torch.utils.data.Dataset):\n",
    "    \"\"\"\n",
    "    A simple class to wrap Fleurs and subsample a portion of the dataset as needed.\n",
    "    \"\"\"\n",
    "    def __init__(self, lang, split=\"test\", subsample_rate=1, device=DEVICE):\n",
    "        url = f\"https://storage.googleapis.com/xtreme_translations/FLEURS102/{lang}.tar.gz\"\n",
    "        tar_path = os.path.expanduser(f\"~/.cache/fleurs/{lang}.tgz\")\n",
    "        os.makedirs(os.path.dirname(tar_path), exist_ok=True)\n",
    "\n",
    "        if not os.path.exists(tar_path):\n",
    "            with urllib.request.urlopen(url) as source, open(tar_path, \"wb\") as output:\n",
    "                with tqdm(total=int(source.info().get(\"Content-Length\")), ncols=80, unit='iB', unit_scale=True, unit_divisor=1024) as loop:\n",
    "                    while True:\n",
    "                        buffer = source.read(8192)\n",
    "                        if not buffer:\n",
    "                            break\n",
    "\n",
    "                        output.write(buffer)\n",
    "                        loop.update(len(buffer))\n",
    "\n",
    "        labels = {}\n",
    "        all_audio = {}\n",
    "        with tarfile.open(tar_path, \"r:gz\") as tar:\n",
    "            for member in tar.getmembers():\n",
    "                name = member.name\n",
    "                if name.endswith(f\"{split}.tsv\"):\n",
    "                    labels = pd.read_table(tar.extractfile(member), names=(\"id\", \"file_name\", \"raw_transcription\", \"transcription\", \"_\", \"num_samples\", \"gender\"))\n",
    "\n",
    "                if f\"/{split}/\" in name and name.endswith(\".wav\"):\n",
    "                    audio_bytes = tar.extractfile(member).read()\n",
    "                    all_audio[os.path.basename(name)] = wavfile.read(io.BytesIO(audio_bytes))[1]\n",
    "                    \n",
    "\n",
    "        self.labels = labels.to_dict(\"records\")[::subsample_rate]\n",
    "        self.all_audio = all_audio\n",
    "        self.device = device\n",
    "\n",
    "    def __len__(self):\n",
    "        return len(self.labels)\n",
    "\n",
    "    def __getitem__(self, item):\n",
    "        record = self.labels[item]\n",
    "        audio = torch.from_numpy(self.all_audio[record[\"file_name\"]].copy())\n",
    "        text = record[\"transcription\"]\n",
    "        \n",
    "        return (audio, text)\n",
    "    "
   ]
  },
  {
   "cell_type": "code",
   "execution_count": 7,
   "id": "5c1d20e3",
   "metadata": {
    "scrolled": true
   },
   "outputs": [
    {
     "data": {
      "application/vnd.jupyter.widget-view+json": {
       "model_id": "0c1c29a64b6645baac6538da6215d254",
       "version_major": 2,
       "version_minor": 0
      },
      "text/plain": [
       "  0%|                                              | 0.00/1.81G [00:00<?, ?iB/s]"
      ]
     },
     "metadata": {},
     "output_type": "display_data"
    }
   ],
   "source": [
    "# downloading ~2G for ~60 seconds\n",
    "dataset = Fleurs(lang, subsample_rate=2)  # subsample 2% of the dataset for a quick demo"
   ]
  },
  {
   "cell_type": "code",
   "execution_count": 8,
   "id": "15051f89",
   "metadata": {},
   "outputs": [
    {
     "name": "stdout",
     "output_type": "stream",
     "text": [
      "Model is multilingual and has 71,825,920 parameters.\n"
     ]
    }
   ],
   "source": [
    "model = whisper.load_model(\"base\")\n",
    "print(\n",
    "    f\"Model is {'multilingual' if model.is_multilingual else 'English-only'} \"\n",
    "    f\"and has {sum(np.prod(p.shape) for p in model.parameters()):,} parameters.\"\n",
    ")"
   ]
  },
  {
   "cell_type": "code",
   "execution_count": 9,
   "id": "ef83006e",
   "metadata": {},
   "outputs": [],
   "source": [
    "options = dict(language=language, beam_size=5, best_of=5, fp16 = False)\n",
    "transcribe_options = dict(task=\"transcribe\", **options)\n",
    "#translate_options = dict(task=\"translate\", **options)"
   ]
  },
  {
   "cell_type": "code",
   "execution_count": 11,
   "id": "7c5d572f",
   "metadata": {
    "colab": {
     "base_uri": "https://localhost:8080/",
     "height": 49,
     "referenced_widgets": [
      "97bfe56acfa04fd4899ece60a26bee17",
      "4ca421b430b54f5ba66bf981e4d4e003",
      "ad6e4f8221c843f9b406d5bf18206aab",
      "e7ca545307994521996af790a22497bf",
      "822ae53e841b42008c5aefb9cc7da64a",
      "37a30b9b7bd34421bd3d0679b81d8bad",
      "61dee3eff0b14127b06de151cabb5bf8",
      "0ed86ac53e8146eca0ab4aa7e9e8da19",
      "8b1c829b6c2b47a280069b758a6dec2b",
      "3f2f720394cd406eac1487e37994a9b8",
      "ddefd1c4b2174b538a1df784050899d7"
     ]
    },
    "id": "7OWTn_KvNk59",
    "outputId": "31cfe3bd-73dd-489b-b972-1920d727afce",
    "scrolled": true
   },
   "outputs": [
    {
     "data": {
      "application/vnd.jupyter.widget-view+json": {
       "model_id": "2b0dd514567e4ea4bc31937f5a2f8b31",
       "version_major": 2,
       "version_minor": 0
      },
      "text/plain": [
       "  0%|          | 0/236 [00:00<?, ?it/s]"
      ]
     },
     "metadata": {},
     "output_type": "display_data"
    },
    {
     "name": "stdout",
     "output_type": "stream",
     "text": [
      "CPU times: user 40min 32s, sys: 4min 26s, total: 44min 58s\n",
      "Wall time: 44min 49s\n"
     ]
    }
   ],
   "source": [
    "%%time\n",
    "\n",
    "references = []\n",
    "transcriptions = []\n",
    "#translations = []\n",
    "\n",
    "for audio, text in tqdm(dataset):\n",
    "    transcription = model.transcribe(audio, **transcribe_options)[\"text\"]\n",
    "    #translation = model.transcribe(audio, **translate_options)[\"text\"]\n",
    "    \n",
    "    transcriptions.append(transcription)\n",
    "    #translations.append(translation)\n",
    "    references.append(text)"
   ]
  },
  {
   "cell_type": "code",
   "execution_count": 16,
   "id": "ab390627",
   "metadata": {
    "colab": {
     "base_uri": "https://localhost:8080/",
     "height": 1000
    },
    "id": "4nTyynELQ42j",
    "outputId": "869c720e-672d-40a4-af30-6ce548c6ccea",
    "scrolled": false
   },
   "outputs": [
    {
     "data": {
      "text/html": [
       "<div>\n",
       "<style scoped>\n",
       "    .dataframe tbody tr th:only-of-type {\n",
       "        vertical-align: middle;\n",
       "    }\n",
       "\n",
       "    .dataframe tbody tr th {\n",
       "        vertical-align: top;\n",
       "    }\n",
       "\n",
       "    .dataframe thead th {\n",
       "        text-align: right;\n",
       "    }\n",
       "</style>\n",
       "<table border=\"1\" class=\"dataframe\">\n",
       "  <thead>\n",
       "    <tr style=\"text-align: right;\">\n",
       "      <th></th>\n",
       "      <th>reference</th>\n",
       "      <th>transcription</th>\n",
       "      <th>translation</th>\n",
       "    </tr>\n",
       "  </thead>\n",
       "  <tbody>\n",
       "    <tr>\n",
       "      <th>0</th>\n",
       "      <td>అదే విధంగా షెంగెన్ వీసా ఉంటే మీరు షెంగెన్లో ఉండే ప్రతి దేశానికి వేరుగా వీసాను అప్లై చేయనవసరం లేదు దీని వలన సమయం డబ్బు మరియు కాగితాలను ఆదా చేయవచ్చు</td>\n",
       "      <td>azhévidha Angaro shen ken? vis sa andti? shen ken? botet chayar çık axate dhi sian kiviresa vis sa yalla amen apai chaayaram le et spl chw dhinava écala samayem dubbu mite ke說k hake tara ba n 되고 jaywworm faço baag aa a t baag nib k pong jag</td>\n",
       "      <td>We have not applied any vise and pristine vise in the same way. We have not applied any vise and pristine vise. We have not applied any vise and pristine vise in the same way.</td>\n",
       "    </tr>\n",
       "    <tr>\n",
       "      <th>1</th>\n",
       "      <td>ఏది ఏమయినప్పటికీ రాత్రికి రాత్రే పథకాన్ని అమలు చేసి సోవియట్ యూనియన్ రెడ్ ఆర్మీకి చెందిన 800,000 మంది సైనికులు రిగా శాంతి ఒప్పందం సోవియట్-పోలిష్ నాన్-అగ్రెషన్ ఒప్పందం మరియు ఇతర అంతర్జాతీయ ఒప్పందాలు ద్వైపాక్షిక మరియు బహుపాక్షిక ఒప్పందాలను ఉల్లంఘిస్తూ పోలాండ్ యొక్క తూర్పు ప్రాంతాలపై దాడి చేసిన తరువాత బెలరషియన్ మరియు ఉక్రేనియన్ ఫ్రంట్లు సృష్టించారు</td>\n",
       "      <td>اידی ایم این اپلگی راتریکャ estate</td>\n",
       "      <td>Last night, two of seamen in a whitish survey was released in 2 months Theettes of pilots have been stating that seaports don't hold up as much contact as access to the Mediterranean and Europe that took him back. Shien Maru ukrainian frontal Supreme Charı</td>\n",
       "    </tr>\n",
       "    <tr>\n",
       "      <th>2</th>\n",
       "      <td>ఉత్తరాన ఈ ప్రాంతం సాహెల్ దక్షిణాన మరియు పశ్చిమాన అట్లాంటిక్ మహాసముద్రం ద్వారా సరిహద్దుగా ఉంది</td>\n",
       "      <td>異ர் தெடுத்துபம், ரா singers tellementுடனே ஒரு அதிகம் சோரா や ஓவில் நடத்துபெனைக் கwarzqu information page</td>\n",
       "      <td>A year after the heart may be blessed, the Metropolitan Customer of Professor, Dr. Chandramarichi the</td>\n",
       "    </tr>\n",
       "    <tr>\n",
       "      <th>3</th>\n",
       "      <td>కొన్ని షిప్ లు బ్రోచర్ లలో బెర్లిన్ జర్మనీని చూపించాయి మీరు పైన ఉన్న మ్యాప్ ని చూసినట్లయితే బెర్లిన్ సముద్రం సమీపంలో ఎక్కడా లేదు మరియు నగర సందర్శన షిప్ ధరలో చేర్చబడలేదు</td>\n",
       "      <td>کن்னு சிப்பு போஞ்சர்லலோ பெடில் செல்வனின் சுப்பின்சாயி மீரு பயனான் உன்னமாகப் பெண்ணு சூசினைத் தலைத்து பெடில் சமுத்துரம் சமிப்பம்லும் எக்கடாலேது மரியும் நகர சந்தர் சிப்பு பெடில் செய்த்து படில் ஏது</td>\n",
       "      <td>In Im新聞 running in some progress, Bedlean注意s are left. On the 2nd day of episode 1, your old man was watching, Edu was not here with a Bedelin Samudhra maim. We have to change some steps on the shape into a fairly interesting shaped picture by hand.</td>\n",
       "    </tr>\n",
       "    <tr>\n",
       "      <th>4</th>\n",
       "      <td>మేము మా ఇళ్ళు మొక్కలతోనే నిర్మిస్తాము మరియు మొక్కల నుండే బట్టలు తయారు చేస్తాము మేము తినే ఆహారం చాలా వరకు మొక్కలే మొక్కలు లేకుండా జంతువులు మనుగడ సాగించలేవు</td>\n",
       "      <td>مِمُ مَائِمُ مَائِلُ مَقْلَتَونِ نِرْمِسْتَمُ مَرِيُمُ مَقْلَنٌ دِبَتَلُ تَعَرْجَسْتَمُ مِِمُ تِنِ اَحَارَمْ شَالَى وَرْكُ مَقْلَهِ مَقْلَهِ مَقْلُلُ لَيْكُنْدَ جَنْتُولُ مَلُغَدَ سَاجِنْتَ لَيْوُ</td>\n",
       "      <td>Then, you can prepare any flour or рис for cooking chat with them on fire.</td>\n",
       "    </tr>\n",
       "    <tr>\n",
       "      <th>...</th>\n",
       "      <td>...</td>\n",
       "      <td>...</td>\n",
       "      <td>...</td>\n",
       "    </tr>\n",
       "    <tr>\n",
       "      <th>231</th>\n",
       "      <td>అధికార పార్టీ సౌత్ వెస్ట్ ఆఫ్రికా పీపుల్స్ ఆర్గనైజేషన్ ఎస్డబల్యూఏపిఓ కూడా పార్లమెంటు ఎన్నికలలో మెజారిటీని నిలుపుకుంది</td>\n",
       "      <td>Bhadikarika Party, South West, Africa, Peoples Organization, NWA, APO, KUDA, Padlaminti, Ennikalala, Mejaratini, Nilpukundi.</td>\n",
       "      <td>Bhadikarika Party, South West, Africa, Peoples Organization, NWA, APO, KUDA, Parliament, Indicolors, Mejaratini, Neelpukundi.</td>\n",
       "    </tr>\n",
       "    <tr>\n",
       "      <th>232</th>\n",
       "      <td>అంతేకాకుండా ప్రతి రాజవంశానికి చెందిన ప్రాంతాలు కొన్ని సంవత్సరాలుగా విభజించబడి ఉన్నాయి ఈ కాలాలలో బాగా తెలిసినది హాన్ మరియు జిన్ రాజవంశం మధ్య 60 సంవత్సరాల పాటు జరుగుతున్న మూడు రాజ్యాల శకము</td>\n",
       "      <td>ان்டைக்காக் கொண்டா, பற்றி ராஜாவம்ஞஞஞஞஞஞஞஞஞஞஞஞஞஞஞஞஞஞஞஞஞஞஞஞஞஞஞஞஞஞஞஞஞஞஞஞஞஞஞஞஞஞஞஞஞஞஞஞஞஞஞஞ</td>\n",
       "      <td>First of all, the people of Pratiraja Vamsha, who were born in Pranthal, are the people of Vibhajn and Chabadi. These are the people of Kalala, the people of Baga, Telisi, Han, Mariyu, Jinn, the people of Raja Vamsha. The people of Pratiraja Vamsha are the people of Pranthal, the people of Pranthal, Raja Vamsha.</td>\n",
       "    </tr>\n",
       "    <tr>\n",
       "      <th>233</th>\n",
       "      <td>రోలాండో మెన్డోజా తన m16 రైఫిల్ను పర్యాటకులపై పేల్చాడు</td>\n",
       "      <td>Prolando Mendoza Tana M16 rifle 16 rifle</td>\n",
       "      <td>inールando so the m16 rifle fell very hot</td>\n",
       "    </tr>\n",
       "    <tr>\n",
       "      <th>234</th>\n",
       "      <td>గోమా చుట్టూ భ్రమించడానికి బోడా-బోడాను మోటార్ సైకిల్ టాక్సీ ఉపయోగించవచ్చు. సాధారణ స్థానిక వెల ~500 కాంగో ఫ్రాంక్స్ షార్ట్ రైడ్ కొరకు</td>\n",
       "      <td>Goma Chuttu Bramichadani ki Boda Boda Anu Motorcycle Taxi upayu ginsha vachu Saadara Nastanika Villa aidovandala Kangu Frunks Short Riding Kwaraku</td>\n",
       "      <td>Motorcycle Taxes swing freely due to Bhuramma tips for Bolt, Board No place for World War II, neither Congo, France short-triage and still racists.</td>\n",
       "    </tr>\n",
       "    <tr>\n",
       "      <th>235</th>\n",
       "      <td>ఈ ప్రమాదం ఎత్తుగా ఉన్న పర్వత భూభాగంలో జరిగిందని ఇంకా శత్రువులు రాజేసిన అగ్ని ఫలితంగా జరిగిందని నమ్ముతారు</td>\n",
       "      <td>i pramuatham ettu qawana parwa te bubbha kemlo jarigin nani, i pramuatham ettu qawana parwa te bubbha kemlo jarigin nani,</td>\n",
       "      <td>3. Before beginner in studies, at first in advanced studies, of maybe only this year, Sometimes it takes a lot of effort to help begin this project書</td>\n",
       "    </tr>\n",
       "  </tbody>\n",
       "</table>\n",
       "<p>236 rows × 3 columns</p>\n",
       "</div>"
      ],
      "text/plain": [
       "                                                                                                                                                                                                                                                                                                                                                      reference  \\\n",
       "0                                                                                                                                                                                                            అదే విధంగా షెంగెన్ వీసా ఉంటే మీరు షెంగెన్లో ఉండే ప్రతి దేశానికి వేరుగా వీసాను అప్లై చేయనవసరం లేదు దీని వలన సమయం డబ్బు మరియు కాగితాలను ఆదా చేయవచ్చు   \n",
       "1    ఏది ఏమయినప్పటికీ రాత్రికి రాత్రే పథకాన్ని అమలు చేసి సోవియట్ యూనియన్ రెడ్ ఆర్మీకి చెందిన 800,000 మంది సైనికులు రిగా శాంతి ఒప్పందం సోవియట్-పోలిష్ నాన్-అగ్రెషన్ ఒప్పందం మరియు ఇతర అంతర్జాతీయ ఒప్పందాలు ద్వైపాక్షిక మరియు బహుపాక్షిక ఒప్పందాలను ఉల్లంఘిస్తూ పోలాండ్ యొక్క తూర్పు ప్రాంతాలపై దాడి చేసిన తరువాత బెలరషియన్ మరియు ఉక్రేనియన్ ఫ్రంట్లు సృష్టించారు   \n",
       "2                                                                                                                                                                                                                                                                 ఉత్తరాన ఈ ప్రాంతం సాహెల్ దక్షిణాన మరియు పశ్చిమాన అట్లాంటిక్ మహాసముద్రం ద్వారా సరిహద్దుగా ఉంది   \n",
       "3                                                                                                                                                                                      కొన్ని షిప్ లు బ్రోచర్ లలో బెర్లిన్ జర్మనీని చూపించాయి మీరు పైన ఉన్న మ్యాప్ ని చూసినట్లయితే బెర్లిన్ సముద్రం సమీపంలో ఎక్కడా లేదు మరియు నగర సందర్శన షిప్ ధరలో చేర్చబడలేదు   \n",
       "4                                                                                                                                                                                                    మేము మా ఇళ్ళు మొక్కలతోనే నిర్మిస్తాము మరియు మొక్కల నుండే బట్టలు తయారు చేస్తాము మేము తినే ఆహారం చాలా వరకు మొక్కలే మొక్కలు లేకుండా జంతువులు మనుగడ సాగించలేవు   \n",
       "..                                                                                                                                                                                                                                                                                                                                                          ...   \n",
       "231                                                                                                                                                                                                                                       అధికార పార్టీ సౌత్ వెస్ట్ ఆఫ్రికా పీపుల్స్ ఆర్గనైజేషన్ ఎస్డబల్యూఏపిఓ కూడా పార్లమెంటు ఎన్నికలలో మెజారిటీని నిలుపుకుంది   \n",
       "232                                                                                                                                                                  అంతేకాకుండా ప్రతి రాజవంశానికి చెందిన ప్రాంతాలు కొన్ని సంవత్సరాలుగా విభజించబడి ఉన్నాయి ఈ కాలాలలో బాగా తెలిసినది హాన్ మరియు జిన్ రాజవంశం మధ్య 60 సంవత్సరాల పాటు జరుగుతున్న మూడు రాజ్యాల శకము   \n",
       "233                                                                                                                                                                                                                                                                                                       రోలాండో మెన్డోజా తన m16 రైఫిల్ను పర్యాటకులపై పేల్చాడు   \n",
       "234                                                                                                                                                                                                                         గోమా చుట్టూ భ్రమించడానికి బోడా-బోడాను మోటార్ సైకిల్ టాక్సీ ఉపయోగించవచ్చు. సాధారణ స్థానిక వెల ~500 కాంగో ఫ్రాంక్స్ షార్ట్ రైడ్ కొరకు   \n",
       "235                                                                                                                                                                                                                                                    ఈ ప్రమాదం ఎత్తుగా ఉన్న పర్వత భూభాగంలో జరిగిందని ఇంకా శత్రువులు రాజేసిన అగ్ని ఫలితంగా జరిగిందని నమ్ముతారు   \n",
       "\n",
       "                                                                                                                                                                                                                                         transcription  \\\n",
       "0     azhévidha Angaro shen ken? vis sa andti? shen ken? botet chayar çık axate dhi sian kiviresa vis sa yalla amen apai chaayaram le et spl chw dhinava écala samayem dubbu mite ke說k hake tara ba n 되고 jaywworm faço baag aa a t baag nib k pong jag   \n",
       "1                                                                                                                                                                                                                    اידی ایم این اپلگی راتریکャ estate   \n",
       "2                                                                                                                                              異ர் தெடுத்துபம், ரா singers tellementுடனே ஒரு அதிகம் சோரா や ஓவில் நடத்துபெனைக் கwarzqu information page   \n",
       "3                                                    کن்னு சிப்பு போஞ்சர்லலோ பெடில் செல்வனின் சுப்பின்சாயி மீரு பயனான் உன்னமாகப் பெண்ணு சூசினைத் தலைத்து பெடில் சமுத்துரம் சமிப்பம்லும் எக்கடாலேது மரியும் நகர சந்தர் சிப்பு பெடில் செய்த்து படில் ஏது   \n",
       "4                                                 مِمُ مَائِمُ مَائِلُ مَقْلَتَونِ نِرْمِسْتَمُ مَرِيُمُ مَقْلَنٌ دِبَتَلُ تَعَرْجَسْتَمُ مِِمُ تِنِ اَحَارَمْ شَالَى وَرْكُ مَقْلَهِ مَقْلَهِ مَقْلُلُ لَيْكُنْدَ جَنْتُولُ مَلُغَدَ سَاجِنْتَ لَيْوُ   \n",
       "..                                                                                                                                                                                                                                                 ...   \n",
       "231                                                                                                                       Bhadikarika Party, South West, Africa, Peoples Organization, NWA, APO, KUDA, Padlaminti, Ennikalala, Mejaratini, Nilpukundi.   \n",
       "232                                                                                                                                                              ان்டைக்காக் கொண்டா, பற்றி ராஜாவம்ஞஞஞஞஞஞஞஞஞஞஞஞஞஞஞஞஞஞஞஞஞஞஞஞஞஞஞஞஞஞஞஞஞஞஞஞஞஞஞஞஞஞஞஞஞஞஞஞஞஞஞஞ   \n",
       "233                                                                                                                                                                                                           Prolando Mendoza Tana M16 rifle 16 rifle   \n",
       "234                                                                                                 Goma Chuttu Bramichadani ki Boda Boda Anu Motorcycle Taxi upayu ginsha vachu Saadara Nastanika Villa aidovandala Kangu Frunks Short Riding Kwaraku   \n",
       "235                                                                                                                          i pramuatham ettu qawana parwa te bubbha kemlo jarigin nani, i pramuatham ettu qawana parwa te bubbha kemlo jarigin nani,   \n",
       "\n",
       "                                                                                                                                                                                                                                                                                                                    translation  \n",
       "0                                                                                                                                               We have not applied any vise and pristine vise in the same way. We have not applied any vise and pristine vise. We have not applied any vise and pristine vise in the same way.  \n",
       "1                                                              Last night, two of seamen in a whitish survey was released in 2 months Theettes of pilots have been stating that seaports don't hold up as much contact as access to the Mediterranean and Europe that took him back. Shien Maru ukrainian frontal Supreme Charı  \n",
       "2                                                                                                                                                                                                                         A year after the heart may be blessed, the Metropolitan Customer of Professor, Dr. Chandramarichi the  \n",
       "3                                                                     In Im新聞 running in some progress, Bedlean注意s are left. On the 2nd day of episode 1, your old man was watching, Edu was not here with a Bedelin Samudhra maim. We have to change some steps on the shape into a fairly interesting shaped picture by hand.  \n",
       "4                                                                                                                                                                                                                                                    Then, you can prepare any flour or рис for cooking chat with them on fire.  \n",
       "..                                                                                                                                                                                                                                                                                                                          ...  \n",
       "231                                                                                                                                                                                               Bhadikarika Party, South West, Africa, Peoples Organization, NWA, APO, KUDA, Parliament, Indicolors, Mejaratini, Neelpukundi.  \n",
       "232   First of all, the people of Pratiraja Vamsha, who were born in Pranthal, are the people of Vibhajn and Chabadi. These are the people of Kalala, the people of Baga, Telisi, Han, Mariyu, Jinn, the people of Raja Vamsha. The people of Pratiraja Vamsha are the people of Pranthal, the people of Pranthal, Raja Vamsha.  \n",
       "233                                                                                                                                                                                                                                                                                     inールando so the m16 rifle fell very hot  \n",
       "234                                                                                                                                                                         Motorcycle Taxes swing freely due to Bhuramma tips for Bolt, Board No place for World War II, neither Congo, France short-triage and still racists.  \n",
       "235                                                                                                                                                                        3. Before beginner in studies, at first in advanced studies, of maybe only this year, Sometimes it takes a lot of effort to help begin this project書  \n",
       "\n",
       "[236 rows x 3 columns]"
      ]
     },
     "execution_count": 16,
     "metadata": {},
     "output_type": "execute_result"
    }
   ],
   "source": [
    "data = pd.DataFrame(dict(reference=references, transcription=transcriptions, translation=translations))\n",
    "data"
   ]
  },
  {
   "cell_type": "code",
   "execution_count": 18,
   "id": "b1ae2509",
   "metadata": {},
   "outputs": [
    {
     "name": "stdout",
     "output_type": "stream",
     "text": [
      "WER: 127.47 %\n"
     ]
    }
   ],
   "source": [
    "# calculate WER\n",
    "\n",
    "te_wer = jiwer.wer(list(data[\"reference\"]), list(data[\"transcription\"]))\n",
    "\n",
    "print(f\"WER: {te_wer * 100:.2f} %\")"
   ]
  },
  {
   "cell_type": "markdown",
   "id": "058578c6",
   "metadata": {},
   "source": [
    "### Test on Hebrew"
   ]
  },
  {
   "cell_type": "code",
   "execution_count": 19,
   "id": "2e13345e",
   "metadata": {},
   "outputs": [
    {
     "data": {
      "application/vnd.jupyter.widget-view+json": {
       "model_id": "966176b13707467baf39bb88890c886e",
       "version_major": 2,
       "version_minor": 0
      },
      "text/plain": [
       "Dropdown(description='Language:', index=28, options=(('Select language', None), ('----------', None), ('Afrika…"
      ]
     },
     "metadata": {},
     "output_type": "display_data"
    }
   ],
   "source": [
    "# download Hebrew from Fleurs\n",
    "import ipywidgets as widgets\n",
    "\n",
    "languages = {\"af_za\": \"Afrikaans\", \"am_et\": \"Amharic\", \"ar_eg\": \"Arabic\", \"as_in\": \"Assamese\", \"az_az\": \"Azerbaijani\", \"be_by\": \"Belarusian\", \"bg_bg\": \"Bulgarian\", \"bn_in\": \"Bengali\", \"bs_ba\": \"Bosnian\", \"ca_es\": \"Catalan\", \"cmn_hans_cn\": \"Chinese\", \"cs_cz\": \"Czech\", \"cy_gb\": \"Welsh\", \"da_dk\": \"Danish\", \"de_de\": \"German\", \"el_gr\": \"Greek\", \"en_us\": \"English\", \"es_419\": \"Spanish\", \"et_ee\": \"Estonian\", \"fa_ir\": \"Persian\", \"fi_fi\": \"Finnish\", \"fil_ph\": \"Tagalog\", \"fr_fr\": \"French\", \"gl_es\": \"Galician\", \"gu_in\": \"Gujarati\", \"ha_ng\": \"Hausa\", \"he_il\": \"Hebrew\", \"hi_in\": \"Hindi\", \"hr_hr\": \"Croatian\", \"hu_hu\": \"Hungarian\", \"hy_am\": \"Armenian\", \"id_id\": \"Indonesian\", \"is_is\": \"Icelandic\", \"it_it\": \"Italian\", \"ja_jp\": \"Japanese\", \"jv_id\": \"Javanese\", \"ka_ge\": \"Georgian\", \"kk_kz\": \"Kazakh\", \"km_kh\": \"Khmer\", \"kn_in\": \"Kannada\", \"ko_kr\": \"Korean\", \"lb_lu\": \"Luxembourgish\", \"ln_cd\": \"Lingala\", \"lo_la\": \"Lao\", \"lt_lt\": \"Lithuanian\", \"lv_lv\": \"Latvian\", \"mi_nz\": \"Maori\", \"mk_mk\": \"Macedonian\", \"ml_in\": \"Malayalam\", \"mn_mn\": \"Mongolian\", \"mr_in\": \"Marathi\", \"ms_my\": \"Malay\", \"mt_mt\": \"Maltese\", \"my_mm\": \"Myanmar\", \"nb_no\": \"Norwegian\", \"ne_np\": \"Nepali\", \"nl_nl\": \"Dutch\", \"oc_fr\": \"Occitan\", \"pa_in\": \"Punjabi\", \"pl_pl\": \"Polish\", \"ps_af\": \"Pashto\", \"pt_br\": \"Portuguese\", \"ro_ro\": \"Romanian\", \"ru_ru\": \"Russian\", \"sd_in\": \"Sindhi\", \"sk_sk\": \"Slovak\", \"sl_si\": \"Slovenian\", \"sn_zw\": \"Shona\", \"so_so\": \"Somali\", \"sr_rs\": \"Serbian\", \"sv_se\": \"Swedish\", \"sw_ke\": \"Swahili\", \"ta_in\": \"Tamil\", \"te_in\": \"Telugu\", \"tg_tj\": \"Tajik\", \"th_th\": \"Thai\", \"tr_tr\": \"Turkish\", \"uk_ua\": \"Ukrainian\", \"ur_pk\": \"Urdu\", \"uz_uz\": \"Uzbek\", \"vi_vn\": \"Vietnamese\", \"yo_ng\": \"Yoruba\"}\n",
    "selection = widgets.Dropdown(\n",
    "    options=[(\"Select language\", None), (\"----------\", None)] + sorted([(f\"{v} ({k})\", k) for k, v in languages.items()]),\n",
    "    value=\"he_il\",\n",
    "    description='Language:',\n",
    "    disabled=False,\n",
    ")\n",
    "\n",
    "selection"
   ]
  },
  {
   "cell_type": "code",
   "execution_count": 20,
   "id": "6f37fdbd",
   "metadata": {},
   "outputs": [
    {
     "name": "stdout",
     "output_type": "stream",
     "text": [
      "Selected language: Hebrew (he_il)\n"
     ]
    }
   ],
   "source": [
    "lang = selection.value\n",
    "language = languages[lang]\n",
    "\n",
    "assert lang is not None, \"Please select a language\"\n",
    "print(f\"Selected language: {language} ({lang})\")"
   ]
  },
  {
   "cell_type": "code",
   "execution_count": 24,
   "id": "43472fee",
   "metadata": {},
   "outputs": [
    {
     "data": {
      "application/vnd.jupyter.widget-view+json": {
       "model_id": "57937eb5737c4ced981eb3e4b60f91ea",
       "version_major": 2,
       "version_minor": 0
      },
      "text/plain": [
       "  0%|                                              | 0.00/2.22G [00:00<?, ?iB/s]"
      ]
     },
     "metadata": {},
     "output_type": "display_data"
    }
   ],
   "source": [
    "# downloading ~2G for ~60 seconds\n",
    "dataset = Fleurs(lang, subsample_rate=2)  # subsample 2% of the dataset for a quick demo"
   ]
  },
  {
   "cell_type": "code",
   "execution_count": 21,
   "id": "05d25358",
   "metadata": {},
   "outputs": [],
   "source": [
    "options = dict(language=language, beam_size=5, best_of=5, fp16 = False)\n",
    "transcribe_options = dict(task=\"transcribe\", **options)\n",
    "#translate_options = dict(task=\"translate\", **options)`"
   ]
  },
  {
   "cell_type": "code",
   "execution_count": 25,
   "id": "7002bebb",
   "metadata": {
    "colab": {
     "base_uri": "https://localhost:8080/",
     "height": 49,
     "referenced_widgets": [
      "97bfe56acfa04fd4899ece60a26bee17",
      "4ca421b430b54f5ba66bf981e4d4e003",
      "ad6e4f8221c843f9b406d5bf18206aab",
      "e7ca545307994521996af790a22497bf",
      "822ae53e841b42008c5aefb9cc7da64a",
      "37a30b9b7bd34421bd3d0679b81d8bad",
      "61dee3eff0b14127b06de151cabb5bf8",
      "0ed86ac53e8146eca0ab4aa7e9e8da19",
      "8b1c829b6c2b47a280069b758a6dec2b",
      "3f2f720394cd406eac1487e37994a9b8",
      "ddefd1c4b2174b538a1df784050899d7"
     ]
    },
    "id": "7OWTn_KvNk59",
    "outputId": "31cfe3bd-73dd-489b-b972-1920d727afce",
    "scrolled": false
   },
   "outputs": [
    {
     "data": {
      "application/vnd.jupyter.widget-view+json": {
       "model_id": "38e705be0d5942f9a5f308281386bec1",
       "version_major": 2,
       "version_minor": 0
      },
      "text/plain": [
       "  0%|          | 0/396 [00:00<?, ?it/s]"
      ]
     },
     "metadata": {},
     "output_type": "display_data"
    },
    {
     "name": "stdout",
     "output_type": "stream",
     "text": [
      "CPU times: user 5min 36s, sys: 46.5 s, total: 6min 22s\n",
      "Wall time: 6min 15s\n"
     ]
    }
   ],
   "source": [
    "%%time\n",
    "\n",
    "references = []\n",
    "transcriptions = []\n",
    "#translations = []\n",
    "\n",
    "for audio, text in tqdm(dataset):\n",
    "    transcription = model.transcribe(audio, **transcribe_options)[\"text\"]\n",
    "    #translation = model.transcribe(audio, **translate_options)[\"text\"]\n",
    "    \n",
    "    transcriptions.append(transcription)\n",
    "    #translations.append(translation)\n",
    "    references.append(text)"
   ]
  },
  {
   "cell_type": "code",
   "execution_count": 27,
   "id": "451ac550",
   "metadata": {
    "colab": {
     "base_uri": "https://localhost:8080/",
     "height": 1000
    },
    "id": "4nTyynELQ42j",
    "outputId": "869c720e-672d-40a4-af30-6ce548c6ccea",
    "scrolled": false
   },
   "outputs": [
    {
     "data": {
      "text/html": [
       "<div>\n",
       "<style scoped>\n",
       "    .dataframe tbody tr th:only-of-type {\n",
       "        vertical-align: middle;\n",
       "    }\n",
       "\n",
       "    .dataframe tbody tr th {\n",
       "        vertical-align: top;\n",
       "    }\n",
       "\n",
       "    .dataframe thead th {\n",
       "        text-align: right;\n",
       "    }\n",
       "</style>\n",
       "<table border=\"1\" class=\"dataframe\">\n",
       "  <thead>\n",
       "    <tr style=\"text-align: right;\">\n",
       "      <th></th>\n",
       "      <th>reference</th>\n",
       "      <th>transcription</th>\n",
       "    </tr>\n",
       "  </thead>\n",
       "  <tbody>\n",
       "    <tr>\n",
       "      <th>0</th>\n",
       "      <td>מרבית הפרשנויות לדטרמיניזם טכנולוגי חולקות שני רעיונות כלליים שפיתוח הטכנולוגיה מתקדם בדרך שלא מושפעת תרבותית או פוליטית במידה מרובה וכי לטכנולוגיה יש השפעות על חברות שהן מובנות ולא מותנות חברתית</td>\n",
       "      <td>מרבית הפרשונות לדר את המיזם טכנולוגי חולקות שני רעל כלכליים, כלליים, שבטוח את טכנולוגי מתקדם בדרך שלא מושפה תרבותית או פוליטנו מידה מעובה, בקין הטכנולוגי יש השפעות על חברות שיהיה נובנות ולא מותנות חברתית.</td>\n",
       "    </tr>\n",
       "    <tr>\n",
       "      <th>1</th>\n",
       "      <td>מאוחר ביום ראשון נשיא ארה ב דונלד טראמפ הודיע שהכוחות האמריקאים יעזבו את סוריה בהצהרה שהעבירה דוברת הבית הלבן</td>\n",
       "      <td>מיוחר ביום ראשון, נסי ארב דולנטרם, אותי שעקוחות האמריקאים יעזבו את סוריה ביצרה שבעירה דופרת הבית הלבן.</td>\n",
       "    </tr>\n",
       "    <tr>\n",
       "      <th>2</th>\n",
       "      <td>המכון לצדק ולדמוקרטיה של האיטי אזכר מחקרים עצמאיים שמראים כי גדוד שמירת השלום הנפאלי של האו ם הביא ללא ידיעתו את המחלה להאיטי</td>\n",
       "      <td>המכון לצדק ולדמוקרטי של הייתי הזכר מחכרים עצמאים שברים כי גדוד שמיר את השולם על הפלי של האום ולהלויד יתועת המחלה ל הייתי</td>\n",
       "    </tr>\n",
       "    <tr>\n",
       "      <th>3</th>\n",
       "      <td>גיהוץ בגדים לחים יכול לעזור להם להתייבש במלונות רבים יש מגהץ וקרש גיהוץ זמינים להשאלה גם אם הם לא נמצאים בחדר</td>\n",
       "      <td>גיוץ בגדים לכים יכול לעזור למליטבי לתייבש ממלון תרבי משפגי עצוק יש גוץ מיניים להשאלה, אדם ממלון למצרים בחידה</td>\n",
       "    </tr>\n",
       "    <tr>\n",
       "      <th>4</th>\n",
       "      <td>המערה שוכנת בפסגת אחד ההרים מצפון למכה והיא מבודדת לחלוטין מכל שאר העולם</td>\n",
       "      <td>המערה שוכנת בפסגת אחד הארים מצפון למקה והיא מפודדת לחלוטין מכל שערה עולם.</td>\n",
       "    </tr>\n",
       "    <tr>\n",
       "      <th>...</th>\n",
       "      <td>...</td>\n",
       "      <td>...</td>\n",
       "    </tr>\n",
       "    <tr>\n",
       "      <th>391</th>\n",
       "      <td>רבים אינם רואים בהם דינוזאורים מאחר שיש להם נוצות והם יכולים לעוף</td>\n",
       "      <td>רבים אינם רואים בהם דינוזרים, מי אחר שיש להם נוצד והם יכולים לעוף.</td>\n",
       "    </tr>\n",
       "    <tr>\n",
       "      <th>392</th>\n",
       "      <td>מיטשל גורלי האוסטרלי סיים במקום האחד עשר בסופר-ג'י לגברים המתחרה הצ'כי אולדריך ילינק סיים במקום השישה עשר במקצה הסופר-ג'י בישיבה לגברים</td>\n",
       "      <td>מיצל גורלי האוסטרלי סיימב המקום האחד, עשר בסופר אדגי לגברים המתחרת שחי, עול דרך יליניק, סיימב המקום השישה עשר במקצי הסופר אדגי בישיבה לגברים.</td>\n",
       "    </tr>\n",
       "    <tr>\n",
       "      <th>393</th>\n",
       "      <td>מיטשל גורלי האוסטרלי סיים במקום האחד עשר בסופר-ג'י לגברים המתחרה הצ'כי אולדריך ילינק סיים במקום השישה עשר במקצה הסופר-ג'י בישיבה לגברים</td>\n",
       "      <td>מצל גורליה הוסטרליסים המקומה אחד השעה בסופר גיל הגברים מתחרעת שכי עוד ריח ילינק שיהם במקומה שישה שישה שער בני קטע סופר גיל בשיבה לגברים</td>\n",
       "    </tr>\n",
       "    <tr>\n",
       "      <th>394</th>\n",
       "      <td>היא קשורה אך בדרך כלל אינה מערבת סקי בסגנון אלפיני או טיפוס הרים האחרונים מבוצעים בשטחים תלולים והם דורשים מגפיים ומגלשיים קשיחים הרבה יותר</td>\n",
       "      <td>כשורך בדרך כלל לנמרי וצקי בזיגנואלפיניות, טיפוסריים, החוני ובצימש טקרנטלויים וממדור שמגפה ממוגלשיים שלכים הרבה יותר</td>\n",
       "    </tr>\n",
       "    <tr>\n",
       "      <th>395</th>\n",
       "      <td>לרוע המזל לימוד זרימת תנועה הוא קשה מכיוון שלא ניתן לחזות התנהגות של נהגים בוודאות של מאה אחוז</td>\n",
       "      <td>לרוע המזע לימוד זרימת נועה וקשה מכיוון שלאינט הנחזות התנעגות של נעגים ובדעות של מאה אחוז.</td>\n",
       "    </tr>\n",
       "  </tbody>\n",
       "</table>\n",
       "<p>396 rows × 2 columns</p>\n",
       "</div>"
      ],
      "text/plain": [
       "                                                                                                                                                                                               reference  \\\n",
       "0    מרבית הפרשנויות לדטרמיניזם טכנולוגי חולקות שני רעיונות כלליים שפיתוח הטכנולוגיה מתקדם בדרך שלא מושפעת תרבותית או פוליטית במידה מרובה וכי לטכנולוגיה יש השפעות על חברות שהן מובנות ולא מותנות חברתית   \n",
       "1                                                                                          מאוחר ביום ראשון נשיא ארה ב דונלד טראמפ הודיע שהכוחות האמריקאים יעזבו את סוריה בהצהרה שהעבירה דוברת הבית הלבן   \n",
       "2                                                                          המכון לצדק ולדמוקרטיה של האיטי אזכר מחקרים עצמאיים שמראים כי גדוד שמירת השלום הנפאלי של האו ם הביא ללא ידיעתו את המחלה להאיטי   \n",
       "3                                                                                          גיהוץ בגדים לחים יכול לעזור להם להתייבש במלונות רבים יש מגהץ וקרש גיהוץ זמינים להשאלה גם אם הם לא נמצאים בחדר   \n",
       "4                                                                                                                               המערה שוכנת בפסגת אחד ההרים מצפון למכה והיא מבודדת לחלוטין מכל שאר העולם   \n",
       "..                                                                                                                                                                                                   ...   \n",
       "391                                                                                                                                    רבים אינם רואים בהם דינוזאורים מאחר שיש להם נוצות והם יכולים לעוף   \n",
       "392                                                              מיטשל גורלי האוסטרלי סיים במקום האחד עשר בסופר-ג'י לגברים המתחרה הצ'כי אולדריך ילינק סיים במקום השישה עשר במקצה הסופר-ג'י בישיבה לגברים   \n",
       "393                                                              מיטשל גורלי האוסטרלי סיים במקום האחד עשר בסופר-ג'י לגברים המתחרה הצ'כי אולדריך ילינק סיים במקום השישה עשר במקצה הסופר-ג'י בישיבה לגברים   \n",
       "394                                                          היא קשורה אך בדרך כלל אינה מערבת סקי בסגנון אלפיני או טיפוס הרים האחרונים מבוצעים בשטחים תלולים והם דורשים מגפיים ומגלשיים קשיחים הרבה יותר   \n",
       "395                                                                                                       לרוע המזל לימוד זרימת תנועה הוא קשה מכיוון שלא ניתן לחזות התנהגות של נהגים בוודאות של מאה אחוז   \n",
       "\n",
       "                                                                                                                                                                                                     transcription  \n",
       "0     מרבית הפרשונות לדר את המיזם טכנולוגי חולקות שני רעל כלכליים, כלליים, שבטוח את טכנולוגי מתקדם בדרך שלא מושפה תרבותית או פוליטנו מידה מעובה, בקין הטכנולוגי יש השפעות על חברות שיהיה נובנות ולא מותנות חברתית.  \n",
       "1                                                                                                           מיוחר ביום ראשון, נסי ארב דולנטרם, אותי שעקוחות האמריקאים יעזבו את סוריה ביצרה שבעירה דופרת הבית הלבן.  \n",
       "2                                                                                         המכון לצדק ולדמוקרטי של הייתי הזכר מחכרים עצמאים שברים כי גדוד שמיר את השולם על הפלי של האום ולהלויד יתועת המחלה ל הייתי  \n",
       "3                                                                                                     גיוץ בגדים לכים יכול לעזור למליטבי לתייבש ממלון תרבי משפגי עצוק יש גוץ מיניים להשאלה, אדם ממלון למצרים בחידה  \n",
       "4                                                                                                                                        המערה שוכנת בפסגת אחד הארים מצפון למקה והיא מפודדת לחלוטין מכל שערה עולם.  \n",
       "..                                                                                                                                                                                                             ...  \n",
       "391                                                                                                                                             רבים אינם רואים בהם דינוזרים, מי אחר שיש להם נוצד והם יכולים לעוף.  \n",
       "392                                                                  מיצל גורלי האוסטרלי סיימב המקום האחד, עשר בסופר אדגי לגברים המתחרת שחי, עול דרך יליניק, סיימב המקום השישה עשר במקצי הסופר אדגי בישיבה לגברים.  \n",
       "393                                                                        מצל גורליה הוסטרליסים המקומה אחד השעה בסופר גיל הגברים מתחרעת שכי עוד ריח ילינק שיהם במקומה שישה שישה שער בני קטע סופר גיל בשיבה לגברים  \n",
       "394                                                                                            כשורך בדרך כלל לנמרי וצקי בזיגנואלפיניות, טיפוסריים, החוני ובצימש טקרנטלויים וממדור שמגפה ממוגלשיים שלכים הרבה יותר  \n",
       "395                                                                                                                      לרוע המזע לימוד זרימת נועה וקשה מכיוון שלאינט הנחזות התנעגות של נעגים ובדעות של מאה אחוז.  \n",
       "\n",
       "[396 rows x 2 columns]"
      ]
     },
     "execution_count": 27,
     "metadata": {},
     "output_type": "execute_result"
    }
   ],
   "source": [
    "data = pd.DataFrame(dict(reference=references, transcription=transcriptions))\n",
    "data"
   ]
  },
  {
   "cell_type": "code",
   "execution_count": 28,
   "id": "6102d331",
   "metadata": {},
   "outputs": [
    {
     "name": "stdout",
     "output_type": "stream",
     "text": [
      "WER: 69.20 %\n"
     ]
    }
   ],
   "source": [
    "# calculate WER\n",
    "\n",
    "he_wer = jiwer.wer(list(data[\"reference\"]), list(data[\"transcription\"]))\n",
    "\n",
    "print(f\"WER: {he_wer * 100:.2f} %\")"
   ]
  }
 ],
 "metadata": {
  "kernelspec": {
   "display_name": "Python 3",
   "language": "python",
   "name": "python3"
  },
  "language_info": {
   "codemirror_mode": {
    "name": "ipython",
    "version": 3
   },
   "file_extension": ".py",
   "mimetype": "text/x-python",
   "name": "python",
   "nbconvert_exporter": "python",
   "pygments_lexer": "ipython3",
   "version": "3.7.12"
  }
 },
 "nbformat": 4,
 "nbformat_minor": 5
}
