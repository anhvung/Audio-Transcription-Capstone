{
 "cells": [
  {
   "cell_type": "markdown",
   "metadata": {
    "collapsed": true,
    "pycharm": {
     "name": "#%% md\n"
    }
   },
   "source": [
    "# Testing Whisper's Robustness to Noisy Librispeech\n",
    "\n",
    "using Hugging Face version [Whisper model](https://huggingface.co/docs/transformers/model_doc/whisper)"
   ]
  },
  {
   "cell_type": "code",
   "execution_count": 1,
   "outputs": [],
   "source": [
    "import utils\n",
    "import transformers\n",
    "import os\n",
    "transformers.logging.set_verbosity_error()"
   ],
   "metadata": {
    "collapsed": false,
    "pycharm": {
     "name": "#%%\n"
    }
   }
  },
  {
   "cell_type": "code",
   "execution_count": 2,
   "outputs": [
    {
     "name": "stdout",
     "output_type": "stream",
     "text": [
      "4 available cpus\n"
     ]
    }
   ],
   "source": [
    "from multiprocessing import set_start_method, cpu_count\n",
    "set_start_method(\"spawn\")\n",
    "num_cpus = cpu_count()\n",
    "print('{} available cpus'.format(num_cpus))"
   ],
   "metadata": {
    "collapsed": false,
    "pycharm": {
     "name": "#%%\n"
    }
   }
  },
  {
   "cell_type": "code",
   "execution_count": 3,
   "outputs": [],
   "source": [
    "# set paths for input/output\n",
    "root = '/home/sivan'\n",
    "project = '/home/sivan/asr'\n",
    "datasets_path = os.path.join(root, 'datasets')\n",
    "predictions_path = os.path.join(root, 'predictions')\n",
    "# create folders if they do not already exist\n",
    "if not os.path.exists(datasets_path): os.makedirs(datasets_path)\n",
    "if not os.path.exists(predictions_path): os.makedirs(predictions_path)"
   ],
   "metadata": {
    "collapsed": false,
    "pycharm": {
     "name": "#%%\n"
    }
   }
  },
  {
   "cell_type": "markdown",
   "source": [
    "## Getting 1~6% noisy data"
   ],
   "metadata": {
    "collapsed": false,
    "pycharm": {
     "name": "#%% md\n"
    }
   }
  },
  {
   "cell_type": "code",
   "execution_count": 4,
   "outputs": [
    {
     "name": "stdout",
     "output_type": "stream",
     "text": [
      "Skipping existing item: file://./lr_clean_test_ds_1000Hz_w2v2_base_960h/dataset.arrow\r\n",
      "Skipping existing item: file://./lr_clean_test_ds_1000Hz_w2v2_base_960h/dataset_info.json\r\n",
      "Skipping existing item: file://./lr_clean_test_ds_1000Hz_w2v2_base_960h/state.json\r\n",
      "Skipping existing item: file://./lr_clean_test_ds_16000Hz_w2v2_base_960h/dataset.arrow\r\n",
      "Skipping existing item: file://./lr_clean_test_ds_16000Hz_w2v2_base_960h/dataset_info.json\r\n",
      "Skipping existing item: file://./lr_clean_test_ds_2000Hz_w2v2_base_960h/dataset.arrow\r\n",
      "Skipping existing item: file://./lr_clean_test_ds_2000Hz_w2v2_base_960h/dataset_info.json\r\n",
      "Skipping existing item: file://./lr_clean_test_ds_16000Hz_w2v2_base_960h/state.json\r\n",
      "Skipping existing item: file://./lr_clean_test_ds_4000Hz_w2v2_base_960h/dataset.arrow\r\n",
      "Skipping existing item: file://./lr_clean_test_ds_2000Hz_w2v2_base_960h/state.json\r\n",
      "Skipping existing item: file://./lr_clean_test_ds_4000Hz_w2v2_base_960h/dataset_info.json\r\n",
      "Skipping existing item: file://./lr_clean_test_ds_500Hz_w2v2_base_960h/dataset_info.json\r\n",
      "Skipping existing item: file://./lr_clean_test_ds_4000Hz_w2v2_base_960h/state.json\r\n",
      "Skipping existing item: file://./lr_clean_test_ds_500Hz_w2v2_base_960h/dataset.arrow\r\n",
      "Skipping existing item: file://./lr_clean_test_ds_500Hz_w2v2_base_960h/state.json\r\n",
      "Skipping existing item: file://./lr_clean_test_ds_8000Hz_w2v2_base_960h/dataset.arrow\r\n",
      "Skipping existing item: file://./lr_clean_test_ds_8000Hz_w2v2_base_960h/dataset_info.json\r\n",
      "Skipping existing item: file://./lr_clean_test_ds_8000Hz_w2v2_base_960h/state.json\r\n",
      "Skipping existing item: file://./lr_clean_test_ns_0%_w2v2_base_960h/dataset.arrow\r\n",
      "Skipping existing item: file://./lr_clean_test_ns_0%_w2v2_base_960h/dataset_info.json\r\n",
      "Skipping existing item: file://./lr_clean_test_ns_0%_w2v2_base_960h/state.json\r\n",
      "Skipping existing item: file://./lr_clean_test_ns_1%_w2v2_base_960h/dataset.arrow\r\n",
      "Skipping existing item: file://./lr_clean_test_ns_1%_w2v2_base_960h/dataset_info.json\r\n",
      "Skipping existing item: file://./lr_clean_test_ns_1%_w2v2_base_960h/state.json\r\n",
      "Skipping existing item: file://./lr_clean_test_ns_2%_w2v2_base_960h/dataset.arrow\r\n",
      "Skipping existing item: file://./lr_clean_test_ns_2%_w2v2_base_960h/dataset_info.json\r\n",
      "Skipping existing item: file://./lr_clean_test_ns_2%_w2v2_base_960h/state.json\r\n",
      "Skipping existing item: file://./lr_clean_test_ns_3%_w2v2_base_960h/dataset_info.json\r\n",
      "Skipping existing item: file://./lr_clean_test_ns_3%_w2v2_base_960h/dataset.arrow\r\n",
      "Skipping existing item: file://./lr_clean_test_ns_3%_w2v2_base_960h/state.json\r\n",
      "Skipping existing item: file://./lr_clean_test_ns_4%_w2v2_base_960h/dataset_info.json\r\n",
      "Skipping existing item: file://./lr_clean_test_ns_4%_w2v2_base_960h/dataset.arrow\r\n",
      "Skipping existing item: file://./lr_clean_test_ns_4%_w2v2_base_960h/state.json\r\n",
      "Skipping existing item: file://./lr_clean_test_ns_5%_w2v2_base_960h/dataset.arrow\r\n",
      "Skipping existing item: file://./lr_clean_test_ns_5%_w2v2_base_960h/dataset_info.json\r\n",
      "Skipping existing item: file://./lr_clean_test_ns_5%_w2v2_base_960h/state.json\r\n",
      "Skipping existing item: file://./lr_clean_test_ns_6%_w2v2_base_960h/dataset.arrow\r\n",
      "Skipping existing item: file://./lr_clean_test_ns_6%_w2v2_base_960h/dataset_info.json\r\n",
      "Skipping existing item: file://./lr_clean_test_w2v2_base_960h/dataset_info.json\r\n",
      "Skipping existing item: file://./lr_clean_test_ns_6%_w2v2_base_960h/state.json\r\n",
      "Skipping existing item: file://./lr_clean_test_w2v2_base_960h/dataset.arrow\r\n",
      "Skipping existing item: file://./lr_clean_test_w2v2_base_960h/state.json\r\n"
     ]
    }
   ],
   "source": [
    "# Loading data from bucket https://console.cloud.google.com/storage/browser/capstone_datasets/librispeech/test/predictions;tab=objects?project=ecbm4040-an3078-326401&pageState=(%22StorageObjectListTable%22:(%22f%22:%22%255B%255D%22))&prefix=&forceOnObjectsSortingFiltering=false\n",
    "# different rate of noisy data saved by wav2vec-downsample branch https://github.com/anhvung/Capstone-Audio-Transcription/blob/wav2vec-downsample/wav2vec/downsample.ipynb\n",
    "# 9.4GB in total taking ~60s\n",
    "os.chdir(datasets_path)\n",
    "!gsutil -m cp -n -r gs://capstone_datasets/librispeech/test/predictions/* .\n",
    "os.chdir(project)"
   ],
   "metadata": {
    "collapsed": false,
    "pycharm": {
     "name": "#%%\n"
    }
   }
  },
  {
   "cell_type": "code",
   "execution_count": 5,
   "outputs": [],
   "source": [
    "# 6 rates of noise\n",
    "noise = [1,2,3,4,5,6]\n",
    "datasets = {}\n",
    "\n",
    "# load datasets and remove results\n",
    "for i in noise:\n",
    "    datasets[i] = utils.load_from_disk(utils.os.path.join(datasets_path, 'lr_clean_test_ns_{}%_w2v2_base_960h'.format(i)))\n",
    "    datasets[i] = datasets[i].remove_columns(['logits', 'transcription', 'label'])"
   ],
   "metadata": {
    "collapsed": false,
    "pycharm": {
     "name": "#%%\n"
    }
   }
  },
  {
   "cell_type": "code",
   "execution_count": 6,
   "outputs": [
    {
     "name": "stdout",
     "output_type": "stream",
     "text": [
      "Dataset({\n",
      "    features: ['audio', 'ground_truth'],\n",
      "    num_rows: 2620\n",
      "})\n",
      "{'audio': {'path': None, 'array': array([ 0.0045166 ,  0.00357056, -0.00195312, ..., -0.00308228,\n",
      "        0.00469971, -0.00299072]), 'sampling_rate': 16000}, 'ground_truth': 'WELL NOW ENNIS I DECLARE YOU HAVE A HEAD AND SO HAS MY STICK'}\n"
     ]
    }
   ],
   "source": [
    "# inspecting metadata\n",
    "print(datasets[1])\n",
    "print(datasets[1][10])"
   ],
   "metadata": {
    "collapsed": false,
    "pycharm": {
     "name": "#%%\n"
    }
   }
  },
  {
   "cell_type": "markdown",
   "source": [
    "## Testing on Whisper-base.enb"
   ],
   "metadata": {
    "collapsed": false,
    "pycharm": {
     "name": "#%% md\n"
    }
   }
  },
  {
   "cell_type": "code",
   "execution_count": 7,
   "outputs": [
    {
     "name": "stdout",
     "output_type": "stream",
     "text": [
      "Defaulting to user installation because normal site-packages is not writeable\r\n",
      "Collecting git+https://github.com/openai/whisper.git\r\n",
      "  Cloning https://github.com/openai/whisper.git to /tmp/pip-req-build-6eoiq963\r\n",
      "  Running command git clone --filter=blob:none --quiet https://github.com/openai/whisper.git /tmp/pip-req-build-6eoiq963\r\n",
      "  Resolved https://github.com/openai/whisper.git to commit 9f70a352f9f8630ab3aa0d06af5cb9532bd8c21d\r\n",
      "  Preparing metadata (setup.py) ... \u001B[?25ldone\r\n",
      "\u001B[?25hRequirement already satisfied: numpy in /opt/conda/envs/pytorch_env/lib/python3.9/site-packages (from whisper==1.0) (1.23.1)\r\n",
      "Requirement already satisfied: torch in /home/sivan/.local/lib/python3.9/site-packages (from whisper==1.0) (1.10.0)\r\n",
      "Requirement already satisfied: tqdm in /home/sivan/.local/lib/python3.9/site-packages (from whisper==1.0) (4.64.1)\r\n",
      "Requirement already satisfied: more-itertools in /home/sivan/.local/lib/python3.9/site-packages (from whisper==1.0) (9.0.0)\r\n",
      "Requirement already satisfied: transformers>=4.19.0 in /home/sivan/.local/lib/python3.9/site-packages (from whisper==1.0) (4.23.1)\r\n",
      "Requirement already satisfied: ffmpeg-python==0.2.0 in /home/sivan/.local/lib/python3.9/site-packages (from whisper==1.0) (0.2.0)\r\n",
      "Requirement already satisfied: future in /home/sivan/.local/lib/python3.9/site-packages (from ffmpeg-python==0.2.0->whisper==1.0) (0.18.2)\r\n",
      "Requirement already satisfied: filelock in /home/sivan/.local/lib/python3.9/site-packages (from transformers>=4.19.0->whisper==1.0) (3.8.0)\r\n",
      "Requirement already satisfied: requests in /opt/conda/envs/pytorch_env/lib/python3.9/site-packages (from transformers>=4.19.0->whisper==1.0) (2.28.1)\r\n",
      "Requirement already satisfied: tokenizers!=0.11.3,<0.14,>=0.11.1 in /home/sivan/.local/lib/python3.9/site-packages (from transformers>=4.19.0->whisper==1.0) (0.13.1)\r\n",
      "Requirement already satisfied: packaging>=20.0 in /opt/conda/envs/pytorch_env/lib/python3.9/site-packages (from transformers>=4.19.0->whisper==1.0) (21.3)\r\n",
      "Requirement already satisfied: pyyaml>=5.1 in /home/sivan/.local/lib/python3.9/site-packages (from transformers>=4.19.0->whisper==1.0) (6.0)\r\n",
      "Requirement already satisfied: regex!=2019.12.17 in /home/sivan/.local/lib/python3.9/site-packages (from transformers>=4.19.0->whisper==1.0) (2022.9.13)\r\n",
      "Requirement already satisfied: huggingface-hub<1.0,>=0.10.0 in /home/sivan/.local/lib/python3.9/site-packages (from transformers>=4.19.0->whisper==1.0) (0.10.1)\r\n",
      "Requirement already satisfied: typing-extensions in /opt/conda/envs/pytorch_env/lib/python3.9/site-packages (from torch->whisper==1.0) (4.3.0)\r\n",
      "Requirement already satisfied: pyparsing!=3.0.5,>=2.0.2 in /opt/conda/envs/pytorch_env/lib/python3.9/site-packages (from packaging>=20.0->transformers>=4.19.0->whisper==1.0) (3.0.9)\r\n",
      "Requirement already satisfied: idna<4,>=2.5 in /opt/conda/envs/pytorch_env/lib/python3.9/site-packages (from requests->transformers>=4.19.0->whisper==1.0) (3.4)\r\n",
      "Requirement already satisfied: urllib3<1.27,>=1.21.1 in /opt/conda/envs/pytorch_env/lib/python3.9/site-packages (from requests->transformers>=4.19.0->whisper==1.0) (1.26.11)\r\n",
      "Requirement already satisfied: charset-normalizer<3,>=2 in /opt/conda/envs/pytorch_env/lib/python3.9/site-packages (from requests->transformers>=4.19.0->whisper==1.0) (2.1.1)\r\n",
      "Requirement already satisfied: certifi>=2017.4.17 in /opt/conda/envs/pytorch_env/lib/python3.9/site-packages (from requests->transformers>=4.19.0->whisper==1.0) (2022.9.24)\r\n"
     ]
    }
   ],
   "source": [
    "!pip install git+https://github.com/openai/whisper.git"
   ],
   "metadata": {
    "collapsed": false,
    "pycharm": {
     "name": "#%%\n"
    }
   }
  },
  {
   "cell_type": "code",
   "execution_count": 7,
   "outputs": [],
   "source": [
    "# import\n",
    "import torch\n",
    "import pandas as pd\n",
    "import whisper\n",
    "import numpy as np\n",
    "import torchaudio\n",
    "from tqdm.notebook import tqdm"
   ],
   "metadata": {
    "collapsed": false,
    "pycharm": {
     "name": "#%%\n"
    }
   }
  },
  {
   "cell_type": "code",
   "execution_count": 9,
   "outputs": [
    {
     "name": "stdout",
     "output_type": "stream",
     "text": [
      "Model is English-only and has 71,825,408 parameters.\n"
     ]
    }
   ],
   "source": [
    "# load base model and review\n",
    "model = whisper.load_model(\"base.en\")\n",
    "print(\n",
    "    f\"Model is {'multilingual' if model.is_multilingual else 'English-only'} \"\n",
    "    f\"and has {sum(np.prod(p.shape) for p in model.parameters()):,} parameters.\"\n",
    ")"
   ],
   "metadata": {
    "collapsed": false,
    "pycharm": {
     "name": "#%%\n"
    }
   }
  },
  {
   "cell_type": "code",
   "execution_count": 8,
   "outputs": [
    {
     "name": "stdout",
     "output_type": "stream",
     "text": [
      "cuda\n"
     ]
    }
   ],
   "source": [
    "DEVICE = \"cuda\" if torch.cuda.is_available() else \"cpu\"\n",
    "print(DEVICE)"
   ],
   "metadata": {
    "collapsed": false,
    "pycharm": {
     "name": "#%%\n"
    }
   }
  },
  {
   "cell_type": "code",
   "execution_count": 10,
   "outputs": [],
   "source": [
    "# load base model and processor\n",
    "processor, model = utils.load_whisper(\"openai/whisper-base.en\")"
   ],
   "metadata": {
    "collapsed": false,
    "pycharm": {
     "name": "#%%\n"
    }
   }
  },
  {
   "cell_type": "code",
   "execution_count": 13,
   "outputs": [
    {
     "name": "stdout",
     "output_type": "stream",
     "text": [
      "Skipping saved prediction...\n",
      "Skipping saved prediction...\n",
      "Start eval on 3 % noisy Librispeech\n"
     ]
    },
    {
     "data": {
      "text/plain": "  0%|          | 0/2620 [00:00<?, ?ex/s]",
      "application/vnd.jupyter.widget-view+json": {
       "version_major": 2,
       "version_minor": 0,
       "model_id": "32536ded473840079f51a3cad37c938c"
      }
     },
     "metadata": {},
     "output_type": "display_data"
    },
    {
     "name": "stdout",
     "output_type": "stream",
     "text": [
      "Saving dataset...\n",
      "Start eval on 4 % noisy Librispeech\n"
     ]
    },
    {
     "data": {
      "text/plain": "  0%|          | 0/2620 [00:00<?, ?ex/s]",
      "application/vnd.jupyter.widget-view+json": {
       "version_major": 2,
       "version_minor": 0,
       "model_id": "bf398535c16d4f2693f1b19e13b40e79"
      }
     },
     "metadata": {},
     "output_type": "display_data"
    },
    {
     "name": "stdout",
     "output_type": "stream",
     "text": [
      "Saving dataset...\n",
      "Start eval on 5 % noisy Librispeech\n"
     ]
    },
    {
     "data": {
      "text/plain": "  0%|          | 0/2620 [00:00<?, ?ex/s]",
      "application/vnd.jupyter.widget-view+json": {
       "version_major": 2,
       "version_minor": 0,
       "model_id": "2cf632f04f5a42aa9631fd2fc228d5c3"
      }
     },
     "metadata": {},
     "output_type": "display_data"
    },
    {
     "name": "stdout",
     "output_type": "stream",
     "text": [
      "Saving dataset...\n",
      "Start eval on 6 % noisy Librispeech\n"
     ]
    },
    {
     "data": {
      "text/plain": "  0%|          | 0/2620 [00:00<?, ?ex/s]",
      "application/vnd.jupyter.widget-view+json": {
       "version_major": 2,
       "version_minor": 0,
       "model_id": "1ceb424739574db993ce6e3b3da8bf3e"
      }
     },
     "metadata": {},
     "output_type": "display_data"
    },
    {
     "name": "stdout",
     "output_type": "stream",
     "text": [
      "Saving dataset...\n",
      "CPU times: user 1h 23min 38s, sys: 3min 38s, total: 1h 27min 16s\n",
      "Wall time: 57min 22s\n"
     ]
    }
   ],
   "source": [
    "%%time\n",
    "# compute prediction for all datasets\n",
    "results = {}\n",
    "for i in noise:\n",
    "    save_path = os.path.join(predictions_path, 'lr_clean_test_ns_' + str(i) + '%_whisper_base.en')\n",
    "    if os.path.exists(save_path):\n",
    "        print(\"Skipping saved prediction...\")\n",
    "        continue\n",
    "    print(\"Start eval on\", i, \"% noisy Librispeech\")\n",
    "    # eval on batches\n",
    "    results[i] = datasets[i].map(utils.map_to_pred,\n",
    "                                 fn_kwargs={\"model\": model, \"processor\": processor},\n",
    "                                 # num_proc=num_cpus,\n",
    "                                 writer_batch_size=1000)\n",
    "    # save results to output folder\n",
    "    print(\"Saving dataset...\")\n",
    "    results[i].save_to_disk(save_path)"
   ],
   "metadata": {
    "collapsed": false,
    "pycharm": {
     "name": "#%%\n"
    }
   }
  },
  {
   "cell_type": "code",
   "execution_count": 14,
   "outputs": [
    {
     "name": "stdout",
     "output_type": "stream",
     "text": [
      "Copying file://./predictions/lr_clean_test_ds_16000Hz_whisper_base.en/state.json [Content-Type=application/json]...\r\n",
      "Copying file://./predictions/lr_clean_test_ns_6%_whisper_base.en/state.json [Content-Type=application/json]...\r\n",
      "Copying file://./predictions/lr_clean_test_ns_6%_whisper_base.en/dataset.arrow [Content-Type=application/octet-stream]...\r\n",
      "Copying file://./predictions/lr_clean_test_ds_16000Hz_whisper_base.en/cache-84fe5b479d8af6b6.arrow [Content-Type=application/octet-stream]...\r\n",
      "Copying file://./predictions/lr_clean_test_ns_6%_whisper_base.en/dataset_info.json [Content-Type=application/json]...\r\n",
      "==> NOTE: You are uploading one or more large file(s), which would run          \r\n",
      "significantly faster if you enable parallel composite uploads. This\r\n",
      "feature can be enabled by editing the\r\n",
      "\"parallel_composite_upload_threshold\" value in your .boto\r\n",
      "configuration file. However, note that if you do this large files will\r\n",
      "be uploaded as `composite objects\r\n",
      "<https://cloud.google.com/storage/docs/composite-objects>`_,which\r\n",
      "means that any user who downloads such objects will need to have a\r\n",
      "compiled crcmod installed (see \"gsutil help crcmod\"). This is because\r\n",
      "without a compiled crcmod, computing checksums on composite objects is\r\n",
      "so slow that gsutil disables downloads of composite objects.\r\n",
      "\r\n",
      "Copying file://./predictions/lr_clean_test_ns_2%_whisper_base.en/dataset.arrow [Content-Type=application/octet-stream]...\r\n",
      "Copying file://./predictions/lr_clean_test_ds_4000Hz_whisper_base.en/cache-bbe35ccd0cabbbe8.arrow [Content-Type=application/octet-stream]...\r\n",
      "Copying file://./predictions/lr_clean_test_ds_4000Hz_whisper_base.en/state.json [Content-Type=application/json]...\r\n",
      "Copying file://./predictions/lr_clean_test_ns_1%_whisper_base.en/dataset_info.json [Content-Type=application/json]...\r\n",
      "Copying file://./predictions/lr_clean_test_ds_4000Hz_whisper_base.en/dataset_info.json [Content-Type=application/json]...\r\n",
      "Copying file://./predictions/lr_clean_test_ds_4000Hz_whisper_base.en/dataset.arrow [Content-Type=application/octet-stream]...\r\n",
      "Copying file://./predictions/lr_clean_test_ns_1%_whisper_base.en/dataset.arrow [Content-Type=application/octet-stream]...\r\n",
      "Copying file://./predictions/lr_clean_test_ds_16000Hz_whisper_base.en/cache-a182a002cc3a9425.arrow [Content-Type=application/octet-stream]...\r\n",
      "Copying file://./predictions/lr_clean_test_ns_2%_whisper_base.en/state.json [Content-Type=application/json]...\r\n",
      "Copying file://./predictions/lr_clean_test_ns_2%_whisper_base.en/dataset_info.json [Content-Type=application/json]...\r\n",
      "Copying file://./predictions/lr_clean_test_ds_16000Hz_whisper_base.en/dataset_info.json [Content-Type=application/json]...\r\n",
      "Copying file://./predictions/lr_clean_test_ns_1%_whisper_base.en/state.json [Content-Type=application/json]...\r\n",
      "Copying file://./predictions/lr_clean_test_ds_16000Hz_whisper_base.en/cache-16aada9f5c109671.arrow [Content-Type=application/octet-stream]...\r\n",
      "Copying file://./predictions/lr_clean_test_ds_16000Hz_whisper_base.en/cache-10039e94e327bedf.arrow [Content-Type=application/octet-stream]...\r\n",
      "Copying file://./predictions/lr_clean_test_ds_16000Hz_whisper_base.en/dataset.arrow [Content-Type=application/octet-stream]...\r\n",
      "Copying file://./predictions/lr_clean_test_ds_4000Hz_whisper_base.en/cache-db074d86e2607584.arrow [Content-Type=application/octet-stream]...\r\n",
      "Copying file://./predictions/lr_clean_test_ds_1000Hz_whisper_base.en/state.json [Content-Type=application/json]...\r\n",
      "Copying file://./predictions/lr_clean_test_ds_1000Hz_whisper_base.en/dataset.arrow [Content-Type=application/octet-stream]...\r\n",
      "Copying file://./predictions/lr_clean_test_ns_5%_whisper_base.en/dataset_info.json [Content-Type=application/json]...\r\n",
      "Copying file://./predictions/lr_clean_test_ds_1000Hz_whisper_base.en/dataset_info.json [Content-Type=application/json]...\r\n",
      "Copying file://./predictions/lr_clean_test_ds_1000Hz_whisper_base.en/cache-3abe8a8998414327.arrow [Content-Type=application/octet-stream]...\r\n",
      "Copying file://./predictions/lr_clean_test_ns_5%_whisper_base.en/state.json [Content-Type=application/json]...\r\n",
      "Copying file://./predictions/lr_clean_test_ds_1000Hz_whisper_base.en/cache-909da0a32abad0d7.arrow [Content-Type=application/octet-stream]...\r\n",
      "-\r[9/53 files][ 77.6 MiB/ 16.8 GiB]   0% Done                                   Copying file://./predictions/lr_clean_test_ns_5%_whisper_base.en/dataset.arrow [Content-Type=application/octet-stream]...\r\n",
      "Copying file://./predictions/lr_clean_test_ns_4%_whisper_base.en/state.json [Content-Type=application/json]...\r\n",
      "Copying file://./predictions/lr_clean_test_ns_4%_whisper_base.en/dataset_info.json [Content-Type=application/json]...\r\n",
      "Copying file://./predictions/lr_clean_test_ns_3%_whisper_base.en/state.json [Content-Type=application/json]...\r\n",
      "Copying file://./predictions/lr_clean_test_ns_4%_whisper_base.en/dataset.arrow [Content-Type=application/octet-stream]...\r\n",
      "Copying file://./predictions/lr_clean_test_ns_3%_whisper_base.en/dataset_info.json [Content-Type=application/json]...\r\n",
      "Copying file://./predictions/lr_clean_test_ns_3%_whisper_base.en/dataset.arrow [Content-Type=application/octet-stream]...\r\n",
      "Copying file://./predictions/lr_clean_test_ds_500Hz_whisper_base.en/state.json [Content-Type=application/json]...\r\n",
      "Copying file://./predictions/lr_clean_test_ds_500Hz_whisper_base.en/dataset_info.json [Content-Type=application/json]...\r\n",
      "Copying file://./predictions/lr_clean_test_ds_500Hz_whisper_base.en/cache-ec8f89541ee5ba9e.arrow [Content-Type=application/octet-stream]...\r\n",
      "Copying file://./predictions/lr_clean_test_ds_500Hz_whisper_base.en/cache-a14f30576fb97091.arrow [Content-Type=application/octet-stream]...\r\n",
      "Copying file://./predictions/lr_clean_test_ds_500Hz_whisper_base.en/dataset.arrow [Content-Type=application/octet-stream]...\r\n",
      "Copying file://./predictions/lr_clean_test_ds_500Hz_whisper_base.en/cache-ee3fa9e711345eae.arrow [Content-Type=application/octet-stream]...                     -\\| [20/53 files][  1.5 GiB/ 16.8 GiB]   8% Done                                  / [20/53 files][  1.7 GiB/ 16.8 GiB]  10% Done                                  \\|/ [20/53 files][  2.2 GiB/ 16.8 GiB]  12% Done                                  - [20/53 files][  2.4 GiB/ 16.8 GiB]  14% Done                                  |/- [20/53 files][  2.8 GiB/ 16.8 GiB]  16% Done 226.9 MiB/s ETA 00:01:03         \\ [20/53 files][  3.0 GiB/ 16.8 GiB]  17% Done 222.6 MiB/s ETA 00:01:04         | [21/53 files][  3.1 GiB/ 16.8 GiB]  18% Done 220.0 MiB/s ETA 00:01:04         \r\n",
      "| [22/53 files][  9.3 GiB/ 16.8 GiB]  54% Done 231.1 MiB/s ETA 00:00:34         \r [21/53 files][  3.6 GiB/ 16.8 GiB]  21% Done 191.6 MiB/s ETA 00:01:11         \\|-\\| [21/53 files][  4.3 GiB/ 16.8 GiB]  25% Done 181.9 MiB/s ETA 00:01:10         / [21/53 files][  4.5 GiB/ 16.8 GiB]  26% Done 182.0 MiB/s ETA 00:01:09         \\|/ [21/53 files][  4.9 GiB/ 16.8 GiB]  28% Done 181.9 MiB/s ETA 00:01:07         - [21/53 files][  5.0 GiB/ 16.8 GiB]  29% Done 181.9 MiB/s ETA 00:01:06         |/- [21/53 files][  5.4 GiB/ 16.8 GiB]  32% Done 181.9 MiB/s ETA 00:01:04         \\ [21/53 files][  5.6 GiB/ 16.8 GiB]  33% Done 181.9 MiB/s ETA 00:01:03         /-\\ [21/53 files][  5.9 GiB/ 16.8 GiB]  35% Done 181.8 MiB/s ETA 00:01:01         | [21/53 files][  6.1 GiB/ 16.8 GiB]  36% Done 182.0 MiB/s ETA 00:01:00         -\\| [21/53 files][  6.5 GiB/ 16.8 GiB]  38% Done 182.0 MiB/s ETA 00:00:58         / [21/53 files][  6.6 GiB/ 16.8 GiB]  39% Done 182.0 MiB/s ETA 00:00:57         \\|/ [21/53 files][  7.0 GiB/ 16.8 GiB]  41% Done 182.0 MiB/s ETA 00:00:55         - [21/53 files][  7.2 GiB/ 16.8 GiB]  42% Done 181.9 MiB/s ETA 00:00:54         |/- [21/53 files][  7.5 GiB/ 16.8 GiB]  44% Done 180.0 MiB/s ETA 00:00:53         \\ [21/53 files][  7.7 GiB/ 16.8 GiB]  45% Done 175.9 MiB/s ETA 00:00:53         /-\\ [21/53 files][  8.0 GiB/ 16.8 GiB]  47% Done 177.3 MiB/s ETA 00:00:51         | [21/53 files][  8.3 GiB/ 16.8 GiB]  49% Done 186.3 MiB/s ETA 00:00:47         -\\| [21/53 files][  8.7 GiB/ 16.8 GiB]  51% Done 213.0 MiB/s ETA 00:00:39         / [21/53 files][  8.9 GiB/ 16.8 GiB]  53% Done 222.6 MiB/s ETA 00:00:36         \\|Copying file://./predictions/lr_clean_test_ds_500Hz_whisper_base.en/cache-ddae5cf0d31915ae.arrow [Content-Type=application/octet-stream]...\r\n",
      "/\r[23/53 files][ 10.4 GiB/ 16.8 GiB]  61% Done 228.2 MiB/s ETA 00:00:29         \r [22/53 files][  9.8 GiB/ 16.8 GiB]  57% Done 231.3 MiB/s ETA 00:00:31         /-\\ [22/53 files][ 10.2 GiB/ 16.8 GiB]  60% Done 234.4 MiB/s ETA 00:00:29         | [22/53 files][ 10.4 GiB/ 16.8 GiB]  61% Done 229.2 MiB/s ETA 00:00:29         Copying file://./predictions/lr_clean_test_ds_500Hz_whisper_base.en/cache-5127d726e9b2d2b1.arrow [Content-Type=application/octet-stream]...\r\n",
      "Copying file://./predictions/lr_clean_test_ds_2000Hz_whisper_base.en/state.json [Content-Type=application/json]...B]  63% Done 216.6 MiB/s ETA 00:00:29         |/- [23/53 files][ 11.0 GiB/ 16.8 GiB]  65% Done 196.9 MiB/s ETA 00:00:30         \\ [23/53 files][ 11.2 GiB/ 16.8 GiB]  66% Done 187.0 MiB/s ETA 00:00:31         /-\\ [23/53 files][ 11.5 GiB/ 16.8 GiB]  68% Done 182.0 MiB/s ETA 00:00:30         | [23/53 files][ 11.7 GiB/ 16.8 GiB]  69% Done 181.9 MiB/s ETA 00:00:29         -\\| [23/53 files][ 12.1 GiB/ 16.8 GiB]  71% Done 182.1 MiB/s ETA 00:00:27         /\r\n",
      "Copying file://./predictions/lr_clean_test_ds_2000Hz_whisper_base.en/dataset_info.json [Content-Type=application/json]...\r\n",
      "Copying file://./predictions/lr_clean_test_ds_2000Hz_whisper_base.en/cache-3cabaa3f8e695c90.arrow [Content-Type=application/octet-stream]...\r\n",
      "Copying file://./predictions/lr_clean_test_ds_2000Hz_whisper_base.en/dataset.arrow [Content-Type=application/octet-stream]...\r\n",
      "Copying file://./predictions/lr_clean_test_ds_2000Hz_whisper_base.en/cache-33adad6519062434.arrow [Content-Type=application/octet-stream]...\r\n",
      "-\r[29/53 files][ 12.2 GiB/ 16.8 GiB]  72% Done 182.0 MiB/s ETA 00:00:26         Copying file://./predictions/lr_clean_test_ds_8000Hz_whisper_base.en/cache-85d53baaa9d13c05.arrow [Content-Type=application/octet-stream]...\r\n",
      "Copying file://./predictions/lr_clean_test_ds_8000Hz_whisper_base.en/state.json [Content-Type=application/json]...\r\n",
      "Copying file://./predictions/lr_clean_test_ds_8000Hz_whisper_base.en/dataset_info.json [Content-Type=application/json]...\r\n",
      "Copying file://./predictions/lr_clean_test_ds_8000Hz_whisper_base.en/cache-581d5d53a5118524.arrow [Content-Type=application/octet-stream]...\r\n",
      "Copying file://./predictions/lr_clean_test_ds_8000Hz_whisper_base.en/dataset.arrow [Content-Type=application/octet-stream]...\r\n",
      "- [52/53 files][ 16.8 GiB/ 16.8 GiB]  99% Done 153.8 MiB/s ETA 00:00:00         \r [40/53 files][ 12.5 GiB/ 16.8 GiB]  74% Done 190.7 MiB/s ETA 00:00:23         | [42/53 files][ 12.6 GiB/ 16.8 GiB]  74% Done 190.5 MiB/s ETA 00:00:23         / [43/53 files][ 12.6 GiB/ 16.8 GiB]  75% Done 190.6 MiB/s ETA 00:00:23         - [44/53 files][ 12.8 GiB/ 16.8 GiB]  75% Done 190.6 MiB/s ETA 00:00:22         \\| [45/53 files][ 13.0 GiB/ 16.8 GiB]  77% Done 190.4 MiB/s ETA 00:00:21         -\\|/ [45/53 files][ 13.5 GiB/ 16.8 GiB]  80% Done 182.0 MiB/s ETA 00:00:19         \\|/- [45/53 files][ 14.1 GiB/ 16.8 GiB]  83% Done 182.0 MiB/s ETA 00:00:16         |/-\\ [45/53 files][ 14.6 GiB/ 16.8 GiB]  86% Done 181.9 MiB/s ETA 00:00:13         /-\\| [45/53 files][ 15.1 GiB/ 16.8 GiB]  89% Done 182.0 MiB/s ETA 00:00:10         -\\|/ [45/53 files][ 15.7 GiB/ 16.8 GiB]  92% Done 182.0 MiB/s ETA 00:00:07         \\|/-\\| [47/53 files][ 16.4 GiB/ 16.8 GiB]  97% Done 182.0 MiB/s ETA 00:00:03         / [47/53 files][ 16.6 GiB/ 16.8 GiB]  98% Done 182.0 MiB/s ETA 00:00:02         \\|| [50/53 files][ 16.8 GiB/ 16.8 GiB]  99% Done 172.6 MiB/s ETA 00:00:00         / [51/53 files][ 16.8 GiB/ 16.8 GiB]  99% Done 160.3 MiB/s ETA 00:00:00         / [53/53 files][ 16.8 GiB/ 16.8 GiB] 100% Done 151.8 MiB/s ETA 00:00:00         \r\n",
      "Operation completed over 53 objects/16.8 GiB.                                    \r\n"
     ]
    }
   ],
   "source": [
    "# upload results to bucket ~60s for 13.5G\n",
    "os.chdir(root)\n",
    "!gsutil -m cp -n -r ./predictions/ gs://capstone_datasets/librispeech/test/whisper_noise/\n",
    "os.chdir(project)"
   ],
   "metadata": {
    "collapsed": false,
    "pycharm": {
     "name": "#%%\n"
    }
   }
  },
  {
   "cell_type": "code",
   "execution_count": 18,
   "outputs": [
    {
     "name": "stdout",
     "output_type": "stream",
     "text": [
      "WER: Whisper_base.en, ls-test-clean-1%: 6.0 %.\n",
      "WER: Whisper_base.en, ls-test-clean-2%: 11.0 %.\n",
      "WER: Whisper_base.en, ls-test-clean-3%: 15.6 %.\n",
      "WER: Whisper_base.en, ls-test-clean-4%: 24.1 %.\n",
      "WER: Whisper_base.en, ls-test-clean-5%: 33.9 %.\n",
      "WER: Whisper_base.en, ls-test-clean-6%: 40.1 %.\n"
     ]
    }
   ],
   "source": [
    "# load prediction datasets and calculate WER\n",
    "\n",
    "# 6 rates of noise\n",
    "noise = [1,2,3,4,5,6]\n",
    "predictions = {}\n",
    "\n",
    "# WER (reference, hypothesis_clean)\n",
    "for i in noise:\n",
    "    predictions[i] = utils.load_from_disk(utils.os.path.join(predictions_path, 'lr_clean_test_ns_{}%_whisper_base.en'.format(i)))\n",
    "    # predictions[i] = predictions[i].map(map_trans)\n",
    "    # predictions[i].save_to_disk(utils.os.path.join(predictions_path, 'lr_clean_test_ds_' + str(i) + 'Hz_whisper_base.en'))\n",
    "    print('WER: Whisper_base.en, ls-test-clean-{}%:'.format(i), utils.format_wer(predictions[i][\"ground_truth\"], predictions[i][\"transcription\"]), '%.')"
   ],
   "metadata": {
    "collapsed": false,
    "pycharm": {
     "name": "#%%\n"
    }
   }
  }
 ],
 "metadata": {
  "kernelspec": {
   "display_name": "Python 3",
   "language": "python",
   "name": "python3"
  },
  "language_info": {
   "codemirror_mode": {
    "name": "ipython",
    "version": 2
   },
   "file_extension": ".py",
   "mimetype": "text/x-python",
   "name": "python",
   "nbconvert_exporter": "python",
   "pygments_lexer": "ipython2",
   "version": "2.7.6"
  }
 },
 "nbformat": 4,
 "nbformat_minor": 0
}