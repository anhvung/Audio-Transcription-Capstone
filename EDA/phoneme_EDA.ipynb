{
 "cells": [
  {
   "cell_type": "code",
   "execution_count": 1,
   "metadata": {
    "colab": {
     "base_uri": "https://localhost:8080/"
    },
    "executionInfo": {
     "elapsed": 7,
     "status": "ok",
     "timestamp": 1664786861003,
     "user": {
      "displayName": "Alexandria Guo",
      "userId": "11397332379485803960"
     },
     "user_tz": 240
    },
    "id": "LUggb0eKQe9T",
    "outputId": "708c4008-6513-467d-b5f6-1166980bd2aa"
   },
   "outputs": [
    {
     "name": "stdout",
     "output_type": "stream",
     "text": [
      "/content/drive/MyDrive/Capstone Code\n"
     ]
    }
   ],
   "source": [
    "%cd /content/drive/MyDrive/Capstone Code"
   ]
  },
  {
   "cell_type": "code",
   "execution_count": 8,
   "metadata": {
    "executionInfo": {
     "elapsed": 25,
     "status": "ok",
     "timestamp": 1664794479313,
     "user": {
      "displayName": "Alexandria Guo",
      "userId": "11397332379485803960"
     },
     "user_tz": 240
    },
    "id": "zUilzsAHU9k4"
   },
   "outputs": [],
   "source": [
    "#! tar -xf train-clean-100.tar.gz\n",
    "# https://www.nature.com/articles/s41467-022-32012-w."
   ]
  },
  {
   "cell_type": "code",
   "execution_count": 2,
   "metadata": {
    "colab": {
     "base_uri": "https://localhost:8080/"
    },
    "executionInfo": {
     "elapsed": 4918,
     "status": "ok",
     "timestamp": 1664786869542,
     "user": {
      "displayName": "Alexandria Guo",
      "userId": "11397332379485803960"
     },
     "user_tz": 240
    },
    "id": "flkJ_P1XI__C",
    "outputId": "fecaf7c9-7ef3-48ac-d1a0-f19c6b63576e"
   },
   "outputs": [
    {
     "name": "stdout",
     "output_type": "stream",
     "text": [
      "Looking in indexes: https://pypi.org/simple, https://us-python.pkg.dev/colab-wheels/public/simple/\n",
      "Requirement already satisfied: mutagen in /usr/local/lib/python3.7/dist-packages (1.45.1)\n"
     ]
    }
   ],
   "source": [
    "#! pip install mutagen"
   ]
  },
  {
   "cell_type": "code",
   "execution_count": null,
   "metadata": {
    "id": "eFJWwKx0c453"
   },
   "outputs": [],
   "source": [
    "#! pip install phonemizer"
   ]
  },
  {
   "cell_type": "code",
   "execution_count": 3,
   "metadata": {
    "colab": {
     "base_uri": "https://localhost:8080/"
    },
    "executionInfo": {
     "elapsed": 187,
     "status": "ok",
     "timestamp": 1664786872011,
     "user": {
      "displayName": "Alexandria Guo",
      "userId": "11397332379485803960"
     },
     "user_tz": 240
    },
    "id": "2uM7-jx6SpW0",
    "outputId": "d73392d0-dcb8-4004-e91a-c50508527093"
   },
   "outputs": [
    {
     "name": "stdout",
     "output_type": "stream",
     "text": [
      "BOOKS.TXT     LICENSE.TXT  SPEAKERS.TXT\n",
      "CHAPTERS.TXT  README.TXT   \u001b[0m\u001b[01;34mtrain-clean-100\u001b[0m/\n"
     ]
    }
   ],
   "source": [
    "%ls LibriSpeech/"
   ]
  },
  {
   "cell_type": "code",
   "execution_count": 37,
   "metadata": {
    "executionInfo": {
     "elapsed": 254,
     "status": "ok",
     "timestamp": 1664795948511,
     "user": {
      "displayName": "Alexandria Guo",
      "userId": "11397332379485803960"
     },
     "user_tz": 240
    },
    "id": "arN2V8mYSzoT"
   },
   "outputs": [],
   "source": [
    "import os\n",
    "import csv\n",
    "import nltk\n",
    "import numpy as np\n",
    "from collections import defaultdict\n",
    "from mutagen import flac\n",
    "from matplotlib import pyplot as plt\n",
    "#from nltk.corpus.reader import cmudict\n",
    "#from nltk.tokenize import word_tokenize\n",
    "#from phonemizer import phonemize\n",
    "\n",
    "DATA_PATH = \"LibriSpeech/train-clean-100/\""
   ]
  },
  {
   "cell_type": "code",
   "execution_count": 5,
   "metadata": {
    "executionInfo": {
     "elapsed": 190,
     "status": "ok",
     "timestamp": 1664786876733,
     "user": {
      "displayName": "Alexandria Guo",
      "userId": "11397332379485803960"
     },
     "user_tz": 240
    },
    "id": "Q5KKw-GKqHJ2"
   },
   "outputs": [],
   "source": [
    "def load_transcripts_list(filename):\n",
    "    with open(filename,'r') as transcript_list_f: \n",
    "        return [line.strip() for line in transcript_list_f]"
   ]
  },
  {
   "cell_type": "code",
   "execution_count": 7,
   "metadata": {
    "colab": {
     "base_uri": "https://localhost:8080/"
    },
    "executionInfo": {
     "elapsed": 7459214,
     "status": "ok",
     "timestamp": 1664794479310,
     "user": {
      "displayName": "Alexandria Guo",
      "userId": "11397332379485803960"
     },
     "user_tz": 240
    },
    "id": "3uNPda-dRtpG",
    "outputId": "249e3a15-2123-4c74-9017-729e97049777"
   },
   "outputs": [
    {
     "name": "stdout",
     "output_type": "stream",
     "text": [
      "Folder #1: dir name 6818\n",
      "Folder #2: dir name 6147\n",
      "Folder #3: dir name 5022\n",
      "Folder #4: dir name 2910\n",
      "Folder #5: dir name 3983\n",
      "Folder #6: dir name 2836\n",
      "Folder #7: dir name 89\n",
      "Folder #8: dir name 3235\n",
      "Folder #9: dir name 4853\n",
      "Folder #10: dir name 7780\n",
      "Folder #11: dir name 4340\n",
      "Folder #12: dir name 1246\n",
      "Folder #13: dir name 1447\n",
      "Folder #14: dir name 2817\n",
      "Folder #15: dir name 5561\n",
      "Folder #16: dir name 4088\n",
      "Folder #17: dir name 8014\n",
      "Folder #18: dir name 4640\n",
      "Folder #19: dir name 19\n",
      "Folder #20: dir name 248\n",
      "Folder #21: dir name 4362\n",
      "Folder #22: dir name 5163\n",
      "Folder #23: dir name 4297\n",
      "Folder #24: dir name 8975\n",
      "Folder #25: dir name 7178\n",
      "Folder #26: dir name 587\n",
      "Folder #27: dir name 5789\n",
      "Folder #28: dir name 3947\n",
      "Folder #29: dir name 1737\n",
      "Folder #30: dir name 40\n",
      "Folder #31: dir name 1183\n",
      "Folder #32: dir name 4680\n",
      "Folder #33: dir name 6531\n",
      "Folder #34: dir name 6078\n",
      "Folder #35: dir name 250\n",
      "Folder #36: dir name 87\n",
      "Folder #37: dir name 8123\n",
      "Folder #38: dir name 8051\n",
      "Folder #39: dir name 4481\n",
      "Folder #40: dir name 2391\n",
      "Folder #41: dir name 8468\n",
      "Folder #42: dir name 7511\n",
      "Folder #43: dir name 226\n",
      "Folder #44: dir name 1841\n",
      "Folder #45: dir name 441\n",
      "Folder #46: dir name 7635\n",
      "Folder #47: dir name 6415\n",
      "Folder #48: dir name 200\n",
      "Folder #49: dir name 5867\n",
      "Folder #50: dir name 2007\n",
      "Folder #51: dir name 4195\n",
      "Folder #52: dir name 3112\n",
      "Folder #53: dir name 2989\n",
      "Folder #54: dir name 2764\n",
      "Folder #55: dir name 125\n",
      "Folder #56: dir name 83\n",
      "Folder #57: dir name 2196\n",
      "Folder #58: dir name 3526\n",
      "Folder #59: dir name 322\n",
      "Folder #60: dir name 6272\n",
      "Folder #61: dir name 3440\n",
      "Folder #62: dir name 211\n",
      "Folder #63: dir name 1088\n",
      "Folder #64: dir name 3259\n",
      "Folder #65: dir name 1963\n",
      "Folder #66: dir name 4214\n",
      "Folder #67: dir name 7059\n",
      "Folder #68: dir name 302\n",
      "Folder #69: dir name 7148\n",
      "Folder #70: dir name 289\n",
      "Folder #71: dir name 6476\n",
      "Folder #72: dir name 1502\n",
      "Folder #73: dir name 403\n",
      "Folder #74: dir name 1116\n",
      "Folder #75: dir name 5652\n",
      "Folder #76: dir name 7078\n",
      "Folder #77: dir name 1263\n",
      "Folder #78: dir name 1098\n",
      "Folder #79: dir name 8238\n",
      "Folder #80: dir name 32\n",
      "Folder #81: dir name 1069\n",
      "Folder #82: dir name 8324\n",
      "Folder #83: dir name 7800\n",
      "Folder #84: dir name 1970\n",
      "Folder #85: dir name 198\n",
      "Folder #86: dir name 1992\n",
      "Folder #87: dir name 2182\n",
      "Folder #88: dir name 150\n",
      "Folder #89: dir name 2416\n",
      "Folder #90: dir name 1926\n",
      "Folder #91: dir name 4137\n",
      "Folder #92: dir name 2092\n",
      "Folder #93: dir name 5778\n",
      "Folder #94: dir name 1363\n",
      "Folder #95: dir name 7302\n",
      "Folder #96: dir name 5688\n",
      "Folder #97: dir name 7517\n",
      "Folder #98: dir name 7859\n",
      "Folder #99: dir name 39\n",
      "Folder #100: dir name 2691\n",
      "Folder #101: dir name 6385\n",
      "Folder #102: dir name 669\n",
      "Folder #103: dir name 1578\n",
      "Folder #104: dir name 1553\n",
      "Folder #105: dir name 730\n",
      "Folder #106: dir name 3982\n",
      "Folder #107: dir name 6000\n",
      "Folder #108: dir name 328\n",
      "Folder #109: dir name 4160\n",
      "Folder #110: dir name 696\n",
      "Folder #111: dir name 298\n",
      "Folder #112: dir name 103\n",
      "Folder #113: dir name 6064\n",
      "Folder #114: dir name 426\n",
      "Folder #115: dir name 1898\n",
      "Folder #116: dir name 8465\n",
      "Folder #117: dir name 5339\n",
      "Folder #118: dir name 5393\n",
      "Folder #119: dir name 7113\n",
      "Folder #120: dir name 3879\n",
      "Folder #121: dir name 887\n",
      "Folder #122: dir name 8312\n",
      "Folder #123: dir name 4051\n",
      "Folder #124: dir name 5514\n",
      "Folder #125: dir name 7794\n",
      "Folder #126: dir name 163\n",
      "Folder #127: dir name 4406\n",
      "Folder #128: dir name 8095\n",
      "Folder #129: dir name 27\n",
      "Folder #130: dir name 26\n",
      "Folder #131: dir name 5104\n",
      "Folder #132: dir name 8088\n",
      "Folder #133: dir name 6848\n",
      "Folder #134: dir name 2952\n",
      "Folder #135: dir name 445\n",
      "Folder #136: dir name 7226\n",
      "Folder #137: dir name 6081\n",
      "Folder #138: dir name 3436\n",
      "Folder #139: dir name 7402\n",
      "Folder #140: dir name 7505\n",
      "Folder #141: dir name 8838\n",
      "Folder #142: dir name 460\n",
      "Folder #143: dir name 1040\n",
      "Folder #144: dir name 5390\n",
      "Folder #145: dir name 3374\n",
      "Folder #146: dir name 2911\n",
      "Folder #147: dir name 5463\n",
      "Folder #148: dir name 229\n",
      "Folder #149: dir name 311\n",
      "Folder #150: dir name 6181\n",
      "Folder #151: dir name 307\n",
      "Folder #152: dir name 4859\n",
      "Folder #153: dir name 5322\n",
      "Folder #154: dir name 1594\n",
      "Folder #155: dir name 4788\n",
      "Folder #156: dir name 5456\n",
      "Folder #157: dir name 8108\n",
      "Folder #158: dir name 332\n",
      "Folder #159: dir name 2514\n",
      "Folder #160: dir name 3830\n",
      "Folder #161: dir name 3699\n",
      "Folder #162: dir name 839\n",
      "Folder #163: dir name 78\n",
      "Folder #164: dir name 6437\n",
      "Folder #165: dir name 5750\n",
      "Folder #166: dir name 8063\n",
      "Folder #167: dir name 4830\n",
      "Folder #168: dir name 3214\n",
      "Folder #169: dir name 7367\n",
      "Folder #170: dir name 201\n",
      "Folder #171: dir name 3664\n",
      "Folder #172: dir name 3807\n",
      "Folder #173: dir name 2518\n",
      "Folder #174: dir name 7264\n",
      "Folder #175: dir name 4813\n",
      "Folder #176: dir name 1034\n",
      "Folder #177: dir name 7447\n",
      "Folder #178: dir name 412\n",
      "Folder #179: dir name 8747\n",
      "Folder #180: dir name 6529\n",
      "Folder #181: dir name 254\n",
      "Folder #182: dir name 233\n",
      "Folder #183: dir name 4898\n",
      "Folder #184: dir name 2002\n",
      "Folder #185: dir name 2436\n",
      "Folder #186: dir name 1867\n",
      "Folder #187: dir name 911\n",
      "Folder #188: dir name 5678\n",
      "Folder #189: dir name 118\n",
      "Folder #190: dir name 8419\n",
      "Folder #191: dir name 8609\n",
      "Folder #192: dir name 3723\n",
      "Folder #193: dir name 3168\n",
      "Folder #194: dir name 2384\n",
      "Folder #195: dir name 3857\n",
      "Folder #196: dir name 625\n",
      "Folder #197: dir name 6925\n",
      "Folder #198: dir name 196\n",
      "Folder #199: dir name 7190\n",
      "Folder #200: dir name 6454\n",
      "Folder #201: dir name 831\n",
      "Folder #202: dir name 3242\n",
      "Folder #203: dir name 3486\n",
      "Folder #204: dir name 2136\n",
      "Folder #205: dir name 5703\n",
      "Folder #206: dir name 8226\n",
      "Folder #207: dir name 8425\n",
      "Folder #208: dir name 3607\n",
      "Folder #209: dir name 1235\n",
      "Folder #210: dir name 1743\n",
      "Folder #211: dir name 8797\n",
      "Folder #212: dir name 6880\n",
      "Folder #213: dir name 8098\n",
      "Folder #214: dir name 7278\n",
      "Folder #215: dir name 8630\n",
      "Folder #216: dir name 2843\n",
      "Folder #217: dir name 2893\n",
      "Folder #218: dir name 6836\n",
      "Folder #219: dir name 5808\n",
      "Folder #220: dir name 1355\n",
      "Folder #221: dir name 4441\n",
      "Folder #222: dir name 1334\n",
      "Folder #223: dir name 6367\n",
      "Folder #224: dir name 8580\n",
      "Folder #225: dir name 4018\n",
      "Folder #226: dir name 909\n",
      "Folder #227: dir name 4267\n",
      "Folder #228: dir name 458\n",
      "Folder #229: dir name 1081\n",
      "Folder #230: dir name 6563\n",
      "Folder #231: dir name 4397\n",
      "Folder #232: dir name 1723\n",
      "Folder #233: dir name 481\n",
      "Folder #234: dir name 7067\n",
      "Folder #235: dir name 2289\n",
      "Folder #236: dir name 6019\n",
      "Folder #237: dir name 7312\n",
      "Folder #238: dir name 8629\n",
      "Folder #239: dir name 374\n",
      "Folder #240: dir name 5192\n",
      "Folder #241: dir name 5049\n",
      "Folder #242: dir name 3240\n",
      "Folder #243: dir name 8770\n",
      "Folder #244: dir name 446\n",
      "Folder #245: dir name 1455\n",
      "Folder #246: dir name 405\n",
      "Folder #247: dir name 4014\n",
      "Folder #248: dir name 2159\n",
      "Folder #249: dir name 6209\n",
      "Folder #250: dir name 60\n",
      "Folder #251: dir name 1624\n"
     ]
    }
   ],
   "source": [
    "i = 0\n",
    "# dictionary -> filename : (seconds, transcript)\n",
    "soundbytes = {}\n",
    "dirs = os.listdir(DATA_PATH)\n",
    "\n",
    "with open(\"transcipts.csv\", 'w') as outfile:\n",
    "  writer = csv.writer(outfile)\n",
    "  for dir in dirs:\n",
    "    i += 1\n",
    "    print(\"Folder #\"+str(i)+\": dir name \"+dir)\n",
    "    subdirs = os.listdir(os.path.join(DATA_PATH, dir))\n",
    "    for subdir in subdirs:\n",
    "      subdirfs = os.listdir(os.path.join(DATA_PATH, dir, subdir))\n",
    "      for file in subdirfs:\n",
    "        if file.endswith(\".txt\"):\n",
    "          transcript = load_transcripts_list(os.path.join(DATA_PATH, dir, subdir, file))\n",
    "          for line in transcript:\n",
    "            words = line.split()\n",
    "            audio = flac.FLAC(os.path.join(DATA_PATH, dir, subdir, (words[0]+\".flac\")))\n",
    "            writer.writerow([words[0]] + [audio.info.length] + words[1:])\n",
    "            soundbytes[words[0]] = (audio.info.length, words[1:])\n"
   ]
  },
  {
   "cell_type": "code",
   "execution_count": 28,
   "metadata": {
    "executionInfo": {
     "elapsed": 194,
     "status": "ok",
     "timestamp": 1664795356852,
     "user": {
      "displayName": "Alexandria Guo",
      "userId": "11397332379485803960"
     },
     "user_tz": 240
    },
    "id": "jKhVbpeK93-q"
   },
   "outputs": [],
   "source": [
    "clip_lens = [value[0] for value in soundbytes.values()]"
   ]
  },
  {
   "cell_type": "code",
   "execution_count": 35,
   "metadata": {
    "colab": {
     "base_uri": "https://localhost:8080/",
     "height": 458
    },
    "executionInfo": {
     "elapsed": 393,
     "status": "ok",
     "timestamp": 1664795567883,
     "user": {
      "displayName": "Alexandria Guo",
      "userId": "11397332379485803960"
     },
     "user_tz": 240
    },
    "id": "c4J9a_L9iTyB",
    "outputId": "fdb078fb-38b6-438a-cb9a-2597041ec783"
   },
   "outputs": [
    {
     "data": {
      "image/png": "[encoded data removed]",
      "text/plain": [
       "<Figure size 720x504 with 1 Axes>"
      ]
     },
     "metadata": {
      "needs_background": "light"
     },
     "output_type": "display_data"
    }
   ],
   "source": [
    "fig, ax = plt.subplots(figsize =(10, 7))\n",
    "ax.hist(np.array(clip_lens))\n",
    "\n",
    "plt.xlabel(\"Seconds\")\n",
    "plt.ylabel(\"Frequency\")\n",
    "plt.title('Clip lengths in Librispeech train-100-clean')\n",
    "\n",
    "plt.show()"
   ]
  },
  {
   "cell_type": "code",
   "execution_count": 19,
   "metadata": {
    "executionInfo": {
     "elapsed": 2010,
     "status": "ok",
     "timestamp": 1664794927324,
     "user": {
      "displayName": "Alexandria Guo",
      "userId": "11397332379485803960"
     },
     "user_tz": 240
    },
    "id": "z2gsdc37eiPb"
   },
   "outputs": [],
   "source": [
    "phoneme_dict = nltk.corpus.cmudict.dict()"
   ]
  },
  {
   "cell_type": "code",
   "execution_count": 46,
   "metadata": {
    "executionInfo": {
     "elapsed": 3442,
     "status": "ok",
     "timestamp": 1664796164700,
     "user": {
      "displayName": "Alexandria Guo",
      "userId": "11397332379485803960"
     },
     "user_tz": 240
    },
    "id": "uiiH6ylpgqn3"
   },
   "outputs": [],
   "source": [
    "num_words = 0\n",
    "phoneme_count = defaultdict(int)\n",
    "for clip in soundbytes.keys():\n",
    "  for word in soundbytes[clip][1]:\n",
    "    num_words += 1\n",
    "    try:\n",
    "        phs = phoneme_dict[word.lower()][0]\n",
    "        for ph in phs:\n",
    "          # ignores stress notation\n",
    "          phoneme_count[''.join([i for i in ph if not i.isdigit()])] += 1\n",
    "    except Exception as e:\n",
    "        phoneme_count['UNK'] += 1"
   ]
  },
  {
   "cell_type": "code",
   "execution_count": 51,
   "metadata": {
    "colab": {
     "base_uri": "https://localhost:8080/"
    },
    "executionInfo": {
     "elapsed": 4,
     "status": "ok",
     "timestamp": 1664796472315,
     "user": {
      "displayName": "Alexandria Guo",
      "userId": "11397332379485803960"
     },
     "user_tz": 240
    },
    "id": "8lvzeOrblAHt",
    "outputId": "7f3e547d-2d5f-4e9b-9fb9-82af8cabb3d9"
   },
   "outputs": [
    {
     "data": {
      "text/plain": [
       "1.708613565686733"
      ]
     },
     "execution_count": 51,
     "metadata": {},
     "output_type": "execute_result"
    }
   ],
   "source": [
    "100*phoneme_count['UNK']/num_words"
   ]
  },
  {
   "cell_type": "code",
   "execution_count": 57,
   "metadata": {
    "executionInfo": {
     "elapsed": 173,
     "status": "ok",
     "timestamp": 1664796722520,
     "user": {
      "displayName": "Alexandria Guo",
      "userId": "11397332379485803960"
     },
     "user_tz": 240
    },
    "id": "E2YLYJ_NlFRK"
   },
   "outputs": [],
   "source": [
    "phoneme_count.pop('UNK', None)\n",
    "sort_counts = sorted(phoneme_count.items(), key=lambda item: item[1])"
   ]
  },
  {
   "cell_type": "code",
   "execution_count": 65,
   "metadata": {
    "colab": {
     "base_uri": "https://localhost:8080/",
     "height": 350
    },
    "executionInfo": {
     "elapsed": 205,
     "status": "ok",
     "timestamp": 1664796913426,
     "user": {
      "displayName": "Alexandria Guo",
      "userId": "11397332379485803960"
     },
     "user_tz": 240
    },
    "id": "3BaAWpXondcZ",
    "outputId": "efc5efa3-1489-4c26-f84e-ae968b69cb29"
   },
   "outputs": [
    {
     "data": {
      "image/png": "[encoded data removed]",
      "text/plain": [
       "<Figure size 720x360 with 1 Axes>"
      ]
     },
     "metadata": {
      "needs_background": "light"
     },
     "output_type": "display_data"
    }
   ],
   "source": [
    "fig = plt.figure(figsize = (10, 5))\n",
    " \n",
    "plt.bar([pair[0] for pair in sort_counts[:5]], \n",
    "        [pair[1] for pair in sort_counts[:5]],\n",
    "        color ='maroon',\n",
    "        width = 0.8)\n",
    " \n",
    "plt.xlabel(\"Phoneme\")\n",
    "plt.ylabel(\"Frequency\")\n",
    "plt.title(\"Bottom 5 phonemes represented in train-100-clean\")\n",
    "plt.show()"
   ]
  },
  {
   "cell_type": "code",
   "execution_count": 66,
   "metadata": {
    "colab": {
     "base_uri": "https://localhost:8080/",
     "height": 350
    },
    "executionInfo": {
     "elapsed": 462,
     "status": "ok",
     "timestamp": 1664796943352,
     "user": {
      "displayName": "Alexandria Guo",
      "userId": "11397332379485803960"
     },
     "user_tz": 240
    },
    "id": "mJhwic_Lnwi6",
    "outputId": "8b0e1841-3935-44f0-f922-119350e849e3"
   },
   "outputs": [
    {
     "data": {
      "image/png": "[encoded data removed]",
      "text/plain": [
       "<Figure size 720x360 with 1 Axes>"
      ]
     },
     "metadata": {
      "needs_background": "light"
     },
     "output_type": "display_data"
    }
   ],
   "source": [
    "fig = plt.figure(figsize = (10, 5))\n",
    " \n",
    "plt.bar([pair[0] for pair in sort_counts[-5:]], \n",
    "        [pair[1] for pair in sort_counts[-5:]],\n",
    "        color ='green',\n",
    "        width = 0.8)\n",
    " \n",
    "plt.xlabel(\"Phoneme\")\n",
    "plt.ylabel(\"Frequency\")\n",
    "plt.title(\"Top 5 phonemes represented in train-100-clean\")\n",
    "plt.show()"
   ]
  }
 ],
 "metadata": {
  "accelerator": "GPU",
  "colab": {
   "authorship_tag": "ABX9TyPAF1EjmmYlQchVZ2O13cq0",
   "collapsed_sections": [],
   "mount_file_id": "17BrrmrmLSkyejrRwwHJDdMl5ymfKqA45",
   "provenance": []
  },
  "kernelspec": {
   "display_name": "Python 3 (ipykernel)",
   "language": "python",
   "name": "python3"
  },
  "language_info": {
   "codemirror_mode": {
    "name": "ipython",
    "version": 3
   },
   "file_extension": ".py",
   "mimetype": "text/x-python",
   "name": "python",
   "nbconvert_exporter": "python",
   "pygments_lexer": "ipython3",
   "version": "3.8.12"
  }
 },
 "nbformat": 4,
 "nbformat_minor": 1
}
