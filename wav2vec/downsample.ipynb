{
 "cells": [
  {
   "cell_type": "markdown",
   "id": "f65fb5e6",
   "metadata": {},
   "source": [
    "# Downsample"
   ]
  },
  {
   "cell_type": "code",
   "execution_count": 2,
   "id": "0c42c366-22e7-4585-ad0e-ba04020aeb0b",
   "metadata": {},
   "outputs": [],
   "source": [
    "import utils"
   ]
  },
  {
   "cell_type": "markdown",
   "id": "653c16ae-f2d3-4b7a-a7f1-4302a3bdf3ae",
   "metadata": {},
   "source": [
    "## 1. Load data"
   ]
  },
  {
   "cell_type": "code",
   "execution_count": 2,
   "id": "1630dff8-3c70-47b1-96af-03f7b317ed6b",
   "metadata": {},
   "outputs": [
    {
     "name": "stdout",
     "output_type": "stream",
     "text": [
      "Copying gs://capstone_datasets/librispeech/test/predictions/lr-clean-test-w2v2-base-960h.hf/dataset.arrow...\n",
      "Copying gs://capstone_datasets/librispeech/test/predictions/lr-clean-test-w2v2-base-960h.hf/dataset_info.json...\n",
      "Copying gs://capstone_datasets/librispeech/test/predictions/lr-clean-test-w2v2-base-960h.hf/state.json...\n",
      "/ [3/3 files][717.1 MiB/717.1 MiB] 100% Done  59.1 MiB/s ETA 00:00:00           \n",
      "Operation completed over 3 objects/717.1 MiB.                                    \n"
     ]
    }
   ],
   "source": [
    "!gsutil -m cp -n -r gs://capstone_datasets/librispeech/test/predictions/* ./predictions/"
   ]
  },
  {
   "cell_type": "code",
   "execution_count": 3,
   "id": "434e50ed-39fe-48da-88bd-502ce82213ca",
   "metadata": {},
   "outputs": [],
   "source": [
    "dataset = utils.load_from_disk(utils.os.path.join(utils.predictions_path, 'lr-clean-test-w2v2-base-960h.hf'))"
   ]
  },
  {
   "cell_type": "code",
   "execution_count": 4,
   "id": "e6a607d9-9469-4e21-93b1-1c27bd9380ca",
   "metadata": {},
   "outputs": [
    {
     "data": {
      "text/plain": [
       "Dataset({\n",
       "    features: ['audio', 'label', 'ground_truth', 'logits', 'transcription'],\n",
       "    num_rows: 2620\n",
       "})"
      ]
     },
     "execution_count": 4,
     "metadata": {},
     "output_type": "execute_result"
    }
   ],
   "source": [
    "dataset"
   ]
  },
  {
   "cell_type": "code",
   "execution_count": 5,
   "id": "54b6bbe2-6901-4825-88ff-dfcc1cae0323",
   "metadata": {},
   "outputs": [
    {
     "data": {
      "text/plain": [
       "2620"
      ]
     },
     "execution_count": 5,
     "metadata": {},
     "output_type": "execute_result"
    }
   ],
   "source": [
    "dataset.num_rows"
   ]
  },
  {
   "cell_type": "markdown",
   "id": "46817187-8d53-4762-a9d7-2deb00e50528",
   "metadata": {},
   "source": [
    "## 2. Select 200 audio tracks randomly"
   ]
  },
  {
   "cell_type": "code",
   "execution_count": 6,
   "id": "bed7184c-b07a-46ba-b17f-c53c0e5dfc0a",
   "metadata": {},
   "outputs": [],
   "source": [
    "import random\n",
    "\n",
    "# set seed\n",
    "random.seed(69)\n",
    "\n",
    "# select rows of dataset to form a 'tiny' one\n",
    "num_tracks = 200\n",
    "tiny_dataset = dataset.select(random.sample(range(dataset.num_rows), num_tracks))"
   ]
  },
  {
   "cell_type": "markdown",
   "id": "8cae95d6-6197-4e8e-b38f-60900f45459d",
   "metadata": {},
   "source": [
    "## 3. Load tokenizer and model (base-960h)"
   ]
  },
  {
   "cell_type": "code",
   "execution_count": 7,
   "id": "b908ed35-bed9-4d65-b829-620e41ff45bd",
   "metadata": {},
   "outputs": [
    {
     "name": "stderr",
     "output_type": "stream",
     "text": [
      "The tokenizer class you load from this checkpoint is not the same type as the class this function is called from. It may result in unexpected tokenization. \n",
      "The tokenizer class you load from this checkpoint is 'Wav2Vec2CTCTokenizer'. \n",
      "The class this function is called from is 'Wav2Vec2Tokenizer'.\n",
      "/opt/conda/lib/python3.7/site-packages/transformers/models/wav2vec2/tokenization_wav2vec2.py:757: FutureWarning: The class `Wav2Vec2Tokenizer` is deprecated and will be removed in version 5 of Transformers. Please use `Wav2Vec2Processor` or `Wav2Vec2CTCTokenizer` instead.\n",
      "  FutureWarning,\n",
      "Some weights of Wav2Vec2ForCTC were not initialized from the model checkpoint at facebook/wav2vec2-base-960h and are newly initialized: ['wav2vec2.masked_spec_embed']\n",
      "You should probably TRAIN this model on a down-stream task to be able to use it for predictions and inference.\n"
     ]
    }
   ],
   "source": [
    "tokenizer, model = utils.load_wav2vec_model(\"facebook/wav2vec2-base-960h\")"
   ]
  },
  {
   "cell_type": "markdown",
   "id": "c169e2d4-b030-4ae4-b1fa-b36464515671",
   "metadata": {},
   "source": [
    "## 4. Downsample across range of rates and compute respective prediction and WER"
   ]
  },
  {
   "cell_type": "code",
   "execution_count": 8,
   "id": "43af18e0-fc5f-4833-aff4-68dad4790d55",
   "metadata": {},
   "outputs": [],
   "source": [
    "ds_rates = [16000,8000,4000,2000,1000,500]\n",
    "wers = [utils.wer(tiny_dataset[\"ground_truth\"], tiny_dataset[\"transcription\"])]"
   ]
  },
  {
   "cell_type": "code",
   "execution_count": 9,
   "id": "c3a25811-5891-405f-86f5-99a97e8ffc0c",
   "metadata": {},
   "outputs": [
    {
     "data": {
      "text/plain": [
       "[0.03019627579265224]"
      ]
     },
     "execution_count": 9,
     "metadata": {},
     "output_type": "execute_result"
    }
   ],
   "source": [
    "wers"
   ]
  },
  {
   "cell_type": "code",
   "execution_count": 10,
   "id": "564cea75-bfc5-45b2-89db-eb4d4ee94bb7",
   "metadata": {},
   "outputs": [
    {
     "name": "stdout",
     "output_type": "stream",
     "text": [
      "----------\n",
      "downsampling to 8000 Hz...\n"
     ]
    },
    {
     "data": {
      "application/vnd.jupyter.widget-view+json": {
       "model_id": "25b1553a9f64440b950ec5dd3002149e",
       "version_major": 2,
       "version_minor": 0
      },
      "text/plain": [
       "  0%|          | 0/200 [00:00<?, ?ex/s]"
      ]
     },
     "metadata": {},
     "output_type": "display_data"
    },
    {
     "name": "stdout",
     "output_type": "stream",
     "text": [
      "computing prediction...\n"
     ]
    },
    {
     "data": {
      "application/vnd.jupyter.widget-view+json": {
       "model_id": "c4e5ea7a3fe340bc9bf779a69006ebb1",
       "version_major": 2,
       "version_minor": 0
      },
      "text/plain": [
       "  0%|          | 0/200 [00:00<?, ?ex/s]"
      ]
     },
     "metadata": {},
     "output_type": "display_data"
    },
    {
     "name": "stdout",
     "output_type": "stream",
     "text": [
      "wer= 3.8 %.\n",
      "----------\n",
      "downsampling to 4000 Hz...\n"
     ]
    },
    {
     "data": {
      "application/vnd.jupyter.widget-view+json": {
       "model_id": "9fb69516898a49f198a1d941c722bdd2",
       "version_major": 2,
       "version_minor": 0
      },
      "text/plain": [
       "  0%|          | 0/200 [00:00<?, ?ex/s]"
      ]
     },
     "metadata": {},
     "output_type": "display_data"
    },
    {
     "name": "stdout",
     "output_type": "stream",
     "text": [
      "computing prediction...\n"
     ]
    },
    {
     "data": {
      "application/vnd.jupyter.widget-view+json": {
       "model_id": "67f2e57446474114b973870cd2e383dd",
       "version_major": 2,
       "version_minor": 0
      },
      "text/plain": [
       "  0%|          | 0/200 [00:00<?, ?ex/s]"
      ]
     },
     "metadata": {},
     "output_type": "display_data"
    },
    {
     "name": "stdout",
     "output_type": "stream",
     "text": [
      "wer= 19.8 %.\n",
      "----------\n",
      "downsampling to 2000 Hz...\n"
     ]
    },
    {
     "data": {
      "application/vnd.jupyter.widget-view+json": {
       "model_id": "6fa0b3ec692e4c7aa1eef5e6fbf3f899",
       "version_major": 2,
       "version_minor": 0
      },
      "text/plain": [
       "  0%|          | 0/200 [00:00<?, ?ex/s]"
      ]
     },
     "metadata": {},
     "output_type": "display_data"
    },
    {
     "name": "stdout",
     "output_type": "stream",
     "text": [
      "computing prediction...\n"
     ]
    },
    {
     "data": {
      "application/vnd.jupyter.widget-view+json": {
       "model_id": "ce384a5204004294bbed65d8262fc9c3",
       "version_major": 2,
       "version_minor": 0
      },
      "text/plain": [
       "  0%|          | 0/200 [00:00<?, ?ex/s]"
      ]
     },
     "metadata": {},
     "output_type": "display_data"
    },
    {
     "name": "stdout",
     "output_type": "stream",
     "text": [
      "wer= 84.9 %.\n",
      "----------\n",
      "downsampling to 1000 Hz...\n"
     ]
    },
    {
     "data": {
      "application/vnd.jupyter.widget-view+json": {
       "model_id": "dbc5dbfadef349938466fc55c1d25239",
       "version_major": 2,
       "version_minor": 0
      },
      "text/plain": [
       "  0%|          | 0/200 [00:00<?, ?ex/s]"
      ]
     },
     "metadata": {},
     "output_type": "display_data"
    },
    {
     "name": "stdout",
     "output_type": "stream",
     "text": [
      "computing prediction...\n"
     ]
    },
    {
     "data": {
      "application/vnd.jupyter.widget-view+json": {
       "model_id": "ed1c57bce9cb48569896f07d0dde313c",
       "version_major": 2,
       "version_minor": 0
      },
      "text/plain": [
       "  0%|          | 0/200 [00:00<?, ?ex/s]"
      ]
     },
     "metadata": {},
     "output_type": "display_data"
    },
    {
     "name": "stdout",
     "output_type": "stream",
     "text": [
      "wer= 99.2 %.\n",
      "----------\n",
      "downsampling to 500 Hz...\n"
     ]
    },
    {
     "data": {
      "application/vnd.jupyter.widget-view+json": {
       "model_id": "f10c880a80fd46a8a356542acced4429",
       "version_major": 2,
       "version_minor": 0
      },
      "text/plain": [
       "  0%|          | 0/200 [00:00<?, ?ex/s]"
      ]
     },
     "metadata": {},
     "output_type": "display_data"
    },
    {
     "name": "stdout",
     "output_type": "stream",
     "text": [
      "computing prediction...\n"
     ]
    },
    {
     "data": {
      "application/vnd.jupyter.widget-view+json": {
       "model_id": "ac00674e74ed4bffabc1cff25fdc479e",
       "version_major": 2,
       "version_minor": 0
      },
      "text/plain": [
       "  0%|          | 0/200 [00:00<?, ?ex/s]"
      ]
     },
     "metadata": {},
     "output_type": "display_data"
    },
    {
     "name": "stdout",
     "output_type": "stream",
     "text": [
      "wer= 100.0 %.\n"
     ]
    }
   ],
   "source": [
    "for idx in range(len(ds_rates)-1):\n",
    "    print(10 * '-')\n",
    "    print('downsampling to ' + str(ds_rates[idx+1]) + ' Hz...')\n",
    "    tiny_dataset_ds = tiny_dataset.map(utils.map_to_downsampled, fn_kwargs={\"input_sr\": 16000, \"output_sr\": ds_rates[idx+1]})\n",
    "    print('computing prediction...')\n",
    "    tiny_dataset_ds_preds = tiny_dataset_ds.map(utils.map_to_pred, fn_kwargs={\"model\": model, \"tokenizer\": tokenizer})\n",
    "    wer = utils.wer(tiny_dataset_ds_preds[\"ground_truth\"], tiny_dataset_ds_preds[\"transcription\"])\n",
    "    print('wer=', round(100 * wer, 1), '%.')\n",
    "    wers.append(wer)"
   ]
  },
  {
   "cell_type": "code",
   "execution_count": 11,
   "id": "ce7db499-7b4a-4894-8edf-39f80d9b9217",
   "metadata": {},
   "outputs": [
    {
     "name": "stdout",
     "output_type": "stream",
     "text": [
      "[0.03019627579265224, 0.03799698037242073, 0.19828887770508305, 0.8490186210367388, 0.9921992954202316, 1.0]\n"
     ]
    }
   ],
   "source": [
    "print(wers)"
   ]
  },
  {
   "cell_type": "markdown",
   "id": "74e49541-237f-4006-b94c-52a2e7fb7508",
   "metadata": {},
   "source": [
    "## 5. Plot WERS"
   ]
  },
  {
   "cell_type": "code",
   "execution_count": 6,
   "id": "cac18dcb-d32e-4c7d-85b9-d69902342342",
   "metadata": {},
   "outputs": [],
   "source": [
    "ds_rates = [16000,8000,4000,2000,1000,500]\n",
    "wers = [0.03019627579265224, 0.03799698037242073, 0.19828887770508305, 0.8490186210367388, 0.9921992954202316, 1.0]"
   ]
  },
  {
   "cell_type": "code",
   "execution_count": 7,
   "id": "511e7942-2923-439f-abb4-250b7b4ca163",
   "metadata": {},
   "outputs": [],
   "source": [
    "import matplotlib.pyplot as plt"
   ]
  },
  {
   "cell_type": "code",
   "execution_count": 10,
   "id": "842b5d1d-1222-417d-9656-1c09ca5f2cf8",
   "metadata": {},
   "outputs": [
    {
     "name": "stderr",
     "output_type": "stream",
     "text": [
      "/opt/conda/lib/python3.7/site-packages/ipykernel_launcher.py:10: UserWarning: FixedFormatter should only be used together with FixedLocator\n",
      "  # Remove the CWD from sys.path while we load stuff.\n"
     ]
    },
    {
     "data": {
      "image/png": "[encoded data removed]",
      "text/plain": [
       "<Figure size 432x288 with 1 Axes>"
      ]
     },
     "metadata": {
      "needs_background": "light"
     },
     "output_type": "display_data"
    }
   ],
   "source": [
    "# set figure\n",
    "fig, ax = plt.subplots(figsize=(6, 4))\n",
    "ax.plot(ds_rates, [100 * wer for wer in wers])\n",
    "ax.set_xlim(0,16000)\n",
    "fig.canvas.draw()\n",
    "\n",
    "# set new tick labels\n",
    "labels = [item.get_text() for item in ax.get_xticklabels()]\n",
    "new_labels = [str(int(int(label) / 1000)) for label in labels]\n",
    "ax.set_xticklabels(new_labels)\n",
    "\n",
    "# plot\n",
    "plt.xlabel(\"sampe rate (kHz)\")\n",
    "plt.ylabel(\"WER (%)\")\n",
    "ax.invert_xaxis()\n",
    "plt.title(\"Wav2Vec2.0 on downsampled librispeech\")\n",
    "plt.show()"
   ]
  },
  {
   "cell_type": "code",
   "execution_count": null,
   "id": "9c2b140b-898d-48db-a33f-a71672b164e6",
   "metadata": {},
   "outputs": [],
   "source": []
  }
 ],
 "metadata": {
  "environment": {
   "kernel": "python3",
   "name": "pytorch-gpu.1-10.m90",
   "type": "gcloud",
   "uri": "gcr.io/deeplearning-platform-release/pytorch-gpu.1-10:m90"
  },
  "kernelspec": {
   "display_name": "Python 3",
   "language": "python",
   "name": "python3"
  },
  "language_info": {
   "codemirror_mode": {
    "name": "ipython",
    "version": 3
   },
   "file_extension": ".py",
   "mimetype": "text/x-python",
   "name": "python",
   "nbconvert_exporter": "python",
   "pygments_lexer": "ipython3",
   "version": "3.7.12"
  },
  "vscode": {
   "interpreter": {
    "hash": "b83e1c8d58c796f65d68445f553b9f4c555256228ca92f71880f99f509ba716c"
   }
  }
 },
 "nbformat": 4,
 "nbformat_minor": 5
}
