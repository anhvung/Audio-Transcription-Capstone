{
 "cells": [
  {
   "cell_type": "markdown",
   "id": "12b7c0c7",
   "metadata": {},
   "source": [
    "# All plots related to raw Wav2Vec2.0"
   ]
  },
  {
   "cell_type": "code",
   "execution_count": 2,
   "id": "0c42c366-22e7-4585-ad0e-ba04020aeb0b",
   "metadata": {},
   "outputs": [],
   "source": [
    "import matplotlib.pyplot as plt\n",
    "import utils"
   ]
  },
  {
   "cell_type": "markdown",
   "id": "f65fb5e6",
   "metadata": {},
   "source": [
    "## 1. Plots of Wav2Vec2.0 on Librispeech test-clean downsampled across a range of rates"
   ]
  },
  {
   "cell_type": "markdown",
   "id": "653c16ae-f2d3-4b7a-a7f1-4302a3bdf3ae",
   "metadata": {},
   "source": [
    "## 1. Load predictions"
   ]
  },
  {
   "cell_type": "code",
   "execution_count": 3,
   "id": "1630dff8-3c70-47b1-96af-03f7b317ed6b",
   "metadata": {},
   "outputs": [
    {
     "name": "stdout",
     "output_type": "stream",
     "text": [
      "Skipping existing item: file://./predictions/lr_clean_test_ds_1000Hz_w2v2_base_960h/dataset.arrow\n",
      "Skipping existing item: file://./predictions/lr_clean_test_ds_1000Hz_w2v2_base_960h/dataset_info.json\n",
      "Skipping existing item: file://./predictions/lr_clean_test_ds_1000Hz_w2v2_base_960h/state.json\n",
      "Skipping existing item: file://./predictions/lr_clean_test_ds_16000Hz_w2v2_base_960h/dataset_info.json\n",
      "Skipping existing item: file://./predictions/lr_clean_test_ds_16000Hz_w2v2_base_960h/dataset.arrow\n",
      "Skipping existing item: file://./predictions/lr_clean_test_ds_16000Hz_w2v2_base_960h/state.json\n",
      "Skipping existing item: file://./predictions/lr_clean_test_ds_2000Hz_w2v2_base_960h/dataset.arrow\n",
      "Skipping existing item: file://./predictions/lr_clean_test_ds_2000Hz_w2v2_base_960h/dataset_info.json\n",
      "Skipping existing item: file://./predictions/lr_clean_test_ds_4000Hz_w2v2_base_960h/dataset.arrow\n",
      "Skipping existing item: file://./predictions/lr_clean_test_ds_2000Hz_w2v2_base_960h/state.json\n",
      "Skipping existing item: file://./predictions/lr_clean_test_ds_4000Hz_w2v2_base_960h/dataset_info.json\n",
      "Skipping existing item: file://./predictions/lr_clean_test_ds_4000Hz_w2v2_base_960h/state.json\n",
      "Skipping existing item: file://./predictions/lr_clean_test_ds_500Hz_w2v2_base_960h/dataset.arrow\n",
      "Skipping existing item: file://./predictions/lr_clean_test_ds_500Hz_w2v2_base_960h/dataset_info.json\n",
      "Skipping existing item: file://./predictions/lr_clean_test_ds_8000Hz_w2v2_base_960h/dataset.arrow\n",
      "Skipping existing item: file://./predictions/lr_clean_test_ds_500Hz_w2v2_base_960h/state.json\n",
      "Skipping existing item: file://./predictions/lr_clean_test_ds_8000Hz_w2v2_base_960h/dataset_info.json\n",
      "Skipping existing item: file://./predictions/lr_clean_test_ds_8000Hz_w2v2_base_960h/state.json\n",
      "Skipping existing item: file://./predictions/lr_clean_test_w2v2_base_960h/dataset_info.json\n",
      "Skipping existing item: file://./predictions/lr_clean_test_w2v2_base_960h/dataset.arrow\n",
      "Skipping existing item: file://./predictions/lr_clean_test_w2v2_base_960h/state.json\n"
     ]
    }
   ],
   "source": [
    "!gsutil -m cp -n -r gs://capstone_datasets/librispeech/test/predictions/* ./predictions/"
   ]
  },
  {
   "cell_type": "markdown",
   "id": "17332109",
   "metadata": {},
   "source": [
    "## 2. Compute WERs"
   ]
  },
  {
   "cell_type": "code",
   "execution_count": 4,
   "id": "67163eb9",
   "metadata": {},
   "outputs": [
    {
     "name": "stdout",
     "output_type": "stream",
     "text": [
      "ds_rate = 16000 Hz : wer = 3.4 %.\n",
      "ds_rate = 8000 Hz : wer = 4.2 %.\n",
      "ds_rate = 4000 Hz : wer = 20.3 %.\n",
      "ds_rate = 2000 Hz : wer = 84.9 %.\n",
      "ds_rate = 1000 Hz : wer = 99.2 %.\n",
      "ds_rate = 500 Hz : wer = 100.0 %.\n"
     ]
    }
   ],
   "source": [
    "prefix, suffix = 'lr_clean_test_ds_', 'Hz_w2v2_base_960h'\n",
    "ds_rates = [int(2**k * 1000) for k in range(4,-2,-1)]\n",
    "wers = []\n",
    "\n",
    "for ds_rate in ds_rates:\n",
    "    dataset = utils.load_from_disk(utils.os.path.join(utils.predictions_path, prefix + str(ds_rate) + suffix))\n",
    "    wer = utils.wer(dataset['ground_truth'], dataset['transcription'])\n",
    "    print('ds_rate = {} Hz : wer = {} {}'.format(ds_rate, round(100 * wer, 1), '%.'))\n",
    "    wers.append(wer)\n"
   ]
  },
  {
   "cell_type": "code",
   "execution_count": 5,
   "id": "ce7db499-7b4a-4894-8edf-39f80d9b9217",
   "metadata": {},
   "outputs": [
    {
     "name": "stdout",
     "output_type": "stream",
     "text": [
      "[0.0338557516737675, 0.04161594643944005, 0.20250684723067558, 0.8493609251369446, 0.9918974437005478, 0.9999048995739501]\n"
     ]
    }
   ],
   "source": [
    "print(wers)"
   ]
  },
  {
   "cell_type": "markdown",
   "id": "74e49541-237f-4006-b94c-52a2e7fb7508",
   "metadata": {},
   "source": [
    "## 3. Draw plots"
   ]
  },
  {
   "cell_type": "code",
   "execution_count": 6,
   "id": "cac18dcb-d32e-4c7d-85b9-d69902342342",
   "metadata": {},
   "outputs": [],
   "source": [
    "#ds_rates = [16000,8000,4000,2000,1000,500]\n",
    "#wers = [0.0338557516737675, 0.04161594643944005, 0.20250684723067558, 0.8493609251369446, 0.9918974437005478, 0.9999048995739501]"
   ]
  },
  {
   "cell_type": "code",
   "execution_count": 7,
   "id": "63a442ef",
   "metadata": {},
   "outputs": [],
   "source": [
    "ds_rates = [r / 1000 for r in ds_rates]"
   ]
  },
  {
   "cell_type": "code",
   "execution_count": 8,
   "id": "832d86ec",
   "metadata": {},
   "outputs": [
    {
     "data": {
      "text/plain": [
       "[16.0, 8.0, 4.0, 2.0, 1.0, 0.5]"
      ]
     },
     "execution_count": 8,
     "metadata": {},
     "output_type": "execute_result"
    }
   ],
   "source": [
    "ds_rates"
   ]
  },
  {
   "cell_type": "code",
   "execution_count": 17,
   "id": "842b5d1d-1222-417d-9656-1c09ca5f2cf8",
   "metadata": {},
   "outputs": [
    {
     "name": "stderr",
     "output_type": "stream",
     "text": [
      "/opt/conda/lib/python3.7/site-packages/ipykernel_launcher.py:7: UserWarning: FixedFormatter should only be used together with FixedLocator\n",
      "  import sys\n"
     ]
    },
    {
     "data": {
      "image/png": "[encoded data removed]",
      "text/plain": [
       "<Figure size 432x288 with 1 Axes>"
      ]
     },
     "metadata": {
      "needs_background": "light"
     },
     "output_type": "display_data"
    }
   ],
   "source": [
    "wers_percents = [100 * wer for wer in wers]\n",
    "x_values = [1, 2, 3, 4, 5, 6]\n",
    "\n",
    "# set figure\n",
    "fig, ax = plt.subplots(figsize=(6, 4))\n",
    "ax.plot(x_values, wers_percents, linewidth = 3, color='darkred')\n",
    "ax.set_xticklabels([0, '16 \\n original', 8, 4, 2, 1, 0.5])\n",
    "for xc in x_values:\n",
    "    plt.axvline(x=xc, color='grey', linewidth=0.25)\n",
    "fig.canvas.draw()\n",
    "\n",
    "# plot\n",
    "plt.xlabel('sample rate (kHz)')\n",
    "plt.ylabel('WER (%)')\n",
    "plt.title('WER Wav2Vec2.0 on downsampled librispeech test-clean')\n",
    "plt.figtext(0.77, 0.15, r'$\\longrightarrow$ downsample', ha='center')\n",
    "plt.show()"
   ]
  },
  {
   "cell_type": "code",
   "execution_count": 20,
   "id": "f65fa64d",
   "metadata": {},
   "outputs": [
    {
     "name": "stderr",
     "output_type": "stream",
     "text": [
      "/opt/conda/lib/python3.7/site-packages/ipykernel_launcher.py:7: UserWarning: FixedFormatter should only be used together with FixedLocator\n",
      "  import sys\n"
     ]
    },
    {
     "data": {
      "image/png": "[encoded data removed]",
      "text/plain": [
       "<Figure size 432x288 with 1 Axes>"
      ]
     },
     "metadata": {
      "needs_background": "light"
     },
     "output_type": "display_data"
    }
   ],
   "source": [
    "wers_percents = [100 * wer for wer in wers]\n",
    "x_values = [1, 2, 3, 4, 5, 6]\n",
    "\n",
    "# set figure\n",
    "fig, ax = plt.subplots(figsize=(6, 4))\n",
    "ax.bar(x_values, wers_percents, width = 0.5, color='darkred')\n",
    "ax.set_xticklabels([0, '16 \\n original', 8, 4, 2, 1, 0.5])\n",
    "for xc in x_values:\n",
    "    plt.axvline(x=xc, color='grey', linewidth=0.25)\n",
    "fig.canvas.draw()\n",
    "\n",
    "# plot\n",
    "plt.xlabel('sample rate (kHz)')\n",
    "plt.ylabel('WER (%)')\n",
    "plt.title('WER Wav2Vec2.0 on downsampled librispeech test-clean')\n",
    "plt.figtext(0.8, 0.01, r'$\\longrightarrow$ downsample', ha='center')\n",
    "plt.show()"
   ]
  }
 ],
 "metadata": {
  "environment": {
   "kernel": "python3",
   "name": "pytorch-gpu.1-10.m90",
   "type": "gcloud",
   "uri": "gcr.io/deeplearning-platform-release/pytorch-gpu.1-10:m90"
  },
  "kernelspec": {
   "display_name": "Python 3.7.12 ('base')",
   "language": "python",
   "name": "python3"
  },
  "language_info": {
   "codemirror_mode": {
    "name": "ipython",
    "version": 3
   },
   "file_extension": ".py",
   "mimetype": "text/x-python",
   "name": "python",
   "nbconvert_exporter": "python",
   "pygments_lexer": "ipython3",
   "version": "3.7.12"
  },
  "vscode": {
   "interpreter": {
    "hash": "d4d1e4263499bec80672ea0156c357c1ee493ec2b1c70f0acce89fc37c4a6abe"
   }
  }
 },
 "nbformat": 4,
 "nbformat_minor": 5
}
